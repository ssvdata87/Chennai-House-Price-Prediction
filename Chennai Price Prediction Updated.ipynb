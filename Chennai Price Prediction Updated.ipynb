{
 "cells": [
  {
   "cell_type": "markdown",
   "id": "9e8b4632",
   "metadata": {},
   "source": [
    "# This project helps customers predict home price in Chennai"
   ]
  },
  {
   "cell_type": "code",
   "execution_count": 1,
   "id": "f70846f0",
   "metadata": {},
   "outputs": [],
   "source": [
    "import pandas as pd\n",
    "import numpy as np\n",
    "import matplotlib.pyplot as plt\n",
    "import seaborn as sns"
   ]
  },
  {
   "cell_type": "code",
   "execution_count": 2,
   "id": "f0614670",
   "metadata": {},
   "outputs": [
    {
     "data": {
      "text/html": [
       "<div>\n",
       "<style scoped>\n",
       "    .dataframe tbody tr th:only-of-type {\n",
       "        vertical-align: middle;\n",
       "    }\n",
       "\n",
       "    .dataframe tbody tr th {\n",
       "        vertical-align: top;\n",
       "    }\n",
       "\n",
       "    .dataframe thead th {\n",
       "        text-align: right;\n",
       "    }\n",
       "</style>\n",
       "<table border=\"1\" class=\"dataframe\">\n",
       "  <thead>\n",
       "    <tr style=\"text-align: right;\">\n",
       "      <th></th>\n",
       "      <th>PRT_ID</th>\n",
       "      <th>AREA</th>\n",
       "      <th>INT_SQFT</th>\n",
       "      <th>DATE_SALE</th>\n",
       "      <th>DIST_MAINROAD</th>\n",
       "      <th>N_BEDROOM</th>\n",
       "      <th>N_BATHROOM</th>\n",
       "      <th>N_ROOM</th>\n",
       "      <th>SALE_COND</th>\n",
       "      <th>PARK_FACIL</th>\n",
       "      <th>...</th>\n",
       "      <th>UTILITY_AVAIL</th>\n",
       "      <th>STREET</th>\n",
       "      <th>MZZONE</th>\n",
       "      <th>QS_ROOMS</th>\n",
       "      <th>QS_BATHROOM</th>\n",
       "      <th>QS_BEDROOM</th>\n",
       "      <th>QS_OVERALL</th>\n",
       "      <th>REG_FEE</th>\n",
       "      <th>COMMIS</th>\n",
       "      <th>SALES_PRICE</th>\n",
       "    </tr>\n",
       "  </thead>\n",
       "  <tbody>\n",
       "    <tr>\n",
       "      <th>0</th>\n",
       "      <td>P03210</td>\n",
       "      <td>Karapakkam</td>\n",
       "      <td>1004</td>\n",
       "      <td>04-05-2011</td>\n",
       "      <td>131</td>\n",
       "      <td>1.0</td>\n",
       "      <td>1.0</td>\n",
       "      <td>3</td>\n",
       "      <td>AbNormal</td>\n",
       "      <td>Yes</td>\n",
       "      <td>...</td>\n",
       "      <td>AllPub</td>\n",
       "      <td>Paved</td>\n",
       "      <td>A</td>\n",
       "      <td>4.0</td>\n",
       "      <td>3.9</td>\n",
       "      <td>4.9</td>\n",
       "      <td>4.330</td>\n",
       "      <td>380000</td>\n",
       "      <td>144400</td>\n",
       "      <td>7600000</td>\n",
       "    </tr>\n",
       "    <tr>\n",
       "      <th>1</th>\n",
       "      <td>P09411</td>\n",
       "      <td>Anna Nagar</td>\n",
       "      <td>1986</td>\n",
       "      <td>19-12-2006</td>\n",
       "      <td>26</td>\n",
       "      <td>2.0</td>\n",
       "      <td>1.0</td>\n",
       "      <td>5</td>\n",
       "      <td>AbNormal</td>\n",
       "      <td>No</td>\n",
       "      <td>...</td>\n",
       "      <td>AllPub</td>\n",
       "      <td>Gravel</td>\n",
       "      <td>RH</td>\n",
       "      <td>4.9</td>\n",
       "      <td>4.2</td>\n",
       "      <td>2.5</td>\n",
       "      <td>3.765</td>\n",
       "      <td>760122</td>\n",
       "      <td>304049</td>\n",
       "      <td>21717770</td>\n",
       "    </tr>\n",
       "    <tr>\n",
       "      <th>2</th>\n",
       "      <td>P01812</td>\n",
       "      <td>Adyar</td>\n",
       "      <td>909</td>\n",
       "      <td>04-02-2012</td>\n",
       "      <td>70</td>\n",
       "      <td>1.0</td>\n",
       "      <td>1.0</td>\n",
       "      <td>3</td>\n",
       "      <td>AbNormal</td>\n",
       "      <td>Yes</td>\n",
       "      <td>...</td>\n",
       "      <td>ELO</td>\n",
       "      <td>Gravel</td>\n",
       "      <td>RL</td>\n",
       "      <td>4.1</td>\n",
       "      <td>3.8</td>\n",
       "      <td>2.2</td>\n",
       "      <td>3.090</td>\n",
       "      <td>421094</td>\n",
       "      <td>92114</td>\n",
       "      <td>13159200</td>\n",
       "    </tr>\n",
       "    <tr>\n",
       "      <th>3</th>\n",
       "      <td>P05346</td>\n",
       "      <td>Velachery</td>\n",
       "      <td>1855</td>\n",
       "      <td>13-03-2010</td>\n",
       "      <td>14</td>\n",
       "      <td>3.0</td>\n",
       "      <td>2.0</td>\n",
       "      <td>5</td>\n",
       "      <td>Family</td>\n",
       "      <td>No</td>\n",
       "      <td>...</td>\n",
       "      <td>NoSewr</td>\n",
       "      <td>Paved</td>\n",
       "      <td>I</td>\n",
       "      <td>4.7</td>\n",
       "      <td>3.9</td>\n",
       "      <td>3.6</td>\n",
       "      <td>4.010</td>\n",
       "      <td>356321</td>\n",
       "      <td>77042</td>\n",
       "      <td>9630290</td>\n",
       "    </tr>\n",
       "    <tr>\n",
       "      <th>4</th>\n",
       "      <td>P06210</td>\n",
       "      <td>Karapakkam</td>\n",
       "      <td>1226</td>\n",
       "      <td>05-10-2009</td>\n",
       "      <td>84</td>\n",
       "      <td>1.0</td>\n",
       "      <td>1.0</td>\n",
       "      <td>3</td>\n",
       "      <td>AbNormal</td>\n",
       "      <td>Yes</td>\n",
       "      <td>...</td>\n",
       "      <td>AllPub</td>\n",
       "      <td>Gravel</td>\n",
       "      <td>C</td>\n",
       "      <td>3.0</td>\n",
       "      <td>2.5</td>\n",
       "      <td>4.1</td>\n",
       "      <td>3.290</td>\n",
       "      <td>237000</td>\n",
       "      <td>74063</td>\n",
       "      <td>7406250</td>\n",
       "    </tr>\n",
       "  </tbody>\n",
       "</table>\n",
       "<p>5 rows × 22 columns</p>\n",
       "</div>"
      ],
      "text/plain": [
       "   PRT_ID        AREA  INT_SQFT   DATE_SALE  DIST_MAINROAD  N_BEDROOM  \\\n",
       "0  P03210  Karapakkam      1004  04-05-2011            131        1.0   \n",
       "1  P09411  Anna Nagar      1986  19-12-2006             26        2.0   \n",
       "2  P01812       Adyar       909  04-02-2012             70        1.0   \n",
       "3  P05346   Velachery      1855  13-03-2010             14        3.0   \n",
       "4  P06210  Karapakkam      1226  05-10-2009             84        1.0   \n",
       "\n",
       "   N_BATHROOM  N_ROOM SALE_COND PARK_FACIL  ... UTILITY_AVAIL  STREET MZZONE  \\\n",
       "0         1.0       3  AbNormal        Yes  ...        AllPub   Paved      A   \n",
       "1         1.0       5  AbNormal         No  ...        AllPub  Gravel     RH   \n",
       "2         1.0       3  AbNormal        Yes  ...           ELO  Gravel     RL   \n",
       "3         2.0       5    Family         No  ...       NoSewr    Paved      I   \n",
       "4         1.0       3  AbNormal        Yes  ...        AllPub  Gravel      C   \n",
       "\n",
       "  QS_ROOMS QS_BATHROOM  QS_BEDROOM  QS_OVERALL  REG_FEE  COMMIS  SALES_PRICE  \n",
       "0      4.0         3.9         4.9       4.330   380000  144400      7600000  \n",
       "1      4.9         4.2         2.5       3.765   760122  304049     21717770  \n",
       "2      4.1         3.8         2.2       3.090   421094   92114     13159200  \n",
       "3      4.7         3.9         3.6       4.010   356321   77042      9630290  \n",
       "4      3.0         2.5         4.1       3.290   237000   74063      7406250  \n",
       "\n",
       "[5 rows x 22 columns]"
      ]
     },
     "execution_count": 2,
     "metadata": {},
     "output_type": "execute_result"
    }
   ],
   "source": [
    "dataset=pd.read_csv('train-chennai-sale.csv')\n",
    "dataset.head()"
   ]
  },
  {
   "cell_type": "code",
   "execution_count": 3,
   "id": "f75851ef",
   "metadata": {},
   "outputs": [
    {
     "data": {
      "text/html": [
       "<div>\n",
       "<style scoped>\n",
       "    .dataframe tbody tr th:only-of-type {\n",
       "        vertical-align: middle;\n",
       "    }\n",
       "\n",
       "    .dataframe tbody tr th {\n",
       "        vertical-align: top;\n",
       "    }\n",
       "\n",
       "    .dataframe thead th {\n",
       "        text-align: right;\n",
       "    }\n",
       "</style>\n",
       "<table border=\"1\" class=\"dataframe\">\n",
       "  <thead>\n",
       "    <tr style=\"text-align: right;\">\n",
       "      <th></th>\n",
       "      <th>INT_SQFT</th>\n",
       "      <th>DIST_MAINROAD</th>\n",
       "      <th>N_BEDROOM</th>\n",
       "      <th>N_BATHROOM</th>\n",
       "      <th>N_ROOM</th>\n",
       "      <th>QS_ROOMS</th>\n",
       "      <th>QS_BATHROOM</th>\n",
       "      <th>QS_BEDROOM</th>\n",
       "      <th>QS_OVERALL</th>\n",
       "      <th>REG_FEE</th>\n",
       "      <th>COMMIS</th>\n",
       "      <th>SALES_PRICE</th>\n",
       "    </tr>\n",
       "  </thead>\n",
       "  <tbody>\n",
       "    <tr>\n",
       "      <th>count</th>\n",
       "      <td>7109.000000</td>\n",
       "      <td>7109.000000</td>\n",
       "      <td>7108.000000</td>\n",
       "      <td>7104.000000</td>\n",
       "      <td>7109.000000</td>\n",
       "      <td>7109.000000</td>\n",
       "      <td>7109.000000</td>\n",
       "      <td>7109.000000</td>\n",
       "      <td>7061.000000</td>\n",
       "      <td>7109.000000</td>\n",
       "      <td>7109.000000</td>\n",
       "      <td>7.109000e+03</td>\n",
       "    </tr>\n",
       "    <tr>\n",
       "      <th>mean</th>\n",
       "      <td>1382.073006</td>\n",
       "      <td>99.603179</td>\n",
       "      <td>1.637029</td>\n",
       "      <td>1.213260</td>\n",
       "      <td>3.688704</td>\n",
       "      <td>3.517471</td>\n",
       "      <td>3.507244</td>\n",
       "      <td>3.485300</td>\n",
       "      <td>3.503254</td>\n",
       "      <td>376938.330708</td>\n",
       "      <td>141005.726544</td>\n",
       "      <td>1.089491e+07</td>\n",
       "    </tr>\n",
       "    <tr>\n",
       "      <th>std</th>\n",
       "      <td>457.410902</td>\n",
       "      <td>57.403110</td>\n",
       "      <td>0.802902</td>\n",
       "      <td>0.409639</td>\n",
       "      <td>1.019099</td>\n",
       "      <td>0.891972</td>\n",
       "      <td>0.897834</td>\n",
       "      <td>0.887266</td>\n",
       "      <td>0.527223</td>\n",
       "      <td>143070.662010</td>\n",
       "      <td>78768.093718</td>\n",
       "      <td>3.768603e+06</td>\n",
       "    </tr>\n",
       "    <tr>\n",
       "      <th>min</th>\n",
       "      <td>500.000000</td>\n",
       "      <td>0.000000</td>\n",
       "      <td>1.000000</td>\n",
       "      <td>1.000000</td>\n",
       "      <td>2.000000</td>\n",
       "      <td>2.000000</td>\n",
       "      <td>2.000000</td>\n",
       "      <td>2.000000</td>\n",
       "      <td>2.000000</td>\n",
       "      <td>71177.000000</td>\n",
       "      <td>5055.000000</td>\n",
       "      <td>2.156875e+06</td>\n",
       "    </tr>\n",
       "    <tr>\n",
       "      <th>25%</th>\n",
       "      <td>993.000000</td>\n",
       "      <td>50.000000</td>\n",
       "      <td>1.000000</td>\n",
       "      <td>1.000000</td>\n",
       "      <td>3.000000</td>\n",
       "      <td>2.700000</td>\n",
       "      <td>2.700000</td>\n",
       "      <td>2.700000</td>\n",
       "      <td>3.130000</td>\n",
       "      <td>272406.000000</td>\n",
       "      <td>84219.000000</td>\n",
       "      <td>8.272100e+06</td>\n",
       "    </tr>\n",
       "    <tr>\n",
       "      <th>50%</th>\n",
       "      <td>1373.000000</td>\n",
       "      <td>99.000000</td>\n",
       "      <td>1.000000</td>\n",
       "      <td>1.000000</td>\n",
       "      <td>4.000000</td>\n",
       "      <td>3.500000</td>\n",
       "      <td>3.500000</td>\n",
       "      <td>3.500000</td>\n",
       "      <td>3.500000</td>\n",
       "      <td>349486.000000</td>\n",
       "      <td>127628.000000</td>\n",
       "      <td>1.033505e+07</td>\n",
       "    </tr>\n",
       "    <tr>\n",
       "      <th>75%</th>\n",
       "      <td>1744.000000</td>\n",
       "      <td>148.000000</td>\n",
       "      <td>2.000000</td>\n",
       "      <td>1.000000</td>\n",
       "      <td>4.000000</td>\n",
       "      <td>4.300000</td>\n",
       "      <td>4.300000</td>\n",
       "      <td>4.300000</td>\n",
       "      <td>3.890000</td>\n",
       "      <td>451562.000000</td>\n",
       "      <td>184506.000000</td>\n",
       "      <td>1.299390e+07</td>\n",
       "    </tr>\n",
       "    <tr>\n",
       "      <th>max</th>\n",
       "      <td>2500.000000</td>\n",
       "      <td>200.000000</td>\n",
       "      <td>4.000000</td>\n",
       "      <td>2.000000</td>\n",
       "      <td>6.000000</td>\n",
       "      <td>5.000000</td>\n",
       "      <td>5.000000</td>\n",
       "      <td>5.000000</td>\n",
       "      <td>4.970000</td>\n",
       "      <td>983922.000000</td>\n",
       "      <td>495405.000000</td>\n",
       "      <td>2.366734e+07</td>\n",
       "    </tr>\n",
       "  </tbody>\n",
       "</table>\n",
       "</div>"
      ],
      "text/plain": [
       "          INT_SQFT  DIST_MAINROAD    N_BEDROOM   N_BATHROOM       N_ROOM  \\\n",
       "count  7109.000000    7109.000000  7108.000000  7104.000000  7109.000000   \n",
       "mean   1382.073006      99.603179     1.637029     1.213260     3.688704   \n",
       "std     457.410902      57.403110     0.802902     0.409639     1.019099   \n",
       "min     500.000000       0.000000     1.000000     1.000000     2.000000   \n",
       "25%     993.000000      50.000000     1.000000     1.000000     3.000000   \n",
       "50%    1373.000000      99.000000     1.000000     1.000000     4.000000   \n",
       "75%    1744.000000     148.000000     2.000000     1.000000     4.000000   \n",
       "max    2500.000000     200.000000     4.000000     2.000000     6.000000   \n",
       "\n",
       "          QS_ROOMS  QS_BATHROOM   QS_BEDROOM   QS_OVERALL        REG_FEE  \\\n",
       "count  7109.000000  7109.000000  7109.000000  7061.000000    7109.000000   \n",
       "mean      3.517471     3.507244     3.485300     3.503254  376938.330708   \n",
       "std       0.891972     0.897834     0.887266     0.527223  143070.662010   \n",
       "min       2.000000     2.000000     2.000000     2.000000   71177.000000   \n",
       "25%       2.700000     2.700000     2.700000     3.130000  272406.000000   \n",
       "50%       3.500000     3.500000     3.500000     3.500000  349486.000000   \n",
       "75%       4.300000     4.300000     4.300000     3.890000  451562.000000   \n",
       "max       5.000000     5.000000     5.000000     4.970000  983922.000000   \n",
       "\n",
       "              COMMIS   SALES_PRICE  \n",
       "count    7109.000000  7.109000e+03  \n",
       "mean   141005.726544  1.089491e+07  \n",
       "std     78768.093718  3.768603e+06  \n",
       "min      5055.000000  2.156875e+06  \n",
       "25%     84219.000000  8.272100e+06  \n",
       "50%    127628.000000  1.033505e+07  \n",
       "75%    184506.000000  1.299390e+07  \n",
       "max    495405.000000  2.366734e+07  "
      ]
     },
     "execution_count": 3,
     "metadata": {},
     "output_type": "execute_result"
    }
   ],
   "source": [
    "dataset.describe()"
   ]
  },
  {
   "cell_type": "code",
   "execution_count": 4,
   "id": "42563de8",
   "metadata": {},
   "outputs": [
    {
     "data": {
      "text/plain": [
       "(7109, 22)"
      ]
     },
     "execution_count": 4,
     "metadata": {},
     "output_type": "execute_result"
    }
   ],
   "source": [
    "dataset.shape"
   ]
  },
  {
   "cell_type": "code",
   "execution_count": 5,
   "id": "5b8d5ba0",
   "metadata": {},
   "outputs": [
    {
     "data": {
      "text/plain": [
       "PRT_ID            0\n",
       "AREA              0\n",
       "INT_SQFT          0\n",
       "DATE_SALE         0\n",
       "DIST_MAINROAD     0\n",
       "N_BEDROOM         1\n",
       "N_BATHROOM        5\n",
       "N_ROOM            0\n",
       "SALE_COND         0\n",
       "PARK_FACIL        0\n",
       "DATE_BUILD        0\n",
       "BUILDTYPE         0\n",
       "UTILITY_AVAIL     0\n",
       "STREET            0\n",
       "MZZONE            0\n",
       "QS_ROOMS          0\n",
       "QS_BATHROOM       0\n",
       "QS_BEDROOM        0\n",
       "QS_OVERALL       48\n",
       "REG_FEE           0\n",
       "COMMIS            0\n",
       "SALES_PRICE       0\n",
       "dtype: int64"
      ]
     },
     "execution_count": 5,
     "metadata": {},
     "output_type": "execute_result"
    }
   ],
   "source": [
    "dataset.isnull().sum()"
   ]
  },
  {
   "cell_type": "markdown",
   "id": "b5b67cee",
   "metadata": {},
   "source": [
    "# Data Cleaning Starts"
   ]
  },
  {
   "cell_type": "markdown",
   "id": "5e14d016",
   "metadata": {},
   "source": [
    "## Missing Value Handling"
   ]
  },
  {
   "cell_type": "code",
   "execution_count": 6,
   "id": "4e7fcfb9",
   "metadata": {},
   "outputs": [],
   "source": [
    "dataset['N_BATHROOM'].fillna(dataset['N_BATHROOM'].mode()[0],inplace=True)\n",
    "dataset['N_BEDROOM'].fillna(dataset['N_BEDROOM'].mode()[0],inplace=True)\n",
    "dataset.QS_OVERALL = dataset.QS_OVERALL.fillna(dataset.QS_OVERALL.mean())"
   ]
  },
  {
   "cell_type": "code",
   "execution_count": 7,
   "id": "3848890d",
   "metadata": {},
   "outputs": [],
   "source": [
    "dataset=dataset.drop_duplicates()"
   ]
  },
  {
   "cell_type": "code",
   "execution_count": 8,
   "id": "35a4abad",
   "metadata": {},
   "outputs": [
    {
     "data": {
      "text/plain": [
       "(7109, 22)"
      ]
     },
     "execution_count": 8,
     "metadata": {},
     "output_type": "execute_result"
    }
   ],
   "source": [
    "dataset.shape"
   ]
  },
  {
   "cell_type": "code",
   "execution_count": 9,
   "id": "19454904",
   "metadata": {},
   "outputs": [
    {
     "data": {
      "text/plain": [
       "PRT_ID           0\n",
       "AREA             0\n",
       "INT_SQFT         0\n",
       "DATE_SALE        0\n",
       "DIST_MAINROAD    0\n",
       "N_BEDROOM        0\n",
       "N_BATHROOM       0\n",
       "N_ROOM           0\n",
       "SALE_COND        0\n",
       "PARK_FACIL       0\n",
       "DATE_BUILD       0\n",
       "BUILDTYPE        0\n",
       "UTILITY_AVAIL    0\n",
       "STREET           0\n",
       "MZZONE           0\n",
       "QS_ROOMS         0\n",
       "QS_BATHROOM      0\n",
       "QS_BEDROOM       0\n",
       "QS_OVERALL       0\n",
       "REG_FEE          0\n",
       "COMMIS           0\n",
       "SALES_PRICE      0\n",
       "dtype: int64"
      ]
     },
     "execution_count": 9,
     "metadata": {},
     "output_type": "execute_result"
    }
   ],
   "source": [
    "dataset.isnull().sum()"
   ]
  },
  {
   "cell_type": "markdown",
   "id": "6a10b212",
   "metadata": {},
   "source": [
    "### Deleting uncessary colums which is lead to wrong prediction"
   ]
  },
  {
   "cell_type": "code",
   "execution_count": 10,
   "id": "2d572559",
   "metadata": {},
   "outputs": [],
   "source": [
    "df=dataset.drop(['PRT_ID','REG_FEE','COMMIS'],axis=1)"
   ]
  },
  {
   "cell_type": "code",
   "execution_count": 11,
   "id": "02106456",
   "metadata": {},
   "outputs": [
    {
     "data": {
      "text/plain": [
       "AREA              object\n",
       "INT_SQFT           int64\n",
       "DATE_SALE         object\n",
       "DIST_MAINROAD      int64\n",
       "N_BEDROOM        float64\n",
       "N_BATHROOM       float64\n",
       "N_ROOM             int64\n",
       "SALE_COND         object\n",
       "PARK_FACIL        object\n",
       "DATE_BUILD        object\n",
       "BUILDTYPE         object\n",
       "UTILITY_AVAIL     object\n",
       "STREET            object\n",
       "MZZONE            object\n",
       "QS_ROOMS         float64\n",
       "QS_BATHROOM      float64\n",
       "QS_BEDROOM       float64\n",
       "QS_OVERALL       float64\n",
       "SALES_PRICE        int64\n",
       "dtype: object"
      ]
     },
     "execution_count": 11,
     "metadata": {},
     "output_type": "execute_result"
    }
   ],
   "source": [
    "df.dtypes"
   ]
  },
  {
   "cell_type": "markdown",
   "id": "89c2e78c",
   "metadata": {},
   "source": [
    "## Changing correct data type"
   ]
  },
  {
   "cell_type": "code",
   "execution_count": 12,
   "id": "108befd5",
   "metadata": {},
   "outputs": [
    {
     "data": {
      "text/plain": [
       "AREA              object\n",
       "INT_SQFT           int64\n",
       "DATE_SALE         object\n",
       "DIST_MAINROAD      int64\n",
       "N_BEDROOM          int32\n",
       "N_BATHROOM         int32\n",
       "N_ROOM             int64\n",
       "SALE_COND         object\n",
       "PARK_FACIL        object\n",
       "DATE_BUILD        object\n",
       "BUILDTYPE         object\n",
       "UTILITY_AVAIL     object\n",
       "STREET            object\n",
       "MZZONE            object\n",
       "QS_ROOMS         float64\n",
       "QS_BATHROOM      float64\n",
       "QS_BEDROOM       float64\n",
       "QS_OVERALL       float64\n",
       "SALES_PRICE        int64\n",
       "dtype: object"
      ]
     },
     "execution_count": 12,
     "metadata": {},
     "output_type": "execute_result"
    }
   ],
   "source": [
    "#df['DATE_SALE']=pd.to_datetime(df['DATE_SALE'],format='%d-%m-%Y')\n",
    "#df['DATE_BUILD']=pd.to_datetime(df['DATE_BUILD'],format='%d-%m-%Y')\n",
    "df['N_BEDROOM']=df['N_BEDROOM'].astype(int)\n",
    "df['N_BATHROOM']=df['QS_BATHROOM'].astype(int)\n",
    "df.dtypes"
   ]
  },
  {
   "cell_type": "markdown",
   "id": "a8033faf",
   "metadata": {},
   "source": [
    "### On analysis of this dataset, we find every categorical data column contains spelling mistakes"
   ]
  },
  {
   "cell_type": "markdown",
   "id": "3e24bdb5",
   "metadata": {},
   "source": [
    "#### so we need correct them"
   ]
  },
  {
   "cell_type": "code",
   "execution_count": 13,
   "id": "4dc787ba",
   "metadata": {},
   "outputs": [
    {
     "name": "stdout",
     "output_type": "stream",
     "text": [
      "['Karapakkam' 'Anna Nagar' 'Adyar' 'Velachery' 'Chrompet' 'KK Nagar'\n",
      " 'TNagar' 'T Nagar' 'Chrompt' 'Chrmpet' 'Karapakam' 'Ana Nagar' 'Chormpet'\n",
      " 'Adyr' 'Velchery' 'Ann Nagar' 'KKNagar']\n",
      "['AbNormal' 'Family' 'Partial' 'AdjLand' 'Normal Sale' 'Ab Normal'\n",
      " 'Partiall' 'Adj Land' 'PartiaLl']\n",
      "['Yes' 'No' 'Noo']\n",
      "['Commercial' 'Others' 'Other' 'House' 'Comercial']\n",
      "['AllPub' 'ELO' 'NoSewr ' 'NoSeWa' 'All Pub']\n",
      "['Paved' 'Gravel' 'No Access' 'Pavd' 'NoAccess']\n",
      "['A' 'RH' 'RL' 'I' 'C' 'RM']\n"
     ]
    }
   ],
   "source": [
    "print(df['AREA'].unique())\n",
    "\n",
    "print(df['SALE_COND'].unique())\n",
    "\n",
    "print(df['PARK_FACIL'].unique())\n",
    "\n",
    "print(df['BUILDTYPE'].unique())\n",
    "\n",
    "print(df['UTILITY_AVAIL'].unique())\n",
    "\n",
    "print(df['STREET'].unique())\n",
    "\n",
    "print(df['MZZONE'].unique())"
   ]
  },
  {
   "cell_type": "markdown",
   "id": "bba39af5",
   "metadata": {},
   "source": [
    "## correcting the spelling mistakes"
   ]
  },
  {
   "cell_type": "code",
   "execution_count": 14,
   "id": "7185e095",
   "metadata": {},
   "outputs": [],
   "source": [
    "#df['AREA'].replace(['Karapakam'],'karapakkam',inplace=True)\n",
    "df.loc[df[\"AREA\"] == \"Karapakam\", \"AREA\"] = 'Karapakkam'\n",
    "\n",
    "df.loc[df[\"AREA\"] == \"Ana Nagar\", \"AREA\"] = 'Anna Nagar'\n",
    "\n",
    "df.loc[df[\"AREA\"] == \"Adyr\", \"AREA\"] = 'Adyar'\n",
    "\n",
    "df.loc[df[\"AREA\"] == \"Ann Nagar\", \"AREA\"] = 'Anna Nagar'\n",
    "\n",
    "df.loc[df[\"AREA\"] == \"Chormpet\", \"AREA\"] = 'Chrompet'\n",
    "\n",
    "df.loc[df[\"AREA\"] == \"Chrompt\", \"AREA\"] = 'Chrompet'\n",
    "\n",
    "df.loc[df[\"AREA\"] == \"Chrmpet\", \"AREA\"] = 'Chrompet'\n",
    "\n",
    "df.loc[df[\"AREA\"] == \"KKNagar\", \"AREA\"] = 'KK Nagar'\n",
    "\n",
    "df.loc[df[\"AREA\"] == \"TNagar\", \"AREA\"] = 'T Nagar'\n",
    "\n",
    "df.loc[df[\"AREA\"] == \"Velchery\", \"AREA\"] = 'Velachery'\n",
    "\n",
    "df.loc[df[\"SALE_COND\"] == 'Ab Normal', 'SALE_COND'] = 'AbNormal'\n",
    "\n",
    "df.loc[df['SALE_COND']=='Partiall','SALE_COND']='Partial'\n",
    "\n",
    "df.loc[df['SALE_COND']=='PartiaLl','SALE_COND']='Partial'\n",
    "\n",
    "df.loc[df['SALE_COND']=='Adj Land','SALE_COND']='AdjLand'\n",
    "\n",
    "df.loc[df['PARK_FACIL']=='Noo','PARK_FACIL']='No'\n",
    "\n",
    "df.loc[df['BUILDTYPE']=='Other','BUILDTYPE']='Others'\n",
    "\n",
    "df.loc[df['BUILDTYPE']=='Comercial','BUILDTYPE']='Commercial'\n",
    "\n",
    "df.loc[df['UTILITY_AVAIL']=='AllPub','UTILITY_AVAIL']='All Pub'\n",
    "\n",
    "df.loc[df['UTILITY_AVAIL']=='NoSeWa','UTILITY_AVAIL']='NoSewr'\n",
    "\n",
    "df.loc[df['UTILITY_AVAIL']=='NoSewr ','UTILITY_AVAIL']='NoSewr'\n",
    "\n",
    "#df['AREA'].replace(['NoSeWa'],'NoSewr ',inplace=True)\n",
    "\n",
    "df.loc[df['STREET']=='Pavd','STREET']='Paved'\n",
    "\n",
    "df.loc[df['STREET']=='NoAccess','STREET']='No Access'"
   ]
  },
  {
   "cell_type": "code",
   "execution_count": 15,
   "id": "5ba94f7a",
   "metadata": {},
   "outputs": [
    {
     "name": "stdout",
     "output_type": "stream",
     "text": [
      "['Karapakkam' 'Anna Nagar' 'Adyar' 'Velachery' 'Chrompet' 'KK Nagar'\n",
      " 'T Nagar']\n",
      "['AbNormal' 'Family' 'Partial' 'AdjLand' 'Normal Sale']\n",
      "['Yes' 'No']\n",
      "['Commercial' 'Others' 'House']\n",
      "['All Pub' 'ELO' 'NoSewr']\n",
      "['Paved' 'Gravel' 'No Access']\n",
      "['A' 'RH' 'RL' 'I' 'C' 'RM']\n"
     ]
    }
   ],
   "source": [
    "print(df['AREA'].unique())\n",
    "print(df['SALE_COND'].unique())\n",
    "print(df['PARK_FACIL'].unique())\n",
    "print(df['BUILDTYPE'].unique())\n",
    "print(df['UTILITY_AVAIL'].unique())\n",
    "print(df['STREET'].unique())\n",
    "print(df['MZZONE'].unique())\n"
   ]
  },
  {
   "cell_type": "markdown",
   "id": "c3c72e95",
   "metadata": {},
   "source": [
    "## Creating AGE and SALE YEAR columns From Date of DATE_BUILD and DATE_SALE"
   ]
  },
  {
   "cell_type": "code",
   "execution_count": 16,
   "id": "f00d573c",
   "metadata": {},
   "outputs": [],
   "source": [
    "y=df['DATE_BUILD'].str[6:]\n",
    "ser = pd.Series(y)\n",
    "year=pd.to_numeric(ser, downcast ='signed')\n",
    "Age=2022-year"
   ]
  },
  {
   "cell_type": "code",
   "execution_count": 17,
   "id": "d856253a",
   "metadata": {},
   "outputs": [],
   "source": [
    "df['Age']=Age #Age column added to df"
   ]
  },
  {
   "cell_type": "code",
   "execution_count": 18,
   "id": "4fc412d2",
   "metadata": {},
   "outputs": [
    {
     "name": "stdout",
     "output_type": "stream",
     "text": [
      "[12 13 14 15 16 17 18 19 20 21 22 23 24 25 26 27 28 29 30 31 32 33 34 35\n",
      " 36 37 38 39 40 41 42 43 44 45 46 47 48 49 50 51 52 53 54 55 56 57 58 59\n",
      " 60 61 62 63 64 65 66 67 68 69 70 71 72 73]\n"
     ]
    }
   ],
   "source": [
    "print(df['Age'].sort_values().unique())"
   ]
  },
  {
   "cell_type": "code",
   "execution_count": 19,
   "id": "dc8f21eb",
   "metadata": {},
   "outputs": [
    {
     "data": {
      "text/plain": [
       "array(['2004', '2005', '2006', '2007', '2008', '2009', '2010', '2011',\n",
       "       '2012', '2013', '2014', '2015'], dtype=object)"
      ]
     },
     "execution_count": 19,
     "metadata": {},
     "output_type": "execute_result"
    }
   ],
   "source": [
    "SALE_YEAR=df['DATE_SALE'].str[6:]\n",
    "SALE_YEAR.sort_values().unique()"
   ]
  },
  {
   "cell_type": "code",
   "execution_count": 20,
   "id": "4873b9e2",
   "metadata": {},
   "outputs": [],
   "source": [
    "df['SALE_YEAR']=SALE_YEAR\n",
    "df['SALE_YEAR']=df['SALE_YEAR'].astype(int)"
   ]
  },
  {
   "cell_type": "code",
   "execution_count": 21,
   "id": "168a7508",
   "metadata": {},
   "outputs": [
    {
     "data": {
      "text/html": [
       "<div>\n",
       "<style scoped>\n",
       "    .dataframe tbody tr th:only-of-type {\n",
       "        vertical-align: middle;\n",
       "    }\n",
       "\n",
       "    .dataframe tbody tr th {\n",
       "        vertical-align: top;\n",
       "    }\n",
       "\n",
       "    .dataframe thead th {\n",
       "        text-align: right;\n",
       "    }\n",
       "</style>\n",
       "<table border=\"1\" class=\"dataframe\">\n",
       "  <thead>\n",
       "    <tr style=\"text-align: right;\">\n",
       "      <th></th>\n",
       "      <th>AREA</th>\n",
       "      <th>INT_SQFT</th>\n",
       "      <th>DATE_SALE</th>\n",
       "      <th>DIST_MAINROAD</th>\n",
       "      <th>N_BEDROOM</th>\n",
       "      <th>N_BATHROOM</th>\n",
       "      <th>N_ROOM</th>\n",
       "      <th>SALE_COND</th>\n",
       "      <th>PARK_FACIL</th>\n",
       "      <th>DATE_BUILD</th>\n",
       "      <th>...</th>\n",
       "      <th>UTILITY_AVAIL</th>\n",
       "      <th>STREET</th>\n",
       "      <th>MZZONE</th>\n",
       "      <th>QS_ROOMS</th>\n",
       "      <th>QS_BATHROOM</th>\n",
       "      <th>QS_BEDROOM</th>\n",
       "      <th>QS_OVERALL</th>\n",
       "      <th>SALES_PRICE</th>\n",
       "      <th>Age</th>\n",
       "      <th>SALE_YEAR</th>\n",
       "    </tr>\n",
       "  </thead>\n",
       "  <tbody>\n",
       "    <tr>\n",
       "      <th>0</th>\n",
       "      <td>Karapakkam</td>\n",
       "      <td>1004</td>\n",
       "      <td>04-05-2011</td>\n",
       "      <td>131</td>\n",
       "      <td>1</td>\n",
       "      <td>3</td>\n",
       "      <td>3</td>\n",
       "      <td>AbNormal</td>\n",
       "      <td>Yes</td>\n",
       "      <td>15-05-1967</td>\n",
       "      <td>...</td>\n",
       "      <td>All Pub</td>\n",
       "      <td>Paved</td>\n",
       "      <td>A</td>\n",
       "      <td>4.0</td>\n",
       "      <td>3.9</td>\n",
       "      <td>4.9</td>\n",
       "      <td>4.330</td>\n",
       "      <td>7600000</td>\n",
       "      <td>55</td>\n",
       "      <td>2011</td>\n",
       "    </tr>\n",
       "    <tr>\n",
       "      <th>1</th>\n",
       "      <td>Anna Nagar</td>\n",
       "      <td>1986</td>\n",
       "      <td>19-12-2006</td>\n",
       "      <td>26</td>\n",
       "      <td>2</td>\n",
       "      <td>4</td>\n",
       "      <td>5</td>\n",
       "      <td>AbNormal</td>\n",
       "      <td>No</td>\n",
       "      <td>22-12-1995</td>\n",
       "      <td>...</td>\n",
       "      <td>All Pub</td>\n",
       "      <td>Gravel</td>\n",
       "      <td>RH</td>\n",
       "      <td>4.9</td>\n",
       "      <td>4.2</td>\n",
       "      <td>2.5</td>\n",
       "      <td>3.765</td>\n",
       "      <td>21717770</td>\n",
       "      <td>27</td>\n",
       "      <td>2006</td>\n",
       "    </tr>\n",
       "    <tr>\n",
       "      <th>2</th>\n",
       "      <td>Adyar</td>\n",
       "      <td>909</td>\n",
       "      <td>04-02-2012</td>\n",
       "      <td>70</td>\n",
       "      <td>1</td>\n",
       "      <td>3</td>\n",
       "      <td>3</td>\n",
       "      <td>AbNormal</td>\n",
       "      <td>Yes</td>\n",
       "      <td>09-02-1992</td>\n",
       "      <td>...</td>\n",
       "      <td>ELO</td>\n",
       "      <td>Gravel</td>\n",
       "      <td>RL</td>\n",
       "      <td>4.1</td>\n",
       "      <td>3.8</td>\n",
       "      <td>2.2</td>\n",
       "      <td>3.090</td>\n",
       "      <td>13159200</td>\n",
       "      <td>30</td>\n",
       "      <td>2012</td>\n",
       "    </tr>\n",
       "    <tr>\n",
       "      <th>3</th>\n",
       "      <td>Velachery</td>\n",
       "      <td>1855</td>\n",
       "      <td>13-03-2010</td>\n",
       "      <td>14</td>\n",
       "      <td>3</td>\n",
       "      <td>3</td>\n",
       "      <td>5</td>\n",
       "      <td>Family</td>\n",
       "      <td>No</td>\n",
       "      <td>18-03-1988</td>\n",
       "      <td>...</td>\n",
       "      <td>NoSewr</td>\n",
       "      <td>Paved</td>\n",
       "      <td>I</td>\n",
       "      <td>4.7</td>\n",
       "      <td>3.9</td>\n",
       "      <td>3.6</td>\n",
       "      <td>4.010</td>\n",
       "      <td>9630290</td>\n",
       "      <td>34</td>\n",
       "      <td>2010</td>\n",
       "    </tr>\n",
       "    <tr>\n",
       "      <th>4</th>\n",
       "      <td>Karapakkam</td>\n",
       "      <td>1226</td>\n",
       "      <td>05-10-2009</td>\n",
       "      <td>84</td>\n",
       "      <td>1</td>\n",
       "      <td>2</td>\n",
       "      <td>3</td>\n",
       "      <td>AbNormal</td>\n",
       "      <td>Yes</td>\n",
       "      <td>13-10-1979</td>\n",
       "      <td>...</td>\n",
       "      <td>All Pub</td>\n",
       "      <td>Gravel</td>\n",
       "      <td>C</td>\n",
       "      <td>3.0</td>\n",
       "      <td>2.5</td>\n",
       "      <td>4.1</td>\n",
       "      <td>3.290</td>\n",
       "      <td>7406250</td>\n",
       "      <td>43</td>\n",
       "      <td>2009</td>\n",
       "    </tr>\n",
       "  </tbody>\n",
       "</table>\n",
       "<p>5 rows × 21 columns</p>\n",
       "</div>"
      ],
      "text/plain": [
       "         AREA  INT_SQFT   DATE_SALE  DIST_MAINROAD  N_BEDROOM  N_BATHROOM  \\\n",
       "0  Karapakkam      1004  04-05-2011            131          1           3   \n",
       "1  Anna Nagar      1986  19-12-2006             26          2           4   \n",
       "2       Adyar       909  04-02-2012             70          1           3   \n",
       "3   Velachery      1855  13-03-2010             14          3           3   \n",
       "4  Karapakkam      1226  05-10-2009             84          1           2   \n",
       "\n",
       "   N_ROOM SALE_COND PARK_FACIL  DATE_BUILD  ... UTILITY_AVAIL  STREET MZZONE  \\\n",
       "0       3  AbNormal        Yes  15-05-1967  ...       All Pub   Paved      A   \n",
       "1       5  AbNormal         No  22-12-1995  ...       All Pub  Gravel     RH   \n",
       "2       3  AbNormal        Yes  09-02-1992  ...           ELO  Gravel     RL   \n",
       "3       5    Family         No  18-03-1988  ...        NoSewr   Paved      I   \n",
       "4       3  AbNormal        Yes  13-10-1979  ...       All Pub  Gravel      C   \n",
       "\n",
       "  QS_ROOMS  QS_BATHROOM  QS_BEDROOM  QS_OVERALL  SALES_PRICE  Age  SALE_YEAR  \n",
       "0      4.0          3.9         4.9       4.330      7600000   55       2011  \n",
       "1      4.9          4.2         2.5       3.765     21717770   27       2006  \n",
       "2      4.1          3.8         2.2       3.090     13159200   30       2012  \n",
       "3      4.7          3.9         3.6       4.010      9630290   34       2010  \n",
       "4      3.0          2.5         4.1       3.290      7406250   43       2009  \n",
       "\n",
       "[5 rows x 21 columns]"
      ]
     },
     "execution_count": 21,
     "metadata": {},
     "output_type": "execute_result"
    }
   ],
   "source": [
    "df.head()"
   ]
  },
  {
   "cell_type": "code",
   "execution_count": 22,
   "id": "8473abbb",
   "metadata": {},
   "outputs": [
    {
     "name": "stdout",
     "output_type": "stream",
     "text": [
      "[2004 2005 2006 2007 2008 2009 2010 2011 2012 2013 2014 2015]\n"
     ]
    }
   ],
   "source": [
    "print(df['SALE_YEAR'].sort_values().unique())"
   ]
  },
  {
   "cell_type": "code",
   "execution_count": 23,
   "id": "f69c9eee",
   "metadata": {},
   "outputs": [
    {
     "data": {
      "text/plain": [
       "Index(['AREA', 'INT_SQFT', 'DATE_SALE', 'DIST_MAINROAD', 'N_BEDROOM',\n",
       "       'N_BATHROOM', 'N_ROOM', 'SALE_COND', 'PARK_FACIL', 'DATE_BUILD',\n",
       "       'BUILDTYPE', 'UTILITY_AVAIL', 'STREET', 'MZZONE', 'QS_ROOMS',\n",
       "       'QS_BATHROOM', 'QS_BEDROOM', 'QS_OVERALL', 'SALES_PRICE', 'Age',\n",
       "       'SALE_YEAR'],\n",
       "      dtype='object')"
      ]
     },
     "execution_count": 23,
     "metadata": {},
     "output_type": "execute_result"
    }
   ],
   "source": [
    "df.columns"
   ]
  },
  {
   "cell_type": "markdown",
   "id": "684c8074",
   "metadata": {},
   "source": [
    "# EXPLORATORY DATA ANALYSIS"
   ]
  },
  {
   "cell_type": "markdown",
   "id": "4ea2c5fb",
   "metadata": {},
   "source": [
    "## EDA For Categorical"
   ]
  },
  {
   "cell_type": "code",
   "execution_count": 24,
   "id": "0a42eda1",
   "metadata": {},
   "outputs": [
    {
     "name": "stderr",
     "output_type": "stream",
     "text": [
      "c:\\users\\sivashanmugavadivel\\appdata\\local\\programs\\python\\python39\\lib\\site-packages\\seaborn\\_decorators.py:36: FutureWarning: Pass the following variable as a keyword arg: x. From version 0.12, the only valid positional argument will be `data`, and passing other arguments without an explicit keyword will result in an error or misinterpretation.\n",
      "  warnings.warn(\n"
     ]
    },
    {
     "data": {
      "text/plain": [
       "<AxesSubplot:xlabel='SALES_PRICE'>"
      ]
     },
     "execution_count": 24,
     "metadata": {},
     "output_type": "execute_result"
    },
    {
     "data": {
      "image/png": "[encoded data removed]",
      "text/plain": [
       "<Figure size 432x288 with 1 Axes>"
      ]
     },
     "metadata": {
      "needs_background": "light"
     },
     "output_type": "display_data"
    }
   ],
   "source": [
    "sns.boxplot(df['SALES_PRICE'])"
   ]
  },
  {
   "cell_type": "code",
   "execution_count": 25,
   "id": "2ccb15d5",
   "metadata": {},
   "outputs": [
    {
     "name": "stderr",
     "output_type": "stream",
     "text": [
      "c:\\users\\sivashanmugavadivel\\appdata\\local\\programs\\python\\python39\\lib\\site-packages\\seaborn\\_decorators.py:36: FutureWarning: Pass the following variable as a keyword arg: x. From version 0.12, the only valid positional argument will be `data`, and passing other arguments without an explicit keyword will result in an error or misinterpretation.\n",
      "  warnings.warn(\n"
     ]
    },
    {
     "data": {
      "text/plain": [
       "<AxesSubplot:xlabel='Age'>"
      ]
     },
     "execution_count": 25,
     "metadata": {},
     "output_type": "execute_result"
    },
    {
     "data": {
      "image/png": "[encoded data removed]",
      "text/plain": [
       "<Figure size 432x288 with 1 Axes>"
      ]
     },
     "metadata": {
      "needs_background": "light"
     },
     "output_type": "display_data"
    }
   ],
   "source": [
    "sns.boxplot(df['Age'])"
   ]
  },
  {
   "cell_type": "markdown",
   "id": "98657be7",
   "metadata": {},
   "source": [
    "### we doing nothing in outliars in this project"
   ]
  },
  {
   "cell_type": "markdown",
   "id": "9d54750a",
   "metadata": {},
   "source": [
    "## Checking Relation between AREA AND SALES_PRICE"
   ]
  },
  {
   "cell_type": "code",
   "execution_count": 26,
   "id": "46c82174",
   "metadata": {},
   "outputs": [],
   "source": [
    "area_in_order=df.groupby('AREA')['SALES_PRICE'].mean().reset_index().sort_values('SALES_PRICE')['AREA']"
   ]
  },
  {
   "cell_type": "code",
   "execution_count": 27,
   "id": "3c4e00e8",
   "metadata": {},
   "outputs": [
    {
     "data": {
      "text/plain": [
       "(array([0, 1, 2, 3, 4, 5, 6]),\n",
       " [Text(0, 0, 'Karapakkam'),\n",
       "  Text(1, 0, 'Adyar'),\n",
       "  Text(2, 0, 'Chrompet'),\n",
       "  Text(3, 0, 'Velachery'),\n",
       "  Text(4, 0, 'KK Nagar'),\n",
       "  Text(5, 0, 'Anna Nagar'),\n",
       "  Text(6, 0, 'T Nagar')])"
      ]
     },
     "execution_count": 27,
     "metadata": {},
     "output_type": "execute_result"
    },
    {
     "data": {
      "image/png": "[encoded data removed]",
      "text/plain": [
       "<Figure size 432x288 with 1 Axes>"
      ]
     },
     "metadata": {
      "needs_background": "light"
     },
     "output_type": "display_data"
    }
   ],
   "source": [
    "sns.barplot(x='AREA',y='SALES_PRICE',data=df,order=area_in_order)\n",
    "plt.xticks(rotation=45)"
   ]
  },
  {
   "cell_type": "code",
   "execution_count": 28,
   "id": "83c3fea2",
   "metadata": {},
   "outputs": [
    {
     "data": {
      "text/plain": [
       "<AxesSubplot:xlabel='AREA'>"
      ]
     },
     "execution_count": 28,
     "metadata": {},
     "output_type": "execute_result"
    },
    {
     "data": {
      "image/png": "[encoded data removed]",
      "text/plain": [
       "<Figure size 432x288 with 1 Axes>"
      ]
     },
     "metadata": {
      "needs_background": "light"
     },
     "output_type": "display_data"
    }
   ],
   "source": [
    "df.groupby('AREA')['SALES_PRICE'].mean().sort_values().plot()"
   ]
  },
  {
   "cell_type": "markdown",
   "id": "249e4c42",
   "metadata": {},
   "source": [
    "### The above plots shows there is good linear relation between area and sales price\n"
   ]
  },
  {
   "cell_type": "markdown",
   "id": "7215c650",
   "metadata": {},
   "source": [
    "## Checking Relation between SALES SCOND AND SALES_PRICE"
   ]
  },
  {
   "cell_type": "code",
   "execution_count": 29,
   "id": "d4cbed5d",
   "metadata": {},
   "outputs": [],
   "source": [
    " area_in_order=df.groupby('SALE_COND')['SALES_PRICE'].mean().reset_index().sort_values('SALES_PRICE')['SALE_COND']"
   ]
  },
  {
   "cell_type": "code",
   "execution_count": 30,
   "id": "3ca16310",
   "metadata": {},
   "outputs": [
    {
     "data": {
      "text/plain": [
       "(array([0, 1, 2, 3, 4]),\n",
       " [Text(0, 0, 'Partial'),\n",
       "  Text(1, 0, 'Family'),\n",
       "  Text(2, 0, 'AbNormal'),\n",
       "  Text(3, 0, 'Normal Sale'),\n",
       "  Text(4, 0, 'AdjLand')])"
      ]
     },
     "execution_count": 30,
     "metadata": {},
     "output_type": "execute_result"
    },
    {
     "data": {
      "image/png": "[encoded data removed]",
      "text/plain": [
       "<Figure size 432x288 with 1 Axes>"
      ]
     },
     "metadata": {
      "needs_background": "light"
     },
     "output_type": "display_data"
    }
   ],
   "source": [
    "sns.barplot(x='SALE_COND',y='SALES_PRICE',data=df,order=area_in_order)\n",
    "plt.xticks(rotation=45)"
   ]
  },
  {
   "cell_type": "code",
   "execution_count": 31,
   "id": "14a530ea",
   "metadata": {},
   "outputs": [
    {
     "data": {
      "text/plain": [
       "<AxesSubplot:xlabel='SALE_COND'>"
      ]
     },
     "execution_count": 31,
     "metadata": {},
     "output_type": "execute_result"
    },
    {
     "data": {
      "image/png": "[encoded data removed]",
      "text/plain": [
       "<Figure size 432x288 with 1 Axes>"
      ]
     },
     "metadata": {
      "needs_background": "light"
     },
     "output_type": "display_data"
    }
   ],
   "source": [
    "df.groupby('SALE_COND')['SALES_PRICE'].mean().sort_values().plot()"
   ]
  },
  {
   "cell_type": "code",
   "execution_count": 32,
   "id": "017258ec",
   "metadata": {},
   "outputs": [],
   "source": [
    " buildtype_in_order=df.groupby('BUILDTYPE')['SALES_PRICE'].mean().reset_index().sort_values('SALES_PRICE')['BUILDTYPE']     "
   ]
  },
  {
   "cell_type": "code",
   "execution_count": 33,
   "id": "9c0240bd",
   "metadata": {},
   "outputs": [
    {
     "data": {
      "text/plain": [
       "(array([0, 1, 2]),\n",
       " [Text(0, 0, 'House'), Text(1, 0, 'Others'), Text(2, 0, 'Commercial')])"
      ]
     },
     "execution_count": 33,
     "metadata": {},
     "output_type": "execute_result"
    },
    {
     "data": {
      "image/png": "[encoded data removed]",
      "text/plain": [
       "<Figure size 432x288 with 1 Axes>"
      ]
     },
     "metadata": {
      "needs_background": "light"
     },
     "output_type": "display_data"
    }
   ],
   "source": [
    "sns.barplot(x='BUILDTYPE',y='SALES_PRICE',data=df,order=buildtype_in_order)\n",
    "plt.xticks(rotation=45)"
   ]
  },
  {
   "cell_type": "code",
   "execution_count": 34,
   "id": "9657deb5",
   "metadata": {},
   "outputs": [
    {
     "data": {
      "text/plain": [
       "<AxesSubplot:xlabel='BUILDTYPE'>"
      ]
     },
     "execution_count": 34,
     "metadata": {},
     "output_type": "execute_result"
    },
    {
     "data": {
      "image/png": "[encoded data removed]",
      "text/plain": [
       "<Figure size 432x288 with 1 Axes>"
      ]
     },
     "metadata": {
      "needs_background": "light"
     },
     "output_type": "display_data"
    }
   ],
   "source": [
    "df.groupby('BUILDTYPE')['SALES_PRICE'].mean().sort_values().plot()"
   ]
  },
  {
   "cell_type": "code",
   "execution_count": 35,
   "id": "778c1eaf",
   "metadata": {},
   "outputs": [],
   "source": [
    " utility_in_order=df.groupby('UTILITY_AVAIL')['SALES_PRICE'].mean().reset_index().sort_values('SALES_PRICE')['UTILITY_AVAIL']   "
   ]
  },
  {
   "cell_type": "code",
   "execution_count": 36,
   "id": "1bfd9fe0",
   "metadata": {},
   "outputs": [
    {
     "data": {
      "text/plain": [
       "(array([0, 1, 2]),\n",
       " [Text(0, 0, 'ELO'), Text(1, 0, 'NoSewr'), Text(2, 0, 'All Pub')])"
      ]
     },
     "execution_count": 36,
     "metadata": {},
     "output_type": "execute_result"
    },
    {
     "data": {
      "image/png": "[encoded data removed]",
      "text/plain": [
       "<Figure size 432x288 with 1 Axes>"
      ]
     },
     "metadata": {
      "needs_background": "light"
     },
     "output_type": "display_data"
    }
   ],
   "source": [
    "sns.barplot(x='UTILITY_AVAIL',y='SALES_PRICE',data=df,order=utility_in_order)\n",
    "plt.xticks(rotation=45)\n"
   ]
  },
  {
   "cell_type": "code",
   "execution_count": 37,
   "id": "3026e3c6",
   "metadata": {},
   "outputs": [],
   "source": [
    "parkfacil_in_order=df.groupby('PARK_FACIL')['SALES_PRICE'].mean().reset_index().sort_values('SALES_PRICE')['PARK_FACIL']  "
   ]
  },
  {
   "cell_type": "code",
   "execution_count": 38,
   "id": "3e68eecc",
   "metadata": {},
   "outputs": [
    {
     "data": {
      "text/plain": [
       "(array([0, 1]), [Text(0, 0, 'No'), Text(1, 0, 'Yes')])"
      ]
     },
     "execution_count": 38,
     "metadata": {},
     "output_type": "execute_result"
    },
    {
     "data": {
      "image/png": "[encoded data removed]",
      "text/plain": [
       "<Figure size 432x288 with 1 Axes>"
      ]
     },
     "metadata": {
      "needs_background": "light"
     },
     "output_type": "display_data"
    }
   ],
   "source": [
    "sns.barplot(x='PARK_FACIL',y='SALES_PRICE',data=df,order=parkfacil_in_order)\n",
    "plt.xticks(rotation=45)\n"
   ]
  },
  {
   "cell_type": "code",
   "execution_count": 39,
   "id": "552369c7",
   "metadata": {},
   "outputs": [],
   "source": [
    "street_in_order=df.groupby('STREET')['SALES_PRICE'].mean().reset_index().sort_values('SALES_PRICE')['STREET'] "
   ]
  },
  {
   "cell_type": "code",
   "execution_count": 40,
   "id": "6354b593",
   "metadata": {},
   "outputs": [
    {
     "data": {
      "text/plain": [
       "(array([0, 1, 2]),\n",
       " [Text(0, 0, 'No Access'), Text(1, 0, 'Paved'), Text(2, 0, 'Gravel')])"
      ]
     },
     "execution_count": 40,
     "metadata": {},
     "output_type": "execute_result"
    },
    {
     "data": {
      "image/png": "[encoded data removed]",
      "text/plain": [
       "<Figure size 432x288 with 1 Axes>"
      ]
     },
     "metadata": {
      "needs_background": "light"
     },
     "output_type": "display_data"
    }
   ],
   "source": [
    "sns.barplot(x='STREET',y='SALES_PRICE',data=df,order=street_in_order)\n",
    "plt.xticks(rotation=45)"
   ]
  },
  {
   "cell_type": "code",
   "execution_count": 41,
   "id": "9514bd73",
   "metadata": {},
   "outputs": [
    {
     "data": {
      "text/plain": [
       "<AxesSubplot:xlabel='STREET'>"
      ]
     },
     "execution_count": 41,
     "metadata": {},
     "output_type": "execute_result"
    },
    {
     "data": {
      "image/png": "[encoded data removed]",
      "text/plain": [
       "<Figure size 432x288 with 1 Axes>"
      ]
     },
     "metadata": {
      "needs_background": "light"
     },
     "output_type": "display_data"
    }
   ],
   "source": [
    "df.groupby('STREET')['SALES_PRICE'].mean().sort_values().plot()"
   ]
  },
  {
   "cell_type": "code",
   "execution_count": 42,
   "id": "dc736c5e",
   "metadata": {},
   "outputs": [],
   "source": [
    "mzone_in_order=df.groupby('MZZONE')['SALES_PRICE'].mean().reset_index().sort_values('SALES_PRICE')['MZZONE'] "
   ]
  },
  {
   "cell_type": "code",
   "execution_count": 43,
   "id": "2cf69bde",
   "metadata": {},
   "outputs": [
    {
     "data": {
      "text/plain": [
       "(array([0, 1, 2, 3, 4, 5]),\n",
       " [Text(0, 0, 'A'),\n",
       "  Text(1, 0, 'C'),\n",
       "  Text(2, 0, 'I'),\n",
       "  Text(3, 0, 'RH'),\n",
       "  Text(4, 0, 'RL'),\n",
       "  Text(5, 0, 'RM')])"
      ]
     },
     "execution_count": 43,
     "metadata": {},
     "output_type": "execute_result"
    },
    {
     "data": {
      "image/png": "[encoded data removed]",
      "text/plain": [
       "<Figure size 432x288 with 1 Axes>"
      ]
     },
     "metadata": {
      "needs_background": "light"
     },
     "output_type": "display_data"
    }
   ],
   "source": [
    "sns.barplot(x='MZZONE',y='SALES_PRICE',data=df,order=mzone_in_order)\n",
    "plt.xticks(rotation=45)"
   ]
  },
  {
   "cell_type": "code",
   "execution_count": 44,
   "id": "d765d467",
   "metadata": {},
   "outputs": [],
   "source": [
    "n_bedrooms_in_order=df.groupby('N_BEDROOM')['SALES_PRICE'].mean().reset_index().sort_values('SALES_PRICE')['N_BEDROOM'] \n",
    "n_bathroom_in_order=df.groupby('N_BATHROOM')['SALES_PRICE'].mean().reset_index().sort_values('SALES_PRICE')['N_BATHROOM'] \n",
    "n_room_in_order=df.groupby('N_ROOM')['SALES_PRICE'].mean().reset_index().sort_values('SALES_PRICE')['N_ROOM'] \n",
    "\n"
   ]
  },
  {
   "cell_type": "code",
   "execution_count": 45,
   "id": "9feeaa86",
   "metadata": {},
   "outputs": [
    {
     "data": {
      "text/plain": [
       "(array([0, 1, 2, 3]),\n",
       " [Text(0, 0, '1'), Text(1, 0, '2'), Text(2, 0, '3'), Text(3, 0, '4')])"
      ]
     },
     "execution_count": 45,
     "metadata": {},
     "output_type": "execute_result"
    },
    {
     "data": {
      "image/png": "[encoded data removed]",
      "text/plain": [
       "<Figure size 432x288 with 1 Axes>"
      ]
     },
     "metadata": {
      "needs_background": "light"
     },
     "output_type": "display_data"
    }
   ],
   "source": [
    "sns.barplot(x='N_BEDROOM',y='SALES_PRICE',data=df,order=n_bedrooms_in_order)\n",
    "plt.xticks(rotation=45)\n"
   ]
  },
  {
   "cell_type": "code",
   "execution_count": 46,
   "id": "7b5aaf85",
   "metadata": {},
   "outputs": [
    {
     "data": {
      "text/plain": [
       "(array([0, 1, 2, 3]),\n",
       " [Text(0, 0, '5'), Text(1, 0, '4'), Text(2, 0, '2'), Text(3, 0, '3')])"
      ]
     },
     "execution_count": 46,
     "metadata": {},
     "output_type": "execute_result"
    },
    {
     "data": {
      "image/png": "[encoded data removed]",
      "text/plain": [
       "<Figure size 432x288 with 1 Axes>"
      ]
     },
     "metadata": {
      "needs_background": "light"
     },
     "output_type": "display_data"
    }
   ],
   "source": [
    "sns.barplot(x='N_BATHROOM',y='SALES_PRICE',data=df,order=n_bathroom_in_order)\n",
    "plt.xticks(rotation=45)\n"
   ]
  },
  {
   "cell_type": "code",
   "execution_count": 47,
   "id": "88c5fe9c",
   "metadata": {},
   "outputs": [
    {
     "data": {
      "text/plain": [
       "(array([0, 1, 2, 3, 4]),\n",
       " [Text(0, 0, '2'),\n",
       "  Text(1, 0, '3'),\n",
       "  Text(2, 0, '4'),\n",
       "  Text(3, 0, '5'),\n",
       "  Text(4, 0, '6')])"
      ]
     },
     "execution_count": 47,
     "metadata": {},
     "output_type": "execute_result"
    },
    {
     "data": {
      "image/png": "[encoded data removed]",
      "text/plain": [
       "<Figure size 432x288 with 1 Axes>"
      ]
     },
     "metadata": {
      "needs_background": "light"
     },
     "output_type": "display_data"
    }
   ],
   "source": [
    "sns.barplot(x='N_ROOM',y='SALES_PRICE',data=df,order=n_room_in_order)\n",
    "plt.xticks(rotation=45)"
   ]
  },
  {
   "cell_type": "code",
   "execution_count": 48,
   "id": "f98b2157",
   "metadata": {},
   "outputs": [],
   "source": [
    "#sqft_in_order=df.groupby('INT_SQFT')['SALES_PRICE'].mean().reset_index().sort_values('SALES_PRICE')['INT_SQFT'] \n"
   ]
  },
  {
   "cell_type": "code",
   "execution_count": 49,
   "id": "efe37120",
   "metadata": {},
   "outputs": [],
   "source": [
    "#sns.barplot(x='INT_SQFT',y='SALES_PRICE',data=df,order=sqft_in_order)\n",
    "#plt.xticks(rotation=45)"
   ]
  },
  {
   "cell_type": "code",
   "execution_count": 50,
   "id": "8dddb7d1",
   "metadata": {},
   "outputs": [
    {
     "data": {
      "image/png": "[encoded data removed]",
      "text/plain": [
       "<Figure size 432x288 with 1 Axes>"
      ]
     },
     "metadata": {
      "needs_background": "light"
     },
     "output_type": "display_data"
    }
   ],
   "source": [
    "x=df['INT_SQFT']\n",
    "y=df['SALES_PRICE']\n",
    "plt.scatter(x, y)\n",
    "plt.show()"
   ]
  },
  {
   "cell_type": "code",
   "execution_count": 51,
   "id": "99ea62fb",
   "metadata": {},
   "outputs": [
    {
     "data": {
      "text/plain": [
       "<AxesSubplot:xlabel='INT_SQFT'>"
      ]
     },
     "execution_count": 51,
     "metadata": {},
     "output_type": "execute_result"
    },
    {
     "data": {
      "image/png": "[encoded data removed]",
      "text/plain": [
       "<Figure size 432x288 with 1 Axes>"
      ]
     },
     "metadata": {
      "needs_background": "light"
     },
     "output_type": "display_data"
    }
   ],
   "source": [
    "df.groupby('INT_SQFT')['SALES_PRICE'].mean().sort_values().plot()"
   ]
  },
  {
   "cell_type": "code",
   "execution_count": 52,
   "id": "20ec8318",
   "metadata": {},
   "outputs": [
    {
     "data": {
      "image/png": "[encoded data removed]",
      "text/plain": [
       "<Figure size 432x288 with 1 Axes>"
      ]
     },
     "metadata": {
      "needs_background": "light"
     },
     "output_type": "display_data"
    }
   ],
   "source": [
    "x=df['DIST_MAINROAD']\n",
    "y=df['SALES_PRICE']\n",
    "plt.scatter(x, y)\n",
    "plt.show()"
   ]
  },
  {
   "cell_type": "code",
   "execution_count": 53,
   "id": "af8d5041",
   "metadata": {},
   "outputs": [
    {
     "data": {
      "text/plain": [
       "<AxesSubplot:xlabel='DIST_MAINROAD'>"
      ]
     },
     "execution_count": 53,
     "metadata": {},
     "output_type": "execute_result"
    },
    {
     "data": {
      "image/png": "[encoded data removed]",
      "text/plain": [
       "<Figure size 432x288 with 1 Axes>"
      ]
     },
     "metadata": {
      "needs_background": "light"
     },
     "output_type": "display_data"
    }
   ],
   "source": [
    "df.groupby('DIST_MAINROAD')['SALES_PRICE'].mean().sort_values().plot()\n"
   ]
  },
  {
   "cell_type": "code",
   "execution_count": 54,
   "id": "0ed80874",
   "metadata": {},
   "outputs": [],
   "source": [
    "#According EDA There is no relarion between Dist mainroad and sales price so we can drop this feature"
   ]
  },
  {
   "cell_type": "code",
   "execution_count": 55,
   "id": "fdcd2ad6",
   "metadata": {},
   "outputs": [
    {
     "data": {
      "text/plain": [
       "<AxesSubplot:xlabel='UTILITY_AVAIL'>"
      ]
     },
     "execution_count": 55,
     "metadata": {},
     "output_type": "execute_result"
    },
    {
     "data": {
      "image/png": "[encoded data removed]",
      "text/plain": [
       "<Figure size 432x288 with 1 Axes>"
      ]
     },
     "metadata": {
      "needs_background": "light"
     },
     "output_type": "display_data"
    }
   ],
   "source": [
    "df.groupby('UTILITY_AVAIL')['SALES_PRICE'].mean().sort_values().plot()"
   ]
  },
  {
   "cell_type": "code",
   "execution_count": 56,
   "id": "b8705ff7",
   "metadata": {},
   "outputs": [
    {
     "data": {
      "text/plain": [
       "<AxesSubplot:xlabel='QS_ROOMS'>"
      ]
     },
     "execution_count": 56,
     "metadata": {},
     "output_type": "execute_result"
    },
    {
     "data": {
      "image/png": "[encoded data removed]",
      "text/plain": [
       "<Figure size 432x288 with 1 Axes>"
      ]
     },
     "metadata": {
      "needs_background": "light"
     },
     "output_type": "display_data"
    }
   ],
   "source": [
    "df.groupby('QS_ROOMS')['SALES_PRICE'].mean().sort_values().plot()"
   ]
  },
  {
   "cell_type": "code",
   "execution_count": 57,
   "id": "7e0eade6",
   "metadata": {},
   "outputs": [
    {
     "data": {
      "text/plain": [
       "<AxesSubplot:xlabel='QS_BATHROOM'>"
      ]
     },
     "execution_count": 57,
     "metadata": {},
     "output_type": "execute_result"
    },
    {
     "data": {
      "image/png": "[encoded data removed]",
      "text/plain": [
       "<Figure size 432x288 with 1 Axes>"
      ]
     },
     "metadata": {
      "needs_background": "light"
     },
     "output_type": "display_data"
    }
   ],
   "source": [
    "df.groupby('QS_BATHROOM')['SALES_PRICE'].mean().sort_values().plot()"
   ]
  },
  {
   "cell_type": "code",
   "execution_count": 58,
   "id": "653c3f41",
   "metadata": {},
   "outputs": [
    {
     "data": {
      "text/plain": [
       "<AxesSubplot:xlabel='QS_BEDROOM'>"
      ]
     },
     "execution_count": 58,
     "metadata": {},
     "output_type": "execute_result"
    },
    {
     "data": {
      "image/png": "[encoded data removed]",
      "text/plain": [
       "<Figure size 432x288 with 1 Axes>"
      ]
     },
     "metadata": {
      "needs_background": "light"
     },
     "output_type": "display_data"
    }
   ],
   "source": [
    "df.groupby('QS_BEDROOM')['SALES_PRICE'].mean().sort_values().plot()"
   ]
  },
  {
   "cell_type": "code",
   "execution_count": 59,
   "id": "fa985894",
   "metadata": {},
   "outputs": [
    {
     "data": {
      "text/plain": [
       "<AxesSubplot:xlabel='QS_OVERALL'>"
      ]
     },
     "execution_count": 59,
     "metadata": {},
     "output_type": "execute_result"
    },
    {
     "data": {
      "image/png": "[encoded data removed]",
      "text/plain": [
       "<Figure size 432x288 with 1 Axes>"
      ]
     },
     "metadata": {
      "needs_background": "light"
     },
     "output_type": "display_data"
    }
   ],
   "source": [
    "df.groupby('QS_OVERALL')['SALES_PRICE'].mean().sort_values().plot()"
   ]
  },
  {
   "cell_type": "code",
   "execution_count": 60,
   "id": "ab283b9a",
   "metadata": {},
   "outputs": [
    {
     "data": {
      "text/plain": [
       "<AxesSubplot:xlabel='Age'>"
      ]
     },
     "execution_count": 60,
     "metadata": {},
     "output_type": "execute_result"
    },
    {
     "data": {
      "image/png": "[encoded data removed]",
      "text/plain": [
       "<Figure size 432x288 with 1 Axes>"
      ]
     },
     "metadata": {
      "needs_background": "light"
     },
     "output_type": "display_data"
    }
   ],
   "source": [
    "df.groupby('Age')['SALES_PRICE'].mean().sort_values().plot()"
   ]
  },
  {
   "cell_type": "code",
   "execution_count": 61,
   "id": "f7bda9a2",
   "metadata": {},
   "outputs": [
    {
     "data": {
      "text/plain": [
       "<AxesSubplot:xlabel='Age'>"
      ]
     },
     "execution_count": 61,
     "metadata": {},
     "output_type": "execute_result"
    },
    {
     "data": {
      "image/png": "[encoded data removed]",
      "text/plain": [
       "<Figure size 432x288 with 1 Axes>"
      ]
     },
     "metadata": {
      "needs_background": "light"
     },
     "output_type": "display_data"
    }
   ],
   "source": [
    "df.groupby('Age')['SALES_PRICE'].mean().sort_values().plot()"
   ]
  },
  {
   "cell_type": "code",
   "execution_count": 62,
   "id": "ed93f7ff",
   "metadata": {},
   "outputs": [],
   "source": [
    "#x=df['SALE_YEAR']\n",
    "#y=df['SALES_PRICE']\n",
    "#plt.scatter(x, y)\n",
    "#plt.show()"
   ]
  },
  {
   "cell_type": "code",
   "execution_count": 63,
   "id": "9e7aacc3",
   "metadata": {},
   "outputs": [],
   "source": [
    "sales_year_in_order=df.groupby('SALE_YEAR')['SALES_PRICE'].mean().reset_index().sort_values('SALES_PRICE')['SALE_YEAR'] "
   ]
  },
  {
   "cell_type": "code",
   "execution_count": 64,
   "id": "e709448d",
   "metadata": {},
   "outputs": [
    {
     "data": {
      "text/plain": [
       "(array([ 0,  1,  2,  3,  4,  5,  6,  7,  8,  9, 10, 11]),\n",
       " [Text(0, 0, '2010'),\n",
       "  Text(1, 0, '2011'),\n",
       "  Text(2, 0, '2009'),\n",
       "  Text(3, 0, '2012'),\n",
       "  Text(4, 0, '2005'),\n",
       "  Text(5, 0, '2004'),\n",
       "  Text(6, 0, '2006'),\n",
       "  Text(7, 0, '2007'),\n",
       "  Text(8, 0, '2008'),\n",
       "  Text(9, 0, '2013'),\n",
       "  Text(10, 0, '2014'),\n",
       "  Text(11, 0, '2015')])"
      ]
     },
     "execution_count": 64,
     "metadata": {},
     "output_type": "execute_result"
    },
    {
     "data": {
      "image/png": "[encoded data removed]",
      "text/plain": [
       "<Figure size 432x288 with 1 Axes>"
      ]
     },
     "metadata": {
      "needs_background": "light"
     },
     "output_type": "display_data"
    }
   ],
   "source": [
    "sns.barplot(x='SALE_YEAR',y='SALES_PRICE',data=df,order=sales_year_in_order)\n",
    "plt.xticks(rotation=45)"
   ]
  },
  {
   "cell_type": "code",
   "execution_count": 65,
   "id": "cae0fad7",
   "metadata": {},
   "outputs": [
    {
     "data": {
      "text/plain": [
       "<AxesSubplot:xlabel='SALE_YEAR'>"
      ]
     },
     "execution_count": 65,
     "metadata": {},
     "output_type": "execute_result"
    },
    {
     "data": {
      "image/png": "[encoded data removed]",
      "text/plain": [
       "<Figure size 432x288 with 1 Axes>"
      ]
     },
     "metadata": {
      "needs_background": "light"
     },
     "output_type": "display_data"
    }
   ],
   "source": [
    "df.groupby('SALE_YEAR')['SALES_PRICE'].mean().sort_values().plot()"
   ]
  },
  {
   "cell_type": "markdown",
   "id": "7d88200b",
   "metadata": {},
   "source": [
    "### According to EDA  :DATE_SALE,DATE_BUILD,DIST_MAINROAD,QS_ROOMS,QS_BATHROOM,\n",
    "### QS_BEDROOM,QS_OVERALL,Age,SALE_YEAR there is no linear relationship with salesprice therefore we reject these features"
   ]
  },
  {
   "cell_type": "markdown",
   "id": "692deaf2",
   "metadata": {},
   "source": [
    "# Encoding part starts from here "
   ]
  },
  {
   "cell_type": "markdown",
   "id": "35483860",
   "metadata": {},
   "source": [
    "### BUILDTYPE ,UTILITY_AVAIL need to be one hot encoding"
   ]
  },
  {
   "cell_type": "markdown",
   "id": "e4442ad9",
   "metadata": {},
   "source": [
    "#### According to EDA AREA,SALE_COND,PARK_FACIL,STREET,MZZONE columns need to be label encoding"
   ]
  },
  {
   "cell_type": "code",
   "execution_count": 66,
   "id": "74267882",
   "metadata": {},
   "outputs": [
    {
     "data": {
      "text/plain": [
       "0       0\n",
       "1       5\n",
       "2       1\n",
       "3       3\n",
       "4       0\n",
       "       ..\n",
       "7104    0\n",
       "7105    3\n",
       "7106    3\n",
       "7107    0\n",
       "7108    3\n",
       "Name: AREA, Length: 7109, dtype: int64"
      ]
     },
     "execution_count": 66,
     "metadata": {},
     "output_type": "execute_result"
    }
   ],
   "source": [
    "df['AREA']=df['AREA'].map({'Karapakkam':0,'Adyar':1,'Chrompet':2,'Velachery':3,'KK Nagar':4,'Anna Nagar':5,'T Nagar':6,})\n",
    "df['AREA']"
   ]
  },
  {
   "cell_type": "code",
   "execution_count": 67,
   "id": "57c0bef9",
   "metadata": {},
   "outputs": [
    {
     "data": {
      "text/plain": [
       "0       2\n",
       "1       2\n",
       "2       2\n",
       "3       1\n",
       "4       2\n",
       "       ..\n",
       "7104    4\n",
       "7105    1\n",
       "7106    3\n",
       "7107    0\n",
       "7108    0\n",
       "Name: SALE_COND, Length: 7109, dtype: int64"
      ]
     },
     "execution_count": 67,
     "metadata": {},
     "output_type": "execute_result"
    }
   ],
   "source": [
    "df['SALE_COND']=df['SALE_COND'].map({'Partial':0,'Family': 1,'AbNormal':2,'Normal Sale':3,'AdjLand':4})\n",
    "df['SALE_COND']"
   ]
  },
  {
   "cell_type": "code",
   "execution_count": 68,
   "id": "dc51bfdd",
   "metadata": {},
   "outputs": [
    {
     "data": {
      "text/plain": [
       "0       1\n",
       "1       0\n",
       "2       1\n",
       "3       0\n",
       "4       1\n",
       "       ..\n",
       "7104    0\n",
       "7105    1\n",
       "7106    0\n",
       "7107    1\n",
       "7108    1\n",
       "Name: PARK_FACIL, Length: 7109, dtype: int64"
      ]
     },
     "execution_count": 68,
     "metadata": {},
     "output_type": "execute_result"
    }
   ],
   "source": [
    "df['PARK_FACIL']=df['PARK_FACIL'].map({'Yes':1,'No':0})\n",
    "df['PARK_FACIL']"
   ]
  },
  {
   "cell_type": "code",
   "execution_count": 69,
   "id": "57f74ba9",
   "metadata": {},
   "outputs": [
    {
     "data": {
      "text/plain": [
       "0       1\n",
       "1       1\n",
       "2       1\n",
       "3       1\n",
       "4       1\n",
       "       ..\n",
       "7104    0\n",
       "7105    0\n",
       "7106    1\n",
       "7107    1\n",
       "7108    1\n",
       "Name: STREET, Length: 7109, dtype: int64"
      ]
     },
     "execution_count": 69,
     "metadata": {},
     "output_type": "execute_result"
    }
   ],
   "source": [
    "df['STREET']=df['STREET'].map({'Gravel':1,'No Access':0,'Paved':1})\n",
    "df['STREET']"
   ]
  },
  {
   "cell_type": "code",
   "execution_count": 70,
   "id": "52cfe497",
   "metadata": {},
   "outputs": [
    {
     "data": {
      "text/plain": [
       "0       0\n",
       "1       4\n",
       "2       5\n",
       "3       2\n",
       "4       1\n",
       "       ..\n",
       "7104    6\n",
       "7105    4\n",
       "7106    2\n",
       "7107    5\n",
       "7108    2\n",
       "Name: MZZONE, Length: 7109, dtype: int64"
      ]
     },
     "execution_count": 70,
     "metadata": {},
     "output_type": "execute_result"
    }
   ],
   "source": [
    "df['MZZONE']=df['MZZONE'].map({'A':0,'C':1,'I':2,'RH':4,'RL':5,'RM':6})\n",
    "df['MZZONE']"
   ]
  },
  {
   "cell_type": "code",
   "execution_count": 71,
   "id": "dff34663",
   "metadata": {},
   "outputs": [
    {
     "data": {
      "text/html": [
       "<div>\n",
       "<style scoped>\n",
       "    .dataframe tbody tr th:only-of-type {\n",
       "        vertical-align: middle;\n",
       "    }\n",
       "\n",
       "    .dataframe tbody tr th {\n",
       "        vertical-align: top;\n",
       "    }\n",
       "\n",
       "    .dataframe thead th {\n",
       "        text-align: right;\n",
       "    }\n",
       "</style>\n",
       "<table border=\"1\" class=\"dataframe\">\n",
       "  <thead>\n",
       "    <tr style=\"text-align: right;\">\n",
       "      <th></th>\n",
       "      <th>AREA</th>\n",
       "      <th>INT_SQFT</th>\n",
       "      <th>DATE_SALE</th>\n",
       "      <th>DIST_MAINROAD</th>\n",
       "      <th>N_BEDROOM</th>\n",
       "      <th>N_BATHROOM</th>\n",
       "      <th>N_ROOM</th>\n",
       "      <th>SALE_COND</th>\n",
       "      <th>PARK_FACIL</th>\n",
       "      <th>DATE_BUILD</th>\n",
       "      <th>...</th>\n",
       "      <th>QS_OVERALL</th>\n",
       "      <th>SALES_PRICE</th>\n",
       "      <th>Age</th>\n",
       "      <th>SALE_YEAR</th>\n",
       "      <th>BUILDTYPE_Commercial</th>\n",
       "      <th>BUILDTYPE_House</th>\n",
       "      <th>BUILDTYPE_Others</th>\n",
       "      <th>UTILITY_AVAIL_All Pub</th>\n",
       "      <th>UTILITY_AVAIL_ELO</th>\n",
       "      <th>UTILITY_AVAIL_NoSewr</th>\n",
       "    </tr>\n",
       "  </thead>\n",
       "  <tbody>\n",
       "    <tr>\n",
       "      <th>0</th>\n",
       "      <td>0</td>\n",
       "      <td>1004</td>\n",
       "      <td>04-05-2011</td>\n",
       "      <td>131</td>\n",
       "      <td>1</td>\n",
       "      <td>3</td>\n",
       "      <td>3</td>\n",
       "      <td>2</td>\n",
       "      <td>1</td>\n",
       "      <td>15-05-1967</td>\n",
       "      <td>...</td>\n",
       "      <td>4.330</td>\n",
       "      <td>7600000</td>\n",
       "      <td>55</td>\n",
       "      <td>2011</td>\n",
       "      <td>1</td>\n",
       "      <td>0</td>\n",
       "      <td>0</td>\n",
       "      <td>1</td>\n",
       "      <td>0</td>\n",
       "      <td>0</td>\n",
       "    </tr>\n",
       "    <tr>\n",
       "      <th>1</th>\n",
       "      <td>5</td>\n",
       "      <td>1986</td>\n",
       "      <td>19-12-2006</td>\n",
       "      <td>26</td>\n",
       "      <td>2</td>\n",
       "      <td>4</td>\n",
       "      <td>5</td>\n",
       "      <td>2</td>\n",
       "      <td>0</td>\n",
       "      <td>22-12-1995</td>\n",
       "      <td>...</td>\n",
       "      <td>3.765</td>\n",
       "      <td>21717770</td>\n",
       "      <td>27</td>\n",
       "      <td>2006</td>\n",
       "      <td>1</td>\n",
       "      <td>0</td>\n",
       "      <td>0</td>\n",
       "      <td>1</td>\n",
       "      <td>0</td>\n",
       "      <td>0</td>\n",
       "    </tr>\n",
       "    <tr>\n",
       "      <th>2</th>\n",
       "      <td>1</td>\n",
       "      <td>909</td>\n",
       "      <td>04-02-2012</td>\n",
       "      <td>70</td>\n",
       "      <td>1</td>\n",
       "      <td>3</td>\n",
       "      <td>3</td>\n",
       "      <td>2</td>\n",
       "      <td>1</td>\n",
       "      <td>09-02-1992</td>\n",
       "      <td>...</td>\n",
       "      <td>3.090</td>\n",
       "      <td>13159200</td>\n",
       "      <td>30</td>\n",
       "      <td>2012</td>\n",
       "      <td>1</td>\n",
       "      <td>0</td>\n",
       "      <td>0</td>\n",
       "      <td>0</td>\n",
       "      <td>1</td>\n",
       "      <td>0</td>\n",
       "    </tr>\n",
       "    <tr>\n",
       "      <th>3</th>\n",
       "      <td>3</td>\n",
       "      <td>1855</td>\n",
       "      <td>13-03-2010</td>\n",
       "      <td>14</td>\n",
       "      <td>3</td>\n",
       "      <td>3</td>\n",
       "      <td>5</td>\n",
       "      <td>1</td>\n",
       "      <td>0</td>\n",
       "      <td>18-03-1988</td>\n",
       "      <td>...</td>\n",
       "      <td>4.010</td>\n",
       "      <td>9630290</td>\n",
       "      <td>34</td>\n",
       "      <td>2010</td>\n",
       "      <td>0</td>\n",
       "      <td>0</td>\n",
       "      <td>1</td>\n",
       "      <td>0</td>\n",
       "      <td>0</td>\n",
       "      <td>1</td>\n",
       "    </tr>\n",
       "    <tr>\n",
       "      <th>4</th>\n",
       "      <td>0</td>\n",
       "      <td>1226</td>\n",
       "      <td>05-10-2009</td>\n",
       "      <td>84</td>\n",
       "      <td>1</td>\n",
       "      <td>2</td>\n",
       "      <td>3</td>\n",
       "      <td>2</td>\n",
       "      <td>1</td>\n",
       "      <td>13-10-1979</td>\n",
       "      <td>...</td>\n",
       "      <td>3.290</td>\n",
       "      <td>7406250</td>\n",
       "      <td>43</td>\n",
       "      <td>2009</td>\n",
       "      <td>0</td>\n",
       "      <td>0</td>\n",
       "      <td>1</td>\n",
       "      <td>1</td>\n",
       "      <td>0</td>\n",
       "      <td>0</td>\n",
       "    </tr>\n",
       "  </tbody>\n",
       "</table>\n",
       "<p>5 rows × 25 columns</p>\n",
       "</div>"
      ],
      "text/plain": [
       "   AREA  INT_SQFT   DATE_SALE  DIST_MAINROAD  N_BEDROOM  N_BATHROOM  N_ROOM  \\\n",
       "0     0      1004  04-05-2011            131          1           3       3   \n",
       "1     5      1986  19-12-2006             26          2           4       5   \n",
       "2     1       909  04-02-2012             70          1           3       3   \n",
       "3     3      1855  13-03-2010             14          3           3       5   \n",
       "4     0      1226  05-10-2009             84          1           2       3   \n",
       "\n",
       "   SALE_COND  PARK_FACIL  DATE_BUILD  ...  QS_OVERALL  SALES_PRICE  Age  \\\n",
       "0          2           1  15-05-1967  ...       4.330      7600000   55   \n",
       "1          2           0  22-12-1995  ...       3.765     21717770   27   \n",
       "2          2           1  09-02-1992  ...       3.090     13159200   30   \n",
       "3          1           0  18-03-1988  ...       4.010      9630290   34   \n",
       "4          2           1  13-10-1979  ...       3.290      7406250   43   \n",
       "\n",
       "   SALE_YEAR  BUILDTYPE_Commercial  BUILDTYPE_House  BUILDTYPE_Others  \\\n",
       "0       2011                     1                0                 0   \n",
       "1       2006                     1                0                 0   \n",
       "2       2012                     1                0                 0   \n",
       "3       2010                     0                0                 1   \n",
       "4       2009                     0                0                 1   \n",
       "\n",
       "   UTILITY_AVAIL_All Pub  UTILITY_AVAIL_ELO  UTILITY_AVAIL_NoSewr  \n",
       "0                      1                  0                     0  \n",
       "1                      1                  0                     0  \n",
       "2                      0                  1                     0  \n",
       "3                      0                  0                     1  \n",
       "4                      1                  0                     0  \n",
       "\n",
       "[5 rows x 25 columns]"
      ]
     },
     "execution_count": 71,
     "metadata": {},
     "output_type": "execute_result"
    }
   ],
   "source": [
    "\n",
    "df = pd.get_dummies(df, columns = ['BUILDTYPE', 'UTILITY_AVAIL'])\n",
    "df.head()"
   ]
  },
  {
   "cell_type": "code",
   "execution_count": 72,
   "id": "4a8e26c7",
   "metadata": {},
   "outputs": [
    {
     "data": {
      "text/plain": [
       "Index(['AREA', 'INT_SQFT', 'DATE_SALE', 'DIST_MAINROAD', 'N_BEDROOM',\n",
       "       'N_BATHROOM', 'N_ROOM', 'SALE_COND', 'PARK_FACIL', 'DATE_BUILD',\n",
       "       'STREET', 'MZZONE', 'QS_ROOMS', 'QS_BATHROOM', 'QS_BEDROOM',\n",
       "       'QS_OVERALL', 'SALES_PRICE', 'Age', 'SALE_YEAR', 'BUILDTYPE_Commercial',\n",
       "       'BUILDTYPE_House', 'BUILDTYPE_Others', 'UTILITY_AVAIL_All Pub',\n",
       "       'UTILITY_AVAIL_ELO', 'UTILITY_AVAIL_NoSewr'],\n",
       "      dtype='object')"
      ]
     },
     "execution_count": 72,
     "metadata": {},
     "output_type": "execute_result"
    }
   ],
   "source": [
    "df.columns"
   ]
  },
  {
   "cell_type": "code",
   "execution_count": 73,
   "id": "440aae2b",
   "metadata": {},
   "outputs": [
    {
     "data": {
      "text/plain": [
       "(7109, 15)"
      ]
     },
     "execution_count": 73,
     "metadata": {},
     "output_type": "execute_result"
    }
   ],
   "source": [
    "X=df[['AREA','INT_SQFT','N_BEDROOM','N_BATHROOM','N_ROOM','SALE_COND','PARK_FACIL','STREET','MZZONE','BUILDTYPE_Commercial','BUILDTYPE_House','BUILDTYPE_Others','UTILITY_AVAIL_All Pub','UTILITY_AVAIL_ELO','UTILITY_AVAIL_NoSewr']]\n",
    "X.shape"
   ]
  },
  {
   "cell_type": "code",
   "execution_count": 74,
   "id": "e6a323ee",
   "metadata": {},
   "outputs": [
    {
     "data": {
      "text/plain": [
       "AREA                     0\n",
       "INT_SQFT                 0\n",
       "N_BEDROOM                0\n",
       "N_BATHROOM               0\n",
       "N_ROOM                   0\n",
       "SALE_COND                0\n",
       "PARK_FACIL               0\n",
       "STREET                   0\n",
       "MZZONE                   0\n",
       "BUILDTYPE_Commercial     0\n",
       "BUILDTYPE_House          0\n",
       "BUILDTYPE_Others         0\n",
       "UTILITY_AVAIL_All Pub    0\n",
       "UTILITY_AVAIL_ELO        0\n",
       "UTILITY_AVAIL_NoSewr     0\n",
       "dtype: int64"
      ]
     },
     "execution_count": 74,
     "metadata": {},
     "output_type": "execute_result"
    }
   ],
   "source": [
    "X.isnull().sum()"
   ]
  },
  {
   "cell_type": "code",
   "execution_count": 75,
   "id": "dd1c29f2",
   "metadata": {},
   "outputs": [
    {
     "data": {
      "text/html": [
       "<div>\n",
       "<style scoped>\n",
       "    .dataframe tbody tr th:only-of-type {\n",
       "        vertical-align: middle;\n",
       "    }\n",
       "\n",
       "    .dataframe tbody tr th {\n",
       "        vertical-align: top;\n",
       "    }\n",
       "\n",
       "    .dataframe thead th {\n",
       "        text-align: right;\n",
       "    }\n",
       "</style>\n",
       "<table border=\"1\" class=\"dataframe\">\n",
       "  <thead>\n",
       "    <tr style=\"text-align: right;\">\n",
       "      <th></th>\n",
       "      <th>AREA</th>\n",
       "      <th>INT_SQFT</th>\n",
       "      <th>N_BEDROOM</th>\n",
       "      <th>N_BATHROOM</th>\n",
       "      <th>N_ROOM</th>\n",
       "      <th>SALE_COND</th>\n",
       "      <th>PARK_FACIL</th>\n",
       "      <th>STREET</th>\n",
       "      <th>MZZONE</th>\n",
       "      <th>BUILDTYPE_Commercial</th>\n",
       "      <th>BUILDTYPE_House</th>\n",
       "      <th>BUILDTYPE_Others</th>\n",
       "      <th>UTILITY_AVAIL_All Pub</th>\n",
       "      <th>UTILITY_AVAIL_ELO</th>\n",
       "      <th>UTILITY_AVAIL_NoSewr</th>\n",
       "    </tr>\n",
       "  </thead>\n",
       "  <tbody>\n",
       "    <tr>\n",
       "      <th>0</th>\n",
       "      <td>0</td>\n",
       "      <td>1004</td>\n",
       "      <td>1</td>\n",
       "      <td>3</td>\n",
       "      <td>3</td>\n",
       "      <td>2</td>\n",
       "      <td>1</td>\n",
       "      <td>1</td>\n",
       "      <td>0</td>\n",
       "      <td>1</td>\n",
       "      <td>0</td>\n",
       "      <td>0</td>\n",
       "      <td>1</td>\n",
       "      <td>0</td>\n",
       "      <td>0</td>\n",
       "    </tr>\n",
       "    <tr>\n",
       "      <th>1</th>\n",
       "      <td>5</td>\n",
       "      <td>1986</td>\n",
       "      <td>2</td>\n",
       "      <td>4</td>\n",
       "      <td>5</td>\n",
       "      <td>2</td>\n",
       "      <td>0</td>\n",
       "      <td>1</td>\n",
       "      <td>4</td>\n",
       "      <td>1</td>\n",
       "      <td>0</td>\n",
       "      <td>0</td>\n",
       "      <td>1</td>\n",
       "      <td>0</td>\n",
       "      <td>0</td>\n",
       "    </tr>\n",
       "    <tr>\n",
       "      <th>2</th>\n",
       "      <td>1</td>\n",
       "      <td>909</td>\n",
       "      <td>1</td>\n",
       "      <td>3</td>\n",
       "      <td>3</td>\n",
       "      <td>2</td>\n",
       "      <td>1</td>\n",
       "      <td>1</td>\n",
       "      <td>5</td>\n",
       "      <td>1</td>\n",
       "      <td>0</td>\n",
       "      <td>0</td>\n",
       "      <td>0</td>\n",
       "      <td>1</td>\n",
       "      <td>0</td>\n",
       "    </tr>\n",
       "    <tr>\n",
       "      <th>3</th>\n",
       "      <td>3</td>\n",
       "      <td>1855</td>\n",
       "      <td>3</td>\n",
       "      <td>3</td>\n",
       "      <td>5</td>\n",
       "      <td>1</td>\n",
       "      <td>0</td>\n",
       "      <td>1</td>\n",
       "      <td>2</td>\n",
       "      <td>0</td>\n",
       "      <td>0</td>\n",
       "      <td>1</td>\n",
       "      <td>0</td>\n",
       "      <td>0</td>\n",
       "      <td>1</td>\n",
       "    </tr>\n",
       "    <tr>\n",
       "      <th>4</th>\n",
       "      <td>0</td>\n",
       "      <td>1226</td>\n",
       "      <td>1</td>\n",
       "      <td>2</td>\n",
       "      <td>3</td>\n",
       "      <td>2</td>\n",
       "      <td>1</td>\n",
       "      <td>1</td>\n",
       "      <td>1</td>\n",
       "      <td>0</td>\n",
       "      <td>0</td>\n",
       "      <td>1</td>\n",
       "      <td>1</td>\n",
       "      <td>0</td>\n",
       "      <td>0</td>\n",
       "    </tr>\n",
       "  </tbody>\n",
       "</table>\n",
       "</div>"
      ],
      "text/plain": [
       "   AREA  INT_SQFT  N_BEDROOM  N_BATHROOM  N_ROOM  SALE_COND  PARK_FACIL  \\\n",
       "0     0      1004          1           3       3          2           1   \n",
       "1     5      1986          2           4       5          2           0   \n",
       "2     1       909          1           3       3          2           1   \n",
       "3     3      1855          3           3       5          1           0   \n",
       "4     0      1226          1           2       3          2           1   \n",
       "\n",
       "   STREET  MZZONE  BUILDTYPE_Commercial  BUILDTYPE_House  BUILDTYPE_Others  \\\n",
       "0       1       0                     1                0                 0   \n",
       "1       1       4                     1                0                 0   \n",
       "2       1       5                     1                0                 0   \n",
       "3       1       2                     0                0                 1   \n",
       "4       1       1                     0                0                 1   \n",
       "\n",
       "   UTILITY_AVAIL_All Pub  UTILITY_AVAIL_ELO  UTILITY_AVAIL_NoSewr  \n",
       "0                      1                  0                     0  \n",
       "1                      1                  0                     0  \n",
       "2                      0                  1                     0  \n",
       "3                      0                  0                     1  \n",
       "4                      1                  0                     0  "
      ]
     },
     "execution_count": 75,
     "metadata": {},
     "output_type": "execute_result"
    }
   ],
   "source": [
    "X.head()"
   ]
  },
  {
   "cell_type": "code",
   "execution_count": 76,
   "id": "a9baf24f",
   "metadata": {},
   "outputs": [],
   "source": [
    "y=df['SALES_PRICE']"
   ]
  },
  {
   "cell_type": "markdown",
   "id": "9abc0322",
   "metadata": {},
   "source": [
    "# Splitting the DATA"
   ]
  },
  {
   "cell_type": "code",
   "execution_count": 77,
   "id": "5d731310",
   "metadata": {},
   "outputs": [],
   "source": [
    "from sklearn.model_selection import train_test_split\n",
    "X_train, X_test, y_train, y_test = train_test_split(X, y, test_size=0.3,random_state=8)"
   ]
  },
  {
   "cell_type": "markdown",
   "id": "ff79a848",
   "metadata": {},
   "source": [
    "### Scaling the DATA"
   ]
  },
  {
   "cell_type": "code",
   "execution_count": 78,
   "id": "85046770",
   "metadata": {},
   "outputs": [],
   "source": [
    "from sklearn.preprocessing import StandardScaler\n",
    "scaler=StandardScaler()\n",
    "X_train= scaler.fit_transform(X_train)\n",
    "X_test = scaler.transform(X_test)"
   ]
  },
  {
   "cell_type": "markdown",
   "id": "056e7cbf",
   "metadata": {},
   "source": [
    "# ML MODELS"
   ]
  },
  {
   "cell_type": "markdown",
   "id": "ff3a08f1",
   "metadata": {},
   "source": [
    "# Linear Regression"
   ]
  },
  {
   "cell_type": "code",
   "execution_count": 79,
   "id": "f7459e42",
   "metadata": {},
   "outputs": [
    {
     "data": {
      "text/html": [
       "<style>#sk-container-id-1 {color: black;background-color: white;}#sk-container-id-1 pre{padding: 0;}#sk-container-id-1 div.sk-toggleable {background-color: white;}#sk-container-id-1 label.sk-toggleable__label {cursor: pointer;display: block;width: 100%;margin-bottom: 0;padding: 0.3em;box-sizing: border-box;text-align: center;}#sk-container-id-1 label.sk-toggleable__label-arrow:before {content: \"▸\";float: left;margin-right: 0.25em;color: #696969;}#sk-container-id-1 label.sk-toggleable__label-arrow:hover:before {color: black;}#sk-container-id-1 div.sk-estimator:hover label.sk-toggleable__label-arrow:before {color: black;}#sk-container-id-1 div.sk-toggleable__content {max-height: 0;max-width: 0;overflow: hidden;text-align: left;background-color: #f0f8ff;}#sk-container-id-1 div.sk-toggleable__content pre {margin: 0.2em;color: black;border-radius: 0.25em;background-color: #f0f8ff;}#sk-container-id-1 input.sk-toggleable__control:checked~div.sk-toggleable__content {max-height: 200px;max-width: 100%;overflow: auto;}#sk-container-id-1 input.sk-toggleable__control:checked~label.sk-toggleable__label-arrow:before {content: \"▾\";}#sk-container-id-1 div.sk-estimator input.sk-toggleable__control:checked~label.sk-toggleable__label {background-color: #d4ebff;}#sk-container-id-1 div.sk-label input.sk-toggleable__control:checked~label.sk-toggleable__label {background-color: #d4ebff;}#sk-container-id-1 input.sk-hidden--visually {border: 0;clip: rect(1px 1px 1px 1px);clip: rect(1px, 1px, 1px, 1px);height: 1px;margin: -1px;overflow: hidden;padding: 0;position: absolute;width: 1px;}#sk-container-id-1 div.sk-estimator {font-family: monospace;background-color: #f0f8ff;border: 1px dotted black;border-radius: 0.25em;box-sizing: border-box;margin-bottom: 0.5em;}#sk-container-id-1 div.sk-estimator:hover {background-color: #d4ebff;}#sk-container-id-1 div.sk-parallel-item::after {content: \"\";width: 100%;border-bottom: 1px solid gray;flex-grow: 1;}#sk-container-id-1 div.sk-label:hover label.sk-toggleable__label {background-color: #d4ebff;}#sk-container-id-1 div.sk-serial::before {content: \"\";position: absolute;border-left: 1px solid gray;box-sizing: border-box;top: 0;bottom: 0;left: 50%;z-index: 0;}#sk-container-id-1 div.sk-serial {display: flex;flex-direction: column;align-items: center;background-color: white;padding-right: 0.2em;padding-left: 0.2em;position: relative;}#sk-container-id-1 div.sk-item {position: relative;z-index: 1;}#sk-container-id-1 div.sk-parallel {display: flex;align-items: stretch;justify-content: center;background-color: white;position: relative;}#sk-container-id-1 div.sk-item::before, #sk-container-id-1 div.sk-parallel-item::before {content: \"\";position: absolute;border-left: 1px solid gray;box-sizing: border-box;top: 0;bottom: 0;left: 50%;z-index: -1;}#sk-container-id-1 div.sk-parallel-item {display: flex;flex-direction: column;z-index: 1;position: relative;background-color: white;}#sk-container-id-1 div.sk-parallel-item:first-child::after {align-self: flex-end;width: 50%;}#sk-container-id-1 div.sk-parallel-item:last-child::after {align-self: flex-start;width: 50%;}#sk-container-id-1 div.sk-parallel-item:only-child::after {width: 0;}#sk-container-id-1 div.sk-dashed-wrapped {border: 1px dashed gray;margin: 0 0.4em 0.5em 0.4em;box-sizing: border-box;padding-bottom: 0.4em;background-color: white;}#sk-container-id-1 div.sk-label label {font-family: monospace;font-weight: bold;display: inline-block;line-height: 1.2em;}#sk-container-id-1 div.sk-label-container {text-align: center;}#sk-container-id-1 div.sk-container {/* jupyter's `normalize.less` sets `[hidden] { display: none; }` but bootstrap.min.css set `[hidden] { display: none !important; }` so we also need the `!important` here to be able to override the default hidden behavior on the sphinx rendered scikit-learn.org. See: https://github.com/scikit-learn/scikit-learn/issues/21755 */display: inline-block !important;position: relative;}#sk-container-id-1 div.sk-text-repr-fallback {display: none;}</style><div id=\"sk-container-id-1\" class=\"sk-top-container\"><div class=\"sk-text-repr-fallback\"><pre>LinearRegression()</pre><b>In a Jupyter environment, please rerun this cell to show the HTML representation or trust the notebook. <br />On GitHub, the HTML representation is unable to render, please try loading this page with nbviewer.org.</b></div><div class=\"sk-container\" hidden><div class=\"sk-item\"><div class=\"sk-estimator sk-toggleable\"><input class=\"sk-toggleable__control sk-hidden--visually\" id=\"sk-estimator-id-1\" type=\"checkbox\" checked><label for=\"sk-estimator-id-1\" class=\"sk-toggleable__label sk-toggleable__label-arrow\">LinearRegression</label><div class=\"sk-toggleable__content\"><pre>LinearRegression()</pre></div></div></div></div></div>"
      ],
      "text/plain": [
       "LinearRegression()"
      ]
     },
     "execution_count": 79,
     "metadata": {},
     "output_type": "execute_result"
    }
   ],
   "source": [
    "from sklearn.linear_model import LinearRegression #importing all the required functions\n",
    "regressor = LinearRegression() # spredicted score = m * hours + c  \n",
    "regressor.fit(X_train, y_train)"
   ]
  },
  {
   "cell_type": "code",
   "execution_count": 80,
   "id": "b3322dea",
   "metadata": {},
   "outputs": [
    {
     "name": "stdout",
     "output_type": "stream",
     "text": [
      "10932878.228368744\n"
     ]
    }
   ],
   "source": [
    "print(regressor.intercept_) # c"
   ]
  },
  {
   "cell_type": "code",
   "execution_count": 81,
   "id": "2cc084d5",
   "metadata": {},
   "outputs": [
    {
     "data": {
      "text/html": [
       "<div>\n",
       "<style scoped>\n",
       "    .dataframe tbody tr th:only-of-type {\n",
       "        vertical-align: middle;\n",
       "    }\n",
       "\n",
       "    .dataframe tbody tr th {\n",
       "        vertical-align: top;\n",
       "    }\n",
       "\n",
       "    .dataframe thead th {\n",
       "        text-align: right;\n",
       "    }\n",
       "</style>\n",
       "<table border=\"1\" class=\"dataframe\">\n",
       "  <thead>\n",
       "    <tr style=\"text-align: right;\">\n",
       "      <th></th>\n",
       "      <th>Coefficient</th>\n",
       "    </tr>\n",
       "  </thead>\n",
       "  <tbody>\n",
       "    <tr>\n",
       "      <th>AREA</th>\n",
       "      <td>9.901656e+05</td>\n",
       "    </tr>\n",
       "    <tr>\n",
       "      <th>INT_SQFT</th>\n",
       "      <td>6.865188e+05</td>\n",
       "    </tr>\n",
       "    <tr>\n",
       "      <th>N_BEDROOM</th>\n",
       "      <td>-1.207748e+06</td>\n",
       "    </tr>\n",
       "    <tr>\n",
       "      <th>N_BATHROOM</th>\n",
       "      <td>4.328102e+03</td>\n",
       "    </tr>\n",
       "    <tr>\n",
       "      <th>N_ROOM</th>\n",
       "      <td>1.791339e+06</td>\n",
       "    </tr>\n",
       "    <tr>\n",
       "      <th>SALE_COND</th>\n",
       "      <td>2.129051e+05</td>\n",
       "    </tr>\n",
       "    <tr>\n",
       "      <th>PARK_FACIL</th>\n",
       "      <td>5.047628e+05</td>\n",
       "    </tr>\n",
       "    <tr>\n",
       "      <th>STREET</th>\n",
       "      <td>3.435473e+05</td>\n",
       "    </tr>\n",
       "    <tr>\n",
       "      <th>MZZONE</th>\n",
       "      <td>8.997798e+05</td>\n",
       "    </tr>\n",
       "    <tr>\n",
       "      <th>BUILDTYPE_Commercial</th>\n",
       "      <td>3.889279e+18</td>\n",
       "    </tr>\n",
       "    <tr>\n",
       "      <th>BUILDTYPE_House</th>\n",
       "      <td>3.912470e+18</td>\n",
       "    </tr>\n",
       "    <tr>\n",
       "      <th>BUILDTYPE_Others</th>\n",
       "      <td>3.884488e+18</td>\n",
       "    </tr>\n",
       "    <tr>\n",
       "      <th>UTILITY_AVAIL_All Pub</th>\n",
       "      <td>-1.693266e+19</td>\n",
       "    </tr>\n",
       "    <tr>\n",
       "      <th>UTILITY_AVAIL_ELO</th>\n",
       "      <td>-1.570438e+19</td>\n",
       "    </tr>\n",
       "    <tr>\n",
       "      <th>UTILITY_AVAIL_NoSewr</th>\n",
       "      <td>-1.908973e+19</td>\n",
       "    </tr>\n",
       "  </tbody>\n",
       "</table>\n",
       "</div>"
      ],
      "text/plain": [
       "                        Coefficient\n",
       "AREA                   9.901656e+05\n",
       "INT_SQFT               6.865188e+05\n",
       "N_BEDROOM             -1.207748e+06\n",
       "N_BATHROOM             4.328102e+03\n",
       "N_ROOM                 1.791339e+06\n",
       "SALE_COND              2.129051e+05\n",
       "PARK_FACIL             5.047628e+05\n",
       "STREET                 3.435473e+05\n",
       "MZZONE                 8.997798e+05\n",
       "BUILDTYPE_Commercial   3.889279e+18\n",
       "BUILDTYPE_House        3.912470e+18\n",
       "BUILDTYPE_Others       3.884488e+18\n",
       "UTILITY_AVAIL_All Pub -1.693266e+19\n",
       "UTILITY_AVAIL_ELO     -1.570438e+19\n",
       "UTILITY_AVAIL_NoSewr  -1.908973e+19"
      ]
     },
     "execution_count": 81,
     "metadata": {},
     "output_type": "execute_result"
    }
   ],
   "source": [
    "coeff_df=pd.DataFrame(regressor.coef_,['AREA','INT_SQFT','N_BEDROOM','N_BATHROOM','N_ROOM','SALE_COND','PARK_FACIL','STREET','MZZONE','BUILDTYPE_Commercial','BUILDTYPE_House','BUILDTYPE_Others','UTILITY_AVAIL_All Pub','UTILITY_AVAIL_ELO','UTILITY_AVAIL_NoSewr'], columns=['Coefficient'])\n",
    "coeff_df"
   ]
  },
  {
   "cell_type": "code",
   "execution_count": 82,
   "id": "2f994f92",
   "metadata": {},
   "outputs": [],
   "source": [
    "y_pred = regressor.predict(X_test) "
   ]
  },
  {
   "cell_type": "code",
   "execution_count": 83,
   "id": "614de57f",
   "metadata": {},
   "outputs": [
    {
     "data": {
      "text/html": [
       "<div>\n",
       "<style scoped>\n",
       "    .dataframe tbody tr th:only-of-type {\n",
       "        vertical-align: middle;\n",
       "    }\n",
       "\n",
       "    .dataframe tbody tr th {\n",
       "        vertical-align: top;\n",
       "    }\n",
       "\n",
       "    .dataframe thead th {\n",
       "        text-align: right;\n",
       "    }\n",
       "</style>\n",
       "<table border=\"1\" class=\"dataframe\">\n",
       "  <thead>\n",
       "    <tr style=\"text-align: right;\">\n",
       "      <th></th>\n",
       "      <th>Actual</th>\n",
       "      <th>Predicted</th>\n",
       "      <th>Error</th>\n",
       "    </tr>\n",
       "  </thead>\n",
       "  <tbody>\n",
       "    <tr>\n",
       "      <th>3517</th>\n",
       "      <td>12544800</td>\n",
       "      <td>1.250165e+07</td>\n",
       "      <td>-4.315377e+04</td>\n",
       "    </tr>\n",
       "    <tr>\n",
       "      <th>2663</th>\n",
       "      <td>11244250</td>\n",
       "      <td>1.255080e+07</td>\n",
       "      <td>1.306548e+06</td>\n",
       "    </tr>\n",
       "    <tr>\n",
       "      <th>5650</th>\n",
       "      <td>13081220</td>\n",
       "      <td>1.351745e+07</td>\n",
       "      <td>4.362342e+05</td>\n",
       "    </tr>\n",
       "    <tr>\n",
       "      <th>4354</th>\n",
       "      <td>10455360</td>\n",
       "      <td>1.158005e+07</td>\n",
       "      <td>1.124686e+06</td>\n",
       "    </tr>\n",
       "    <tr>\n",
       "      <th>4835</th>\n",
       "      <td>9786000</td>\n",
       "      <td>9.507470e+06</td>\n",
       "      <td>-2.785298e+05</td>\n",
       "    </tr>\n",
       "    <tr>\n",
       "      <th>...</th>\n",
       "      <td>...</td>\n",
       "      <td>...</td>\n",
       "      <td>...</td>\n",
       "    </tr>\n",
       "    <tr>\n",
       "      <th>2957</th>\n",
       "      <td>7596170</td>\n",
       "      <td>8.249998e+06</td>\n",
       "      <td>6.538282e+05</td>\n",
       "    </tr>\n",
       "    <tr>\n",
       "      <th>1769</th>\n",
       "      <td>12807300</td>\n",
       "      <td>1.253851e+07</td>\n",
       "      <td>-2.687898e+05</td>\n",
       "    </tr>\n",
       "    <tr>\n",
       "      <th>2129</th>\n",
       "      <td>8925160</td>\n",
       "      <td>1.068712e+07</td>\n",
       "      <td>1.761958e+06</td>\n",
       "    </tr>\n",
       "    <tr>\n",
       "      <th>6758</th>\n",
       "      <td>9896880</td>\n",
       "      <td>1.081000e+07</td>\n",
       "      <td>9.131182e+05</td>\n",
       "    </tr>\n",
       "    <tr>\n",
       "      <th>5194</th>\n",
       "      <td>13164420</td>\n",
       "      <td>1.352155e+07</td>\n",
       "      <td>3.571302e+05</td>\n",
       "    </tr>\n",
       "  </tbody>\n",
       "</table>\n",
       "<p>2133 rows × 3 columns</p>\n",
       "</div>"
      ],
      "text/plain": [
       "        Actual     Predicted         Error\n",
       "3517  12544800  1.250165e+07 -4.315377e+04\n",
       "2663  11244250  1.255080e+07  1.306548e+06\n",
       "5650  13081220  1.351745e+07  4.362342e+05\n",
       "4354  10455360  1.158005e+07  1.124686e+06\n",
       "4835   9786000  9.507470e+06 -2.785298e+05\n",
       "...        ...           ...           ...\n",
       "2957   7596170  8.249998e+06  6.538282e+05\n",
       "1769  12807300  1.253851e+07 -2.687898e+05\n",
       "2129   8925160  1.068712e+07  1.761958e+06\n",
       "6758   9896880  1.081000e+07  9.131182e+05\n",
       "5194  13164420  1.352155e+07  3.571302e+05\n",
       "\n",
       "[2133 rows x 3 columns]"
      ]
     },
     "execution_count": 83,
     "metadata": {},
     "output_type": "execute_result"
    }
   ],
   "source": [
    "ldf = pd.DataFrame({'Actual': y_test, 'Predicted': y_pred,'Error': y_pred - y_test})\n",
    "ldf"
   ]
  },
  {
   "cell_type": "code",
   "execution_count": 84,
   "id": "e3d5c8b9",
   "metadata": {},
   "outputs": [
    {
     "name": "stdout",
     "output_type": "stream",
     "text": [
      "Linear Regression R2- SCORE: 0.9121621004072995\n"
     ]
    }
   ],
   "source": [
    "from sklearn import metrics\n",
    "print('Linear Regression R2- SCORE:', metrics.r2_score(y_test,y_pred))"
   ]
  },
  {
   "cell_type": "markdown",
   "id": "0eafcadf",
   "metadata": {},
   "source": [
    "# KNN Regression MODEL"
   ]
  },
  {
   "cell_type": "code",
   "execution_count": 85,
   "id": "aa7ffc46",
   "metadata": {},
   "outputs": [
    {
     "data": {
      "text/html": [
       "<div>\n",
       "<style scoped>\n",
       "    .dataframe tbody tr th:only-of-type {\n",
       "        vertical-align: middle;\n",
       "    }\n",
       "\n",
       "    .dataframe tbody tr th {\n",
       "        vertical-align: top;\n",
       "    }\n",
       "\n",
       "    .dataframe thead th {\n",
       "        text-align: right;\n",
       "    }\n",
       "</style>\n",
       "<table border=\"1\" class=\"dataframe\">\n",
       "  <thead>\n",
       "    <tr style=\"text-align: right;\">\n",
       "      <th></th>\n",
       "      <th>Actual</th>\n",
       "      <th>Predicted</th>\n",
       "      <th>Error</th>\n",
       "    </tr>\n",
       "  </thead>\n",
       "  <tbody>\n",
       "    <tr>\n",
       "      <th>3517</th>\n",
       "      <td>12544800</td>\n",
       "      <td>11830578.0</td>\n",
       "      <td>714222.0</td>\n",
       "    </tr>\n",
       "    <tr>\n",
       "      <th>2663</th>\n",
       "      <td>11244250</td>\n",
       "      <td>11551020.0</td>\n",
       "      <td>-306770.0</td>\n",
       "    </tr>\n",
       "    <tr>\n",
       "      <th>5650</th>\n",
       "      <td>13081220</td>\n",
       "      <td>11547026.0</td>\n",
       "      <td>1534194.0</td>\n",
       "    </tr>\n",
       "    <tr>\n",
       "      <th>4354</th>\n",
       "      <td>10455360</td>\n",
       "      <td>10780664.0</td>\n",
       "      <td>-325304.0</td>\n",
       "    </tr>\n",
       "    <tr>\n",
       "      <th>4835</th>\n",
       "      <td>9786000</td>\n",
       "      <td>10130702.0</td>\n",
       "      <td>-344702.0</td>\n",
       "    </tr>\n",
       "    <tr>\n",
       "      <th>...</th>\n",
       "      <td>...</td>\n",
       "      <td>...</td>\n",
       "      <td>...</td>\n",
       "    </tr>\n",
       "    <tr>\n",
       "      <th>2957</th>\n",
       "      <td>7596170</td>\n",
       "      <td>8923827.0</td>\n",
       "      <td>-1327657.0</td>\n",
       "    </tr>\n",
       "    <tr>\n",
       "      <th>1769</th>\n",
       "      <td>12807300</td>\n",
       "      <td>11154500.0</td>\n",
       "      <td>1652800.0</td>\n",
       "    </tr>\n",
       "    <tr>\n",
       "      <th>2129</th>\n",
       "      <td>8925160</td>\n",
       "      <td>8917220.0</td>\n",
       "      <td>7940.0</td>\n",
       "    </tr>\n",
       "    <tr>\n",
       "      <th>6758</th>\n",
       "      <td>9896880</td>\n",
       "      <td>10259430.0</td>\n",
       "      <td>-362550.0</td>\n",
       "    </tr>\n",
       "    <tr>\n",
       "      <th>5194</th>\n",
       "      <td>13164420</td>\n",
       "      <td>12918506.0</td>\n",
       "      <td>245914.0</td>\n",
       "    </tr>\n",
       "  </tbody>\n",
       "</table>\n",
       "<p>2133 rows × 3 columns</p>\n",
       "</div>"
      ],
      "text/plain": [
       "        Actual   Predicted      Error\n",
       "3517  12544800  11830578.0   714222.0\n",
       "2663  11244250  11551020.0  -306770.0\n",
       "5650  13081220  11547026.0  1534194.0\n",
       "4354  10455360  10780664.0  -325304.0\n",
       "4835   9786000  10130702.0  -344702.0\n",
       "...        ...         ...        ...\n",
       "2957   7596170   8923827.0 -1327657.0\n",
       "1769  12807300  11154500.0  1652800.0\n",
       "2129   8925160   8917220.0     7940.0\n",
       "6758   9896880  10259430.0  -362550.0\n",
       "5194  13164420  12918506.0   245914.0\n",
       "\n",
       "[2133 rows x 3 columns]"
      ]
     },
     "execution_count": 85,
     "metadata": {},
     "output_type": "execute_result"
    }
   ],
   "source": [
    "from sklearn.neighbors import KNeighborsRegressor\n",
    "\n",
    "knn_model = KNeighborsRegressor()\n",
    "\n",
    "knn_model.fit(X_train,y_train)\n",
    "# Predictions\n",
    "knnpreds = knn_model.predict(X_test)\n",
    "\n",
    "# Performance\n",
    "performance = pd.DataFrame({ 'Actual': y_test,\n",
    "                            'Predicted': knnpreds,\n",
    "                            'Error': y_test - knnpreds})\n",
    "# View\n",
    "performance"
   ]
  },
  {
   "cell_type": "markdown",
   "id": "b689426a",
   "metadata": {},
   "source": [
    "### CROSS VALIDATION SCORE FOR KNN MODEL"
   ]
  },
  {
   "cell_type": "code",
   "execution_count": 86,
   "id": "88d378e2",
   "metadata": {},
   "outputs": [
    {
     "name": "stdout",
     "output_type": "stream",
     "text": [
      "K value  :  1  train score :  0.9999974179558855  test score :  0.9058181034502278  score :  0.8993084307744764\n",
      "K value  :  2  train score :  0.9759842981680112  test score :  0.9230907012778274  score :  0.9200587519616821\n",
      "K value  :  3  train score :  0.965811214601573  test score :  0.9261174356337402  score :  0.9245616102929967\n",
      "K value  :  4  train score :  0.958659362527833  test score :  0.9246178023491257  score :  0.9235804665028471\n",
      "K value  :  5  train score :  0.9527605469827862  test score :  0.9233036406815367  score :  0.9211140744725608\n",
      "K value  :  6  train score :  0.9477384121320283  test score :  0.9210911173019554  score :  0.9189647066866392\n",
      "K value  :  7  train score :  0.9432036992867656  test score :  0.9188088735772748  score :  0.9178438841625625\n",
      "K value  :  8  train score :  0.9395353336762708  test score :  0.9170757284227983  score :  0.9153642569846783\n",
      "K value  :  9  train score :  0.9364127689453923  test score :  0.9151830047801599  score :  0.9126955918147776\n",
      "K value  :  10  train score :  0.9331693526324287  test score :  0.9129878752528318  score :  0.9104537445955483\n",
      "K value  :  20  train score :  0.9095900415959393  test score :  0.8987317761931805  score :  0.8941100596617269\n",
      "K value  :  50  train score :  0.8801477219674975  test score :  0.8689991218737766  score :  0.8704241831631736\n"
     ]
    }
   ],
   "source": [
    "from sklearn.model_selection import cross_val_score\n",
    "for i in [1,2,3,4,5,6,7,8,9,10,20,50]:\n",
    "    knn = KNeighborsRegressor(i) #initialising the model\n",
    "    knn.fit(X_train,y_train) # training the model\n",
    "    print(\"K value  : \" , i, \" train score : \", knn.score(X_train,y_train) , \" test score : \", knn.score(X_test,y_test) , \" score : \", np.mean(cross_val_score(knn, X_train, y_train, cv=10))) #predicting using the model\n"
   ]
  },
  {
   "cell_type": "code",
   "execution_count": 111,
   "id": "b0e034a1",
   "metadata": {},
   "outputs": [
    {
     "name": "stdout",
     "output_type": "stream",
     "text": [
      "According to cross validation score Best KNN model :k=4\n",
      "0.9246178023491257\n"
     ]
    }
   ],
   "source": [
    "from sklearn.neighbors import KNeighborsRegressor\n",
    "\n",
    "knn_model = KNeighborsRegressor(n_neighbors=4).fit(X_train, y_train)\n",
    "\n",
    "# Score\n",
    "score_knn = knn_model.score(X_test, y_test)\n",
    "\n",
    "print('According to cross validation score Best KNN model :k=4')\n",
    "print(score_knn)"
   ]
  },
  {
   "cell_type": "markdown",
   "id": "2d43207b",
   "metadata": {},
   "source": [
    "### Feature Selection using Decision Tree Classifier"
   ]
  },
  {
   "cell_type": "code",
   "execution_count": 88,
   "id": "b4b0bc9e",
   "metadata": {},
   "outputs": [
    {
     "data": {
      "text/plain": [
       "array([0.01648459, 0.29492468, 0.        , 0.10066755, 0.        ,\n",
       "       0.11507551, 0.03294426, 0.05934872, 0.11447493, 0.06891674,\n",
       "       0.06557135, 0.03237203, 0.01618602, 0.03237203, 0.05066158])"
      ]
     },
     "execution_count": 88,
     "metadata": {},
     "output_type": "execute_result"
    }
   ],
   "source": [
    "from sklearn.tree import DecisionTreeClassifier\n",
    "dt = DecisionTreeClassifier(max_depth = 6)\n",
    "# Fit dt to the training set\n",
    "dt.fit(X_train, y_train)\n",
    "importance = dt.feature_importances_\n",
    "importance"
   ]
  },
  {
   "cell_type": "code",
   "execution_count": 89,
   "id": "b913e1d0",
   "metadata": {},
   "outputs": [
    {
     "data": {
      "text/html": [
       "<div>\n",
       "<style scoped>\n",
       "    .dataframe tbody tr th:only-of-type {\n",
       "        vertical-align: middle;\n",
       "    }\n",
       "\n",
       "    .dataframe tbody tr th {\n",
       "        vertical-align: top;\n",
       "    }\n",
       "\n",
       "    .dataframe thead th {\n",
       "        text-align: right;\n",
       "    }\n",
       "</style>\n",
       "<table border=\"1\" class=\"dataframe\">\n",
       "  <thead>\n",
       "    <tr style=\"text-align: right;\">\n",
       "      <th></th>\n",
       "      <th>IMPORTANCE</th>\n",
       "    </tr>\n",
       "  </thead>\n",
       "  <tbody>\n",
       "    <tr>\n",
       "      <th>AREA</th>\n",
       "      <td>0.016485</td>\n",
       "    </tr>\n",
       "    <tr>\n",
       "      <th>INT_SQFT</th>\n",
       "      <td>0.294925</td>\n",
       "    </tr>\n",
       "    <tr>\n",
       "      <th>N_BEDROOM</th>\n",
       "      <td>0.000000</td>\n",
       "    </tr>\n",
       "    <tr>\n",
       "      <th>N_BATHROOM</th>\n",
       "      <td>0.100668</td>\n",
       "    </tr>\n",
       "    <tr>\n",
       "      <th>N_ROOM</th>\n",
       "      <td>0.000000</td>\n",
       "    </tr>\n",
       "    <tr>\n",
       "      <th>SALE_COND</th>\n",
       "      <td>0.115076</td>\n",
       "    </tr>\n",
       "    <tr>\n",
       "      <th>PARK_FACIL</th>\n",
       "      <td>0.032944</td>\n",
       "    </tr>\n",
       "    <tr>\n",
       "      <th>STREET</th>\n",
       "      <td>0.059349</td>\n",
       "    </tr>\n",
       "    <tr>\n",
       "      <th>MZZONE</th>\n",
       "      <td>0.114475</td>\n",
       "    </tr>\n",
       "    <tr>\n",
       "      <th>BUILDTYPE_Commercial</th>\n",
       "      <td>0.068917</td>\n",
       "    </tr>\n",
       "    <tr>\n",
       "      <th>BUILDTYPE_House</th>\n",
       "      <td>0.065571</td>\n",
       "    </tr>\n",
       "    <tr>\n",
       "      <th>BUILDTYPE_Others</th>\n",
       "      <td>0.032372</td>\n",
       "    </tr>\n",
       "    <tr>\n",
       "      <th>UTILITY_AVAIL_All Pub</th>\n",
       "      <td>0.016186</td>\n",
       "    </tr>\n",
       "    <tr>\n",
       "      <th>UTILITY_AVAIL_ELO</th>\n",
       "      <td>0.032372</td>\n",
       "    </tr>\n",
       "    <tr>\n",
       "      <th>UTILITY_AVAIL_NoSewr</th>\n",
       "      <td>0.050662</td>\n",
       "    </tr>\n",
       "  </tbody>\n",
       "</table>\n",
       "</div>"
      ],
      "text/plain": [
       "                       IMPORTANCE\n",
       "AREA                     0.016485\n",
       "INT_SQFT                 0.294925\n",
       "N_BEDROOM                0.000000\n",
       "N_BATHROOM               0.100668\n",
       "N_ROOM                   0.000000\n",
       "SALE_COND                0.115076\n",
       "PARK_FACIL               0.032944\n",
       "STREET                   0.059349\n",
       "MZZONE                   0.114475\n",
       "BUILDTYPE_Commercial     0.068917\n",
       "BUILDTYPE_House          0.065571\n",
       "BUILDTYPE_Others         0.032372\n",
       "UTILITY_AVAIL_All Pub    0.016186\n",
       "UTILITY_AVAIL_ELO        0.032372\n",
       "UTILITY_AVAIL_NoSewr     0.050662"
      ]
     },
     "execution_count": 89,
     "metadata": {},
     "output_type": "execute_result"
    }
   ],
   "source": [
    "idf=pd.DataFrame(importance,['AREA','INT_SQFT','N_BEDROOM','N_BATHROOM','N_ROOM','SALE_COND','PARK_FACIL','STREET','MZZONE','BUILDTYPE_Commercial','BUILDTYPE_House','BUILDTYPE_Others','UTILITY_AVAIL_All Pub','UTILITY_AVAIL_ELO','UTILITY_AVAIL_NoSewr'], columns=['IMPORTANCE'])\n",
    "idf"
   ]
  },
  {
   "cell_type": "markdown",
   "id": "da986031",
   "metadata": {},
   "source": [
    "# PREDICTION USING DECISION TREE REGRESSOR"
   ]
  },
  {
   "cell_type": "code",
   "execution_count": 102,
   "id": "8051f67e",
   "metadata": {},
   "outputs": [
    {
     "data": {
      "text/plain": [
       "array([12564470., 11377000., 13797670., ...,  9808360.,  9225240.,\n",
       "       13177330.])"
      ]
     },
     "execution_count": 102,
     "metadata": {},
     "output_type": "execute_result"
    }
   ],
   "source": [
    "from sklearn.tree import DecisionTreeRegressor\n",
    "\n",
    "# Instantiate dt\n",
    "dt = DecisionTreeRegressor()\n",
    "\n",
    "# Fit dt to the training set\n",
    "dt.fit(X_train, y_train)\n",
    "dy_pred=dt.predict(X_test)\n",
    "dy_pred"
   ]
  },
  {
   "cell_type": "code",
   "execution_count": 103,
   "id": "46d60912",
   "metadata": {},
   "outputs": [
    {
     "data": {
      "text/html": [
       "<div>\n",
       "<style scoped>\n",
       "    .dataframe tbody tr th:only-of-type {\n",
       "        vertical-align: middle;\n",
       "    }\n",
       "\n",
       "    .dataframe tbody tr th {\n",
       "        vertical-align: top;\n",
       "    }\n",
       "\n",
       "    .dataframe thead th {\n",
       "        text-align: right;\n",
       "    }\n",
       "</style>\n",
       "<table border=\"1\" class=\"dataframe\">\n",
       "  <thead>\n",
       "    <tr style=\"text-align: right;\">\n",
       "      <th></th>\n",
       "      <th>Actual</th>\n",
       "      <th>Predicted</th>\n",
       "      <th>Error</th>\n",
       "    </tr>\n",
       "  </thead>\n",
       "  <tbody>\n",
       "    <tr>\n",
       "      <th>3517</th>\n",
       "      <td>12544800</td>\n",
       "      <td>12564470.0</td>\n",
       "      <td>19670.0</td>\n",
       "    </tr>\n",
       "    <tr>\n",
       "      <th>2663</th>\n",
       "      <td>11244250</td>\n",
       "      <td>11377000.0</td>\n",
       "      <td>132750.0</td>\n",
       "    </tr>\n",
       "    <tr>\n",
       "      <th>5650</th>\n",
       "      <td>13081220</td>\n",
       "      <td>13797670.0</td>\n",
       "      <td>716450.0</td>\n",
       "    </tr>\n",
       "    <tr>\n",
       "      <th>4354</th>\n",
       "      <td>10455360</td>\n",
       "      <td>10630800.0</td>\n",
       "      <td>175440.0</td>\n",
       "    </tr>\n",
       "    <tr>\n",
       "      <th>4835</th>\n",
       "      <td>9786000</td>\n",
       "      <td>8899375.0</td>\n",
       "      <td>-886625.0</td>\n",
       "    </tr>\n",
       "    <tr>\n",
       "      <th>...</th>\n",
       "      <td>...</td>\n",
       "      <td>...</td>\n",
       "      <td>...</td>\n",
       "    </tr>\n",
       "    <tr>\n",
       "      <th>2957</th>\n",
       "      <td>7596170</td>\n",
       "      <td>8027540.0</td>\n",
       "      <td>431370.0</td>\n",
       "    </tr>\n",
       "    <tr>\n",
       "      <th>1769</th>\n",
       "      <td>12807300</td>\n",
       "      <td>12415500.0</td>\n",
       "      <td>-391800.0</td>\n",
       "    </tr>\n",
       "    <tr>\n",
       "      <th>2129</th>\n",
       "      <td>8925160</td>\n",
       "      <td>9808360.0</td>\n",
       "      <td>883200.0</td>\n",
       "    </tr>\n",
       "    <tr>\n",
       "      <th>6758</th>\n",
       "      <td>9896880</td>\n",
       "      <td>9225240.0</td>\n",
       "      <td>-671640.0</td>\n",
       "    </tr>\n",
       "    <tr>\n",
       "      <th>5194</th>\n",
       "      <td>13164420</td>\n",
       "      <td>13177330.0</td>\n",
       "      <td>12910.0</td>\n",
       "    </tr>\n",
       "  </tbody>\n",
       "</table>\n",
       "<p>2133 rows × 3 columns</p>\n",
       "</div>"
      ],
      "text/plain": [
       "        Actual   Predicted     Error\n",
       "3517  12544800  12564470.0   19670.0\n",
       "2663  11244250  11377000.0  132750.0\n",
       "5650  13081220  13797670.0  716450.0\n",
       "4354  10455360  10630800.0  175440.0\n",
       "4835   9786000   8899375.0 -886625.0\n",
       "...        ...         ...       ...\n",
       "2957   7596170   8027540.0  431370.0\n",
       "1769  12807300  12415500.0 -391800.0\n",
       "2129   8925160   9808360.0  883200.0\n",
       "6758   9896880   9225240.0 -671640.0\n",
       "5194  13164420  13177330.0   12910.0\n",
       "\n",
       "[2133 rows x 3 columns]"
      ]
     },
     "execution_count": 103,
     "metadata": {},
     "output_type": "execute_result"
    }
   ],
   "source": [
    "performance = pd.DataFrame({ 'Actual': y_test,\n",
    "                            'Predicted': dy_pred,\n",
    "                            'Error': dy_pred - y_test})\n",
    "# View\n",
    "performance"
   ]
  },
  {
   "cell_type": "code",
   "execution_count": 104,
   "id": "80e6a3e3",
   "metadata": {},
   "outputs": [
    {
     "name": "stdout",
     "output_type": "stream",
     "text": [
      "r2_score of decision regressor : 0.9689949724302425\n"
     ]
    }
   ],
   "source": [
    "from sklearn.metrics import  r2_score\n",
    "\n",
    "# Compute y_pred\n",
    "dy_pred = dt.predict(X_test)\n",
    "\n",
    "# Compute mse_dt\n",
    "rsquared = r2_score(y_test,dy_pred)\n",
    "# Compute rmse_dt\n",
    "print('r2_score of decision regressor :',rsquared)\n",
    "\n",
    "# Print rmse_dt\n",
    "#print(\"Test set R2 of dt: {:.2f}\".format(rsquared))"
   ]
  },
  {
   "cell_type": "markdown",
   "id": "f8bce3e6",
   "metadata": {},
   "source": [
    "### CROSS VALIDATION SCORE FOR DECISION TREE"
   ]
  },
  {
   "cell_type": "code",
   "execution_count": 112,
   "id": "198b8a74",
   "metadata": {},
   "outputs": [
    {
     "name": "stdout",
     "output_type": "stream",
     "text": [
      "Depth  :  1  Training Accuracy :  0.36667751923415304  Cross val score :  0.36538307695712074\n",
      "Depth  :  2  Training Accuracy :  0.688429451825878  Cross val score :  0.6862693135848129\n",
      "Depth  :  3  Training Accuracy :  0.8051473854519272  Cross val score :  0.8007991811263985\n",
      "Depth  :  4  Training Accuracy :  0.88963418857153  Cross val score :  0.8846430091817611\n",
      "Depth  :  5  Training Accuracy :  0.92337750068526  Cross val score :  0.9154751535476493\n",
      "Depth  :  6  Training Accuracy :  0.9445782248849857  Cross val score :  0.9352561153243272\n",
      "Depth  :  7  Training Accuracy :  0.959789694531038  Cross val score :  0.9491723486842332\n",
      "Depth  :  8  Training Accuracy :  0.972180730057831  Cross val score :  0.9588263762021956\n",
      "Depth  :  9  Training Accuracy :  0.981450275443571  Cross val score :  0.964767285496392\n",
      "Depth  :  10  Training Accuracy :  0.9888614298869515  Cross val score :  0.9683197359522893\n",
      "Depth  :  20  Training Accuracy :  0.9999985387279854  Cross val score :  0.9663726009382865\n",
      "Depth  :  50  Training Accuracy :  0.9999987089779427  Cross val score :  0.9665413032744314\n",
      "Depth  :  75  Training Accuracy :  0.9999987089779427  Cross val score :  0.9663609129557139\n",
      "Depth  :  100  Training Accuracy :  0.9999987089779427  Cross val score :  0.9661192175486025\n"
     ]
    }
   ],
   "source": [
    "from sklearn.model_selection import cross_val_score \n",
    "import numpy as np\n",
    "for depth in [1,2,3,4,5,6,7,8,9,10,20,50,75,100]:\n",
    "    dt = DecisionTreeRegressor(max_depth=depth) \n",
    "    dt.fit(X_train, y_train)\n",
    "    trainAccuracy = r2_score(y_train, dt.predict(X_train)) \n",
    "  \n",
    "    valAccuracy = cross_val_score(dt, X_train, y_train, cv=10)\n",
    "    print(\"Depth  : \", depth, \" Training Accuracy : \", trainAccuracy, \" Cross val score : \" ,np.mean(valAccuracy))"
   ]
  },
  {
   "cell_type": "code",
   "execution_count": null,
   "id": "b818453d",
   "metadata": {},
   "outputs": [],
   "source": []
  },
  {
   "cell_type": "markdown",
   "id": "a6852503",
   "metadata": {},
   "source": [
    "## PREDICTION USING USING RANDOM FOREST REGRESSOR"
   ]
  },
  {
   "cell_type": "code",
   "execution_count": 93,
   "id": "8d6473b3",
   "metadata": {},
   "outputs": [
    {
     "data": {
      "text/html": [
       "<style>#sk-container-id-2 {color: black;background-color: white;}#sk-container-id-2 pre{padding: 0;}#sk-container-id-2 div.sk-toggleable {background-color: white;}#sk-container-id-2 label.sk-toggleable__label {cursor: pointer;display: block;width: 100%;margin-bottom: 0;padding: 0.3em;box-sizing: border-box;text-align: center;}#sk-container-id-2 label.sk-toggleable__label-arrow:before {content: \"▸\";float: left;margin-right: 0.25em;color: #696969;}#sk-container-id-2 label.sk-toggleable__label-arrow:hover:before {color: black;}#sk-container-id-2 div.sk-estimator:hover label.sk-toggleable__label-arrow:before {color: black;}#sk-container-id-2 div.sk-toggleable__content {max-height: 0;max-width: 0;overflow: hidden;text-align: left;background-color: #f0f8ff;}#sk-container-id-2 div.sk-toggleable__content pre {margin: 0.2em;color: black;border-radius: 0.25em;background-color: #f0f8ff;}#sk-container-id-2 input.sk-toggleable__control:checked~div.sk-toggleable__content {max-height: 200px;max-width: 100%;overflow: auto;}#sk-container-id-2 input.sk-toggleable__control:checked~label.sk-toggleable__label-arrow:before {content: \"▾\";}#sk-container-id-2 div.sk-estimator input.sk-toggleable__control:checked~label.sk-toggleable__label {background-color: #d4ebff;}#sk-container-id-2 div.sk-label input.sk-toggleable__control:checked~label.sk-toggleable__label {background-color: #d4ebff;}#sk-container-id-2 input.sk-hidden--visually {border: 0;clip: rect(1px 1px 1px 1px);clip: rect(1px, 1px, 1px, 1px);height: 1px;margin: -1px;overflow: hidden;padding: 0;position: absolute;width: 1px;}#sk-container-id-2 div.sk-estimator {font-family: monospace;background-color: #f0f8ff;border: 1px dotted black;border-radius: 0.25em;box-sizing: border-box;margin-bottom: 0.5em;}#sk-container-id-2 div.sk-estimator:hover {background-color: #d4ebff;}#sk-container-id-2 div.sk-parallel-item::after {content: \"\";width: 100%;border-bottom: 1px solid gray;flex-grow: 1;}#sk-container-id-2 div.sk-label:hover label.sk-toggleable__label {background-color: #d4ebff;}#sk-container-id-2 div.sk-serial::before {content: \"\";position: absolute;border-left: 1px solid gray;box-sizing: border-box;top: 0;bottom: 0;left: 50%;z-index: 0;}#sk-container-id-2 div.sk-serial {display: flex;flex-direction: column;align-items: center;background-color: white;padding-right: 0.2em;padding-left: 0.2em;position: relative;}#sk-container-id-2 div.sk-item {position: relative;z-index: 1;}#sk-container-id-2 div.sk-parallel {display: flex;align-items: stretch;justify-content: center;background-color: white;position: relative;}#sk-container-id-2 div.sk-item::before, #sk-container-id-2 div.sk-parallel-item::before {content: \"\";position: absolute;border-left: 1px solid gray;box-sizing: border-box;top: 0;bottom: 0;left: 50%;z-index: -1;}#sk-container-id-2 div.sk-parallel-item {display: flex;flex-direction: column;z-index: 1;position: relative;background-color: white;}#sk-container-id-2 div.sk-parallel-item:first-child::after {align-self: flex-end;width: 50%;}#sk-container-id-2 div.sk-parallel-item:last-child::after {align-self: flex-start;width: 50%;}#sk-container-id-2 div.sk-parallel-item:only-child::after {width: 0;}#sk-container-id-2 div.sk-dashed-wrapped {border: 1px dashed gray;margin: 0 0.4em 0.5em 0.4em;box-sizing: border-box;padding-bottom: 0.4em;background-color: white;}#sk-container-id-2 div.sk-label label {font-family: monospace;font-weight: bold;display: inline-block;line-height: 1.2em;}#sk-container-id-2 div.sk-label-container {text-align: center;}#sk-container-id-2 div.sk-container {/* jupyter's `normalize.less` sets `[hidden] { display: none; }` but bootstrap.min.css set `[hidden] { display: none !important; }` so we also need the `!important` here to be able to override the default hidden behavior on the sphinx rendered scikit-learn.org. See: https://github.com/scikit-learn/scikit-learn/issues/21755 */display: inline-block !important;position: relative;}#sk-container-id-2 div.sk-text-repr-fallback {display: none;}</style><div id=\"sk-container-id-2\" class=\"sk-top-container\"><div class=\"sk-text-repr-fallback\"><pre>RandomForestRegressor(n_estimators=1000, random_state=10)</pre><b>In a Jupyter environment, please rerun this cell to show the HTML representation or trust the notebook. <br />On GitHub, the HTML representation is unable to render, please try loading this page with nbviewer.org.</b></div><div class=\"sk-container\" hidden><div class=\"sk-item\"><div class=\"sk-estimator sk-toggleable\"><input class=\"sk-toggleable__control sk-hidden--visually\" id=\"sk-estimator-id-2\" type=\"checkbox\" checked><label for=\"sk-estimator-id-2\" class=\"sk-toggleable__label sk-toggleable__label-arrow\">RandomForestRegressor</label><div class=\"sk-toggleable__content\"><pre>RandomForestRegressor(n_estimators=1000, random_state=10)</pre></div></div></div></div></div>"
      ],
      "text/plain": [
       "RandomForestRegressor(n_estimators=1000, random_state=10)"
      ]
     },
     "execution_count": 93,
     "metadata": {},
     "output_type": "execute_result"
    }
   ],
   "source": [
    "# Fitting Random Forest Regression to the dataset\n",
    "# import the regressor\n",
    "from sklearn.ensemble import RandomForestRegressor\n",
    "  \n",
    " # create regressor object\n",
    "regressor = RandomForestRegressor(n_estimators = 1000, random_state = 10)\n",
    "  \n",
    "# fit the regressor with x and y data\n",
    "regressor.fit(X_train, y_train) "
   ]
  },
  {
   "cell_type": "code",
   "execution_count": 94,
   "id": "a65f6baa",
   "metadata": {},
   "outputs": [
    {
     "data": {
      "text/plain": [
       "array([12156760.38, 11692093.5 , 13531765.89, ...,  9276565.98,\n",
       "        9542278.26, 13148684.42])"
      ]
     },
     "execution_count": 94,
     "metadata": {},
     "output_type": "execute_result"
    }
   ],
   "source": [
    "rf_pred=regressor.predict(X_test)\n",
    "rf_pred"
   ]
  },
  {
   "cell_type": "code",
   "execution_count": 95,
   "id": "a29c3e93",
   "metadata": {},
   "outputs": [
    {
     "data": {
      "text/html": [
       "<div>\n",
       "<style scoped>\n",
       "    .dataframe tbody tr th:only-of-type {\n",
       "        vertical-align: middle;\n",
       "    }\n",
       "\n",
       "    .dataframe tbody tr th {\n",
       "        vertical-align: top;\n",
       "    }\n",
       "\n",
       "    .dataframe thead th {\n",
       "        text-align: right;\n",
       "    }\n",
       "</style>\n",
       "<table border=\"1\" class=\"dataframe\">\n",
       "  <thead>\n",
       "    <tr style=\"text-align: right;\">\n",
       "      <th></th>\n",
       "      <th>Actual</th>\n",
       "      <th>Predicted</th>\n",
       "      <th>Diffrence</th>\n",
       "    </tr>\n",
       "  </thead>\n",
       "  <tbody>\n",
       "    <tr>\n",
       "      <th>3517</th>\n",
       "      <td>12544800</td>\n",
       "      <td>1.215676e+07</td>\n",
       "      <td>-388039.620</td>\n",
       "    </tr>\n",
       "    <tr>\n",
       "      <th>2663</th>\n",
       "      <td>11244250</td>\n",
       "      <td>1.169209e+07</td>\n",
       "      <td>447843.500</td>\n",
       "    </tr>\n",
       "    <tr>\n",
       "      <th>5650</th>\n",
       "      <td>13081220</td>\n",
       "      <td>1.353177e+07</td>\n",
       "      <td>450545.890</td>\n",
       "    </tr>\n",
       "    <tr>\n",
       "      <th>4354</th>\n",
       "      <td>10455360</td>\n",
       "      <td>1.077706e+07</td>\n",
       "      <td>321696.360</td>\n",
       "    </tr>\n",
       "    <tr>\n",
       "      <th>4835</th>\n",
       "      <td>9786000</td>\n",
       "      <td>8.677276e+06</td>\n",
       "      <td>-1108723.625</td>\n",
       "    </tr>\n",
       "    <tr>\n",
       "      <th>...</th>\n",
       "      <td>...</td>\n",
       "      <td>...</td>\n",
       "      <td>...</td>\n",
       "    </tr>\n",
       "    <tr>\n",
       "      <th>2957</th>\n",
       "      <td>7596170</td>\n",
       "      <td>8.004571e+06</td>\n",
       "      <td>408400.905</td>\n",
       "    </tr>\n",
       "    <tr>\n",
       "      <th>1769</th>\n",
       "      <td>12807300</td>\n",
       "      <td>1.274667e+07</td>\n",
       "      <td>-60630.750</td>\n",
       "    </tr>\n",
       "    <tr>\n",
       "      <th>2129</th>\n",
       "      <td>8925160</td>\n",
       "      <td>9.276566e+06</td>\n",
       "      <td>351405.980</td>\n",
       "    </tr>\n",
       "    <tr>\n",
       "      <th>6758</th>\n",
       "      <td>9896880</td>\n",
       "      <td>9.542278e+06</td>\n",
       "      <td>-354601.740</td>\n",
       "    </tr>\n",
       "    <tr>\n",
       "      <th>5194</th>\n",
       "      <td>13164420</td>\n",
       "      <td>1.314868e+07</td>\n",
       "      <td>-15735.580</td>\n",
       "    </tr>\n",
       "  </tbody>\n",
       "</table>\n",
       "<p>2133 rows × 3 columns</p>\n",
       "</div>"
      ],
      "text/plain": [
       "        Actual     Predicted    Diffrence\n",
       "3517  12544800  1.215676e+07  -388039.620\n",
       "2663  11244250  1.169209e+07   447843.500\n",
       "5650  13081220  1.353177e+07   450545.890\n",
       "4354  10455360  1.077706e+07   321696.360\n",
       "4835   9786000  8.677276e+06 -1108723.625\n",
       "...        ...           ...          ...\n",
       "2957   7596170  8.004571e+06   408400.905\n",
       "1769  12807300  1.274667e+07   -60630.750\n",
       "2129   8925160  9.276566e+06   351405.980\n",
       "6758   9896880  9.542278e+06  -354601.740\n",
       "5194  13164420  1.314868e+07   -15735.580\n",
       "\n",
       "[2133 rows x 3 columns]"
      ]
     },
     "execution_count": 95,
     "metadata": {},
     "output_type": "execute_result"
    }
   ],
   "source": [
    "decisiontree_prediction=pd.DataFrame({'Actual': y_test, 'Predicted': rf_pred,'Diffrence':rf_pred-y_test})\n",
    "decisiontree_prediction"
   ]
  },
  {
   "cell_type": "code",
   "execution_count": 96,
   "id": "cf8ecee2",
   "metadata": {},
   "outputs": [
    {
     "name": "stdout",
     "output_type": "stream",
     "text": [
      "r2_score of decision regressor : 0.9848664072052774\n"
     ]
    }
   ],
   "source": [
    "rfscore = r2_score(y_test,rf_pred)\n",
    "# Compute rmse_dtrfscore\n",
    "print('r2_score of decision regressor :',rfscore)"
   ]
  },
  {
   "cell_type": "markdown",
   "id": "4390e6b7",
   "metadata": {},
   "source": [
    "# PREDICTION USING XGBRegressor"
   ]
  },
  {
   "cell_type": "code",
   "execution_count": 97,
   "id": "76c38619",
   "metadata": {},
   "outputs": [
    {
     "name": "stdout",
     "output_type": "stream",
     "text": [
      "[09:53:29] WARNING: C:/Users/administrator/workspace/xgboost-win64_release_1.6.0/src/objective/regression_obj.cu:203: reg:linear is now deprecated in favor of reg:squarederror.\n"
     ]
    },
    {
     "data": {
      "text/html": [
       "<div>\n",
       "<style scoped>\n",
       "    .dataframe tbody tr th:only-of-type {\n",
       "        vertical-align: middle;\n",
       "    }\n",
       "\n",
       "    .dataframe tbody tr th {\n",
       "        vertical-align: top;\n",
       "    }\n",
       "\n",
       "    .dataframe thead th {\n",
       "        text-align: right;\n",
       "    }\n",
       "</style>\n",
       "<table border=\"1\" class=\"dataframe\">\n",
       "  <thead>\n",
       "    <tr style=\"text-align: right;\">\n",
       "      <th></th>\n",
       "      <th>Actual</th>\n",
       "      <th>Predicted</th>\n",
       "      <th>Diffrence</th>\n",
       "    </tr>\n",
       "  </thead>\n",
       "  <tbody>\n",
       "    <tr>\n",
       "      <th>3517</th>\n",
       "      <td>12544800</td>\n",
       "      <td>12379464.0</td>\n",
       "      <td>-165336.0</td>\n",
       "    </tr>\n",
       "    <tr>\n",
       "      <th>2663</th>\n",
       "      <td>11244250</td>\n",
       "      <td>11557720.0</td>\n",
       "      <td>313470.0</td>\n",
       "    </tr>\n",
       "    <tr>\n",
       "      <th>5650</th>\n",
       "      <td>13081220</td>\n",
       "      <td>13218829.0</td>\n",
       "      <td>137609.0</td>\n",
       "    </tr>\n",
       "    <tr>\n",
       "      <th>4354</th>\n",
       "      <td>10455360</td>\n",
       "      <td>10813779.0</td>\n",
       "      <td>358419.0</td>\n",
       "    </tr>\n",
       "    <tr>\n",
       "      <th>4835</th>\n",
       "      <td>9786000</td>\n",
       "      <td>9245805.0</td>\n",
       "      <td>-540195.0</td>\n",
       "    </tr>\n",
       "    <tr>\n",
       "      <th>...</th>\n",
       "      <td>...</td>\n",
       "      <td>...</td>\n",
       "      <td>...</td>\n",
       "    </tr>\n",
       "    <tr>\n",
       "      <th>2957</th>\n",
       "      <td>7596170</td>\n",
       "      <td>7405360.5</td>\n",
       "      <td>-190809.5</td>\n",
       "    </tr>\n",
       "    <tr>\n",
       "      <th>1769</th>\n",
       "      <td>12807300</td>\n",
       "      <td>13030438.0</td>\n",
       "      <td>223138.0</td>\n",
       "    </tr>\n",
       "    <tr>\n",
       "      <th>2129</th>\n",
       "      <td>8925160</td>\n",
       "      <td>9195015.0</td>\n",
       "      <td>269855.0</td>\n",
       "    </tr>\n",
       "    <tr>\n",
       "      <th>6758</th>\n",
       "      <td>9896880</td>\n",
       "      <td>9221970.0</td>\n",
       "      <td>-674910.0</td>\n",
       "    </tr>\n",
       "    <tr>\n",
       "      <th>5194</th>\n",
       "      <td>13164420</td>\n",
       "      <td>13266793.0</td>\n",
       "      <td>102373.0</td>\n",
       "    </tr>\n",
       "  </tbody>\n",
       "</table>\n",
       "<p>2133 rows × 3 columns</p>\n",
       "</div>"
      ],
      "text/plain": [
       "        Actual   Predicted  Diffrence\n",
       "3517  12544800  12379464.0  -165336.0\n",
       "2663  11244250  11557720.0   313470.0\n",
       "5650  13081220  13218829.0   137609.0\n",
       "4354  10455360  10813779.0   358419.0\n",
       "4835   9786000   9245805.0  -540195.0\n",
       "...        ...         ...        ...\n",
       "2957   7596170   7405360.5  -190809.5\n",
       "1769  12807300  13030438.0   223138.0\n",
       "2129   8925160   9195015.0   269855.0\n",
       "6758   9896880   9221970.0  -674910.0\n",
       "5194  13164420  13266793.0   102373.0\n",
       "\n",
       "[2133 rows x 3 columns]"
      ]
     },
     "execution_count": 97,
     "metadata": {},
     "output_type": "execute_result"
    }
   ],
   "source": [
    "import xgboost as xg\n",
    "\n",
    "from sklearn.metrics import mean_squared_error as MSE\n",
    "  \n",
    "\n",
    "xgb_r = xg.XGBRegressor(objective ='reg:linear',\n",
    "                  n_estimators = 1000, seed = 123)\n",
    "  \n",
    "# Fitting the model\n",
    "xgb_r.fit(X_train, y_train)\n",
    "  \n",
    "# Predict the model\n",
    "xgpred = xgb_r.predict(X_test)\n",
    "  \n",
    "xgbooster_prediction=pd.DataFrame({'Actual': y_test, 'Predicted': xgpred,'Diffrence':xgpred-y_test})\n",
    "xgbooster_prediction\n"
   ]
  },
  {
   "cell_type": "code",
   "execution_count": 113,
   "id": "2de1561f",
   "metadata": {},
   "outputs": [
    {
     "name": "stdout",
     "output_type": "stream",
     "text": [
      "r2_score of decision regressor : 0.9871967488132266\n"
     ]
    }
   ],
   "source": [
    "xgscore = r2_score(y_test,xgpred)\n",
    "# Compute rmse_dtrfscore\n",
    "print('r2_score of decision regressor :',xgscore)"
   ]
  }
 ],
 "metadata": {
  "kernelspec": {
   "display_name": "Python 3 (ipykernel)",
   "language": "python",
   "name": "python3"
  },
  "language_info": {
   "codemirror_mode": {
    "name": "ipython",
    "version": 3
   },
   "file_extension": ".py",
   "mimetype": "text/x-python",
   "name": "python",
   "nbconvert_exporter": "python",
   "pygments_lexer": "ipython3",
   "version": "3.9.5"
  }
 },
 "nbformat": 4,
 "nbformat_minor": 5
}
