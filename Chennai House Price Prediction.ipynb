{
 "cells": [
  {
   "cell_type": "markdown",
   "id": "2caa7d91",
   "metadata": {},
   "source": [
    "# this project help customers predict home price in Chennai\n"
   ]
  },
  {
   "cell_type": "markdown",
   "id": "438fe454",
   "metadata": {},
   "source": [
    "## in this project we created linear,decision tree,random forest and XG Boosting models to predict house price"
   ]
  },
  {
   "cell_type": "code",
   "execution_count": 1,
   "id": "0bacfdc6",
   "metadata": {},
   "outputs": [],
   "source": [
    "import pandas as pd\n",
    "import numpy as np\n",
    "import matplotlib.pyplot as plt"
   ]
  },
  {
   "cell_type": "code",
   "execution_count": 2,
   "id": "b2cd28f9",
   "metadata": {},
   "outputs": [
    {
     "data": {
      "text/html": [
       "<div>\n",
       "<style scoped>\n",
       "    .dataframe tbody tr th:only-of-type {\n",
       "        vertical-align: middle;\n",
       "    }\n",
       "\n",
       "    .dataframe tbody tr th {\n",
       "        vertical-align: top;\n",
       "    }\n",
       "\n",
       "    .dataframe thead th {\n",
       "        text-align: right;\n",
       "    }\n",
       "</style>\n",
       "<table border=\"1\" class=\"dataframe\">\n",
       "  <thead>\n",
       "    <tr style=\"text-align: right;\">\n",
       "      <th></th>\n",
       "      <th>PRT_ID</th>\n",
       "      <th>AREA</th>\n",
       "      <th>INT_SQFT</th>\n",
       "      <th>DATE_SALE</th>\n",
       "      <th>DIST_MAINROAD</th>\n",
       "      <th>N_BEDROOM</th>\n",
       "      <th>N_BATHROOM</th>\n",
       "      <th>N_ROOM</th>\n",
       "      <th>SALE_COND</th>\n",
       "      <th>PARK_FACIL</th>\n",
       "      <th>...</th>\n",
       "      <th>UTILITY_AVAIL</th>\n",
       "      <th>STREET</th>\n",
       "      <th>MZZONE</th>\n",
       "      <th>QS_ROOMS</th>\n",
       "      <th>QS_BATHROOM</th>\n",
       "      <th>QS_BEDROOM</th>\n",
       "      <th>QS_OVERALL</th>\n",
       "      <th>REG_FEE</th>\n",
       "      <th>COMMIS</th>\n",
       "      <th>SALES_PRICE</th>\n",
       "    </tr>\n",
       "  </thead>\n",
       "  <tbody>\n",
       "    <tr>\n",
       "      <th>0</th>\n",
       "      <td>P03210</td>\n",
       "      <td>Karapakkam</td>\n",
       "      <td>1004</td>\n",
       "      <td>04-05-2011</td>\n",
       "      <td>131</td>\n",
       "      <td>1.0</td>\n",
       "      <td>1.0</td>\n",
       "      <td>3</td>\n",
       "      <td>AbNormal</td>\n",
       "      <td>Yes</td>\n",
       "      <td>...</td>\n",
       "      <td>AllPub</td>\n",
       "      <td>Paved</td>\n",
       "      <td>A</td>\n",
       "      <td>4.0</td>\n",
       "      <td>3.9</td>\n",
       "      <td>4.9</td>\n",
       "      <td>4.330</td>\n",
       "      <td>380000</td>\n",
       "      <td>144400</td>\n",
       "      <td>7600000</td>\n",
       "    </tr>\n",
       "    <tr>\n",
       "      <th>1</th>\n",
       "      <td>P09411</td>\n",
       "      <td>Anna Nagar</td>\n",
       "      <td>1986</td>\n",
       "      <td>19-12-2006</td>\n",
       "      <td>26</td>\n",
       "      <td>2.0</td>\n",
       "      <td>1.0</td>\n",
       "      <td>5</td>\n",
       "      <td>AbNormal</td>\n",
       "      <td>No</td>\n",
       "      <td>...</td>\n",
       "      <td>AllPub</td>\n",
       "      <td>Gravel</td>\n",
       "      <td>RH</td>\n",
       "      <td>4.9</td>\n",
       "      <td>4.2</td>\n",
       "      <td>2.5</td>\n",
       "      <td>3.765</td>\n",
       "      <td>760122</td>\n",
       "      <td>304049</td>\n",
       "      <td>21717770</td>\n",
       "    </tr>\n",
       "    <tr>\n",
       "      <th>2</th>\n",
       "      <td>P01812</td>\n",
       "      <td>Adyar</td>\n",
       "      <td>909</td>\n",
       "      <td>04-02-2012</td>\n",
       "      <td>70</td>\n",
       "      <td>1.0</td>\n",
       "      <td>1.0</td>\n",
       "      <td>3</td>\n",
       "      <td>AbNormal</td>\n",
       "      <td>Yes</td>\n",
       "      <td>...</td>\n",
       "      <td>ELO</td>\n",
       "      <td>Gravel</td>\n",
       "      <td>RL</td>\n",
       "      <td>4.1</td>\n",
       "      <td>3.8</td>\n",
       "      <td>2.2</td>\n",
       "      <td>3.090</td>\n",
       "      <td>421094</td>\n",
       "      <td>92114</td>\n",
       "      <td>13159200</td>\n",
       "    </tr>\n",
       "    <tr>\n",
       "      <th>3</th>\n",
       "      <td>P05346</td>\n",
       "      <td>Velachery</td>\n",
       "      <td>1855</td>\n",
       "      <td>13-03-2010</td>\n",
       "      <td>14</td>\n",
       "      <td>3.0</td>\n",
       "      <td>2.0</td>\n",
       "      <td>5</td>\n",
       "      <td>Family</td>\n",
       "      <td>No</td>\n",
       "      <td>...</td>\n",
       "      <td>NoSewr</td>\n",
       "      <td>Paved</td>\n",
       "      <td>I</td>\n",
       "      <td>4.7</td>\n",
       "      <td>3.9</td>\n",
       "      <td>3.6</td>\n",
       "      <td>4.010</td>\n",
       "      <td>356321</td>\n",
       "      <td>77042</td>\n",
       "      <td>9630290</td>\n",
       "    </tr>\n",
       "    <tr>\n",
       "      <th>4</th>\n",
       "      <td>P06210</td>\n",
       "      <td>Karapakkam</td>\n",
       "      <td>1226</td>\n",
       "      <td>05-10-2009</td>\n",
       "      <td>84</td>\n",
       "      <td>1.0</td>\n",
       "      <td>1.0</td>\n",
       "      <td>3</td>\n",
       "      <td>AbNormal</td>\n",
       "      <td>Yes</td>\n",
       "      <td>...</td>\n",
       "      <td>AllPub</td>\n",
       "      <td>Gravel</td>\n",
       "      <td>C</td>\n",
       "      <td>3.0</td>\n",
       "      <td>2.5</td>\n",
       "      <td>4.1</td>\n",
       "      <td>3.290</td>\n",
       "      <td>237000</td>\n",
       "      <td>74063</td>\n",
       "      <td>7406250</td>\n",
       "    </tr>\n",
       "  </tbody>\n",
       "</table>\n",
       "<p>5 rows × 22 columns</p>\n",
       "</div>"
      ],
      "text/plain": [
       "   PRT_ID        AREA  INT_SQFT   DATE_SALE  DIST_MAINROAD  N_BEDROOM  \\\n",
       "0  P03210  Karapakkam      1004  04-05-2011            131        1.0   \n",
       "1  P09411  Anna Nagar      1986  19-12-2006             26        2.0   \n",
       "2  P01812       Adyar       909  04-02-2012             70        1.0   \n",
       "3  P05346   Velachery      1855  13-03-2010             14        3.0   \n",
       "4  P06210  Karapakkam      1226  05-10-2009             84        1.0   \n",
       "\n",
       "   N_BATHROOM  N_ROOM SALE_COND PARK_FACIL  ... UTILITY_AVAIL  STREET MZZONE  \\\n",
       "0         1.0       3  AbNormal        Yes  ...        AllPub   Paved      A   \n",
       "1         1.0       5  AbNormal         No  ...        AllPub  Gravel     RH   \n",
       "2         1.0       3  AbNormal        Yes  ...           ELO  Gravel     RL   \n",
       "3         2.0       5    Family         No  ...       NoSewr    Paved      I   \n",
       "4         1.0       3  AbNormal        Yes  ...        AllPub  Gravel      C   \n",
       "\n",
       "  QS_ROOMS QS_BATHROOM  QS_BEDROOM  QS_OVERALL  REG_FEE  COMMIS  SALES_PRICE  \n",
       "0      4.0         3.9         4.9       4.330   380000  144400      7600000  \n",
       "1      4.9         4.2         2.5       3.765   760122  304049     21717770  \n",
       "2      4.1         3.8         2.2       3.090   421094   92114     13159200  \n",
       "3      4.7         3.9         3.6       4.010   356321   77042      9630290  \n",
       "4      3.0         2.5         4.1       3.290   237000   74063      7406250  \n",
       "\n",
       "[5 rows x 22 columns]"
      ]
     },
     "execution_count": 2,
     "metadata": {},
     "output_type": "execute_result"
    }
   ],
   "source": [
    "dataset=pd.read_csv('train-chennai-sale.csv')\n",
    "dataset.head()"
   ]
  },
  {
   "cell_type": "code",
   "execution_count": 3,
   "id": "129448f5",
   "metadata": {},
   "outputs": [
    {
     "data": {
      "text/html": [
       "<div>\n",
       "<style scoped>\n",
       "    .dataframe tbody tr th:only-of-type {\n",
       "        vertical-align: middle;\n",
       "    }\n",
       "\n",
       "    .dataframe tbody tr th {\n",
       "        vertical-align: top;\n",
       "    }\n",
       "\n",
       "    .dataframe thead th {\n",
       "        text-align: right;\n",
       "    }\n",
       "</style>\n",
       "<table border=\"1\" class=\"dataframe\">\n",
       "  <thead>\n",
       "    <tr style=\"text-align: right;\">\n",
       "      <th></th>\n",
       "      <th>INT_SQFT</th>\n",
       "      <th>DIST_MAINROAD</th>\n",
       "      <th>N_BEDROOM</th>\n",
       "      <th>N_BATHROOM</th>\n",
       "      <th>N_ROOM</th>\n",
       "      <th>QS_ROOMS</th>\n",
       "      <th>QS_BATHROOM</th>\n",
       "      <th>QS_BEDROOM</th>\n",
       "      <th>QS_OVERALL</th>\n",
       "      <th>REG_FEE</th>\n",
       "      <th>COMMIS</th>\n",
       "      <th>SALES_PRICE</th>\n",
       "    </tr>\n",
       "  </thead>\n",
       "  <tbody>\n",
       "    <tr>\n",
       "      <th>count</th>\n",
       "      <td>7109.000000</td>\n",
       "      <td>7109.000000</td>\n",
       "      <td>7108.000000</td>\n",
       "      <td>7104.000000</td>\n",
       "      <td>7109.000000</td>\n",
       "      <td>7109.000000</td>\n",
       "      <td>7109.000000</td>\n",
       "      <td>7109.000000</td>\n",
       "      <td>7061.000000</td>\n",
       "      <td>7109.000000</td>\n",
       "      <td>7109.000000</td>\n",
       "      <td>7.109000e+03</td>\n",
       "    </tr>\n",
       "    <tr>\n",
       "      <th>mean</th>\n",
       "      <td>1382.073006</td>\n",
       "      <td>99.603179</td>\n",
       "      <td>1.637029</td>\n",
       "      <td>1.213260</td>\n",
       "      <td>3.688704</td>\n",
       "      <td>3.517471</td>\n",
       "      <td>3.507244</td>\n",
       "      <td>3.485300</td>\n",
       "      <td>3.503254</td>\n",
       "      <td>376938.330708</td>\n",
       "      <td>141005.726544</td>\n",
       "      <td>1.089491e+07</td>\n",
       "    </tr>\n",
       "    <tr>\n",
       "      <th>std</th>\n",
       "      <td>457.410902</td>\n",
       "      <td>57.403110</td>\n",
       "      <td>0.802902</td>\n",
       "      <td>0.409639</td>\n",
       "      <td>1.019099</td>\n",
       "      <td>0.891972</td>\n",
       "      <td>0.897834</td>\n",
       "      <td>0.887266</td>\n",
       "      <td>0.527223</td>\n",
       "      <td>143070.662010</td>\n",
       "      <td>78768.093718</td>\n",
       "      <td>3.768603e+06</td>\n",
       "    </tr>\n",
       "    <tr>\n",
       "      <th>min</th>\n",
       "      <td>500.000000</td>\n",
       "      <td>0.000000</td>\n",
       "      <td>1.000000</td>\n",
       "      <td>1.000000</td>\n",
       "      <td>2.000000</td>\n",
       "      <td>2.000000</td>\n",
       "      <td>2.000000</td>\n",
       "      <td>2.000000</td>\n",
       "      <td>2.000000</td>\n",
       "      <td>71177.000000</td>\n",
       "      <td>5055.000000</td>\n",
       "      <td>2.156875e+06</td>\n",
       "    </tr>\n",
       "    <tr>\n",
       "      <th>25%</th>\n",
       "      <td>993.000000</td>\n",
       "      <td>50.000000</td>\n",
       "      <td>1.000000</td>\n",
       "      <td>1.000000</td>\n",
       "      <td>3.000000</td>\n",
       "      <td>2.700000</td>\n",
       "      <td>2.700000</td>\n",
       "      <td>2.700000</td>\n",
       "      <td>3.130000</td>\n",
       "      <td>272406.000000</td>\n",
       "      <td>84219.000000</td>\n",
       "      <td>8.272100e+06</td>\n",
       "    </tr>\n",
       "    <tr>\n",
       "      <th>50%</th>\n",
       "      <td>1373.000000</td>\n",
       "      <td>99.000000</td>\n",
       "      <td>1.000000</td>\n",
       "      <td>1.000000</td>\n",
       "      <td>4.000000</td>\n",
       "      <td>3.500000</td>\n",
       "      <td>3.500000</td>\n",
       "      <td>3.500000</td>\n",
       "      <td>3.500000</td>\n",
       "      <td>349486.000000</td>\n",
       "      <td>127628.000000</td>\n",
       "      <td>1.033505e+07</td>\n",
       "    </tr>\n",
       "    <tr>\n",
       "      <th>75%</th>\n",
       "      <td>1744.000000</td>\n",
       "      <td>148.000000</td>\n",
       "      <td>2.000000</td>\n",
       "      <td>1.000000</td>\n",
       "      <td>4.000000</td>\n",
       "      <td>4.300000</td>\n",
       "      <td>4.300000</td>\n",
       "      <td>4.300000</td>\n",
       "      <td>3.890000</td>\n",
       "      <td>451562.000000</td>\n",
       "      <td>184506.000000</td>\n",
       "      <td>1.299390e+07</td>\n",
       "    </tr>\n",
       "    <tr>\n",
       "      <th>max</th>\n",
       "      <td>2500.000000</td>\n",
       "      <td>200.000000</td>\n",
       "      <td>4.000000</td>\n",
       "      <td>2.000000</td>\n",
       "      <td>6.000000</td>\n",
       "      <td>5.000000</td>\n",
       "      <td>5.000000</td>\n",
       "      <td>5.000000</td>\n",
       "      <td>4.970000</td>\n",
       "      <td>983922.000000</td>\n",
       "      <td>495405.000000</td>\n",
       "      <td>2.366734e+07</td>\n",
       "    </tr>\n",
       "  </tbody>\n",
       "</table>\n",
       "</div>"
      ],
      "text/plain": [
       "          INT_SQFT  DIST_MAINROAD    N_BEDROOM   N_BATHROOM       N_ROOM  \\\n",
       "count  7109.000000    7109.000000  7108.000000  7104.000000  7109.000000   \n",
       "mean   1382.073006      99.603179     1.637029     1.213260     3.688704   \n",
       "std     457.410902      57.403110     0.802902     0.409639     1.019099   \n",
       "min     500.000000       0.000000     1.000000     1.000000     2.000000   \n",
       "25%     993.000000      50.000000     1.000000     1.000000     3.000000   \n",
       "50%    1373.000000      99.000000     1.000000     1.000000     4.000000   \n",
       "75%    1744.000000     148.000000     2.000000     1.000000     4.000000   \n",
       "max    2500.000000     200.000000     4.000000     2.000000     6.000000   \n",
       "\n",
       "          QS_ROOMS  QS_BATHROOM   QS_BEDROOM   QS_OVERALL        REG_FEE  \\\n",
       "count  7109.000000  7109.000000  7109.000000  7061.000000    7109.000000   \n",
       "mean      3.517471     3.507244     3.485300     3.503254  376938.330708   \n",
       "std       0.891972     0.897834     0.887266     0.527223  143070.662010   \n",
       "min       2.000000     2.000000     2.000000     2.000000   71177.000000   \n",
       "25%       2.700000     2.700000     2.700000     3.130000  272406.000000   \n",
       "50%       3.500000     3.500000     3.500000     3.500000  349486.000000   \n",
       "75%       4.300000     4.300000     4.300000     3.890000  451562.000000   \n",
       "max       5.000000     5.000000     5.000000     4.970000  983922.000000   \n",
       "\n",
       "              COMMIS   SALES_PRICE  \n",
       "count    7109.000000  7.109000e+03  \n",
       "mean   141005.726544  1.089491e+07  \n",
       "std     78768.093718  3.768603e+06  \n",
       "min      5055.000000  2.156875e+06  \n",
       "25%     84219.000000  8.272100e+06  \n",
       "50%    127628.000000  1.033505e+07  \n",
       "75%    184506.000000  1.299390e+07  \n",
       "max    495405.000000  2.366734e+07  "
      ]
     },
     "execution_count": 3,
     "metadata": {},
     "output_type": "execute_result"
    }
   ],
   "source": [
    "dataset.describe()"
   ]
  },
  {
   "cell_type": "code",
   "execution_count": 4,
   "id": "34f0c43c",
   "metadata": {
    "scrolled": true
   },
   "outputs": [
    {
     "data": {
      "text/plain": [
       "PRT_ID            0\n",
       "AREA              0\n",
       "INT_SQFT          0\n",
       "DATE_SALE         0\n",
       "DIST_MAINROAD     0\n",
       "N_BEDROOM         1\n",
       "N_BATHROOM        5\n",
       "N_ROOM            0\n",
       "SALE_COND         0\n",
       "PARK_FACIL        0\n",
       "DATE_BUILD        0\n",
       "BUILDTYPE         0\n",
       "UTILITY_AVAIL     0\n",
       "STREET            0\n",
       "MZZONE            0\n",
       "QS_ROOMS          0\n",
       "QS_BATHROOM       0\n",
       "QS_BEDROOM        0\n",
       "QS_OVERALL       48\n",
       "REG_FEE           0\n",
       "COMMIS            0\n",
       "SALES_PRICE       0\n",
       "dtype: int64"
      ]
     },
     "execution_count": 4,
     "metadata": {},
     "output_type": "execute_result"
    }
   ],
   "source": [
    "dataset.isnull().sum()"
   ]
  },
  {
   "cell_type": "markdown",
   "id": "c29cf01b",
   "metadata": {},
   "source": [
    "# Data Cleaning"
   ]
  },
  {
   "cell_type": "code",
   "execution_count": 5,
   "id": "761e0c17",
   "metadata": {},
   "outputs": [
    {
     "data": {
      "text/plain": [
       "(7109, 22)"
      ]
     },
     "execution_count": 5,
     "metadata": {},
     "output_type": "execute_result"
    }
   ],
   "source": [
    "dataset.drop_duplicates().shape"
   ]
  },
  {
   "cell_type": "markdown",
   "id": "e0aa3d20",
   "metadata": {},
   "source": [
    "## Missing Value Handling"
   ]
  },
  {
   "cell_type": "code",
   "execution_count": 6,
   "id": "39e30f6a",
   "metadata": {},
   "outputs": [],
   "source": [
    "dataset['N_BATHROOM'].fillna(dataset['N_BATHROOM'].mode()[0],inplace=True)\n",
    "dataset['N_BEDROOM'].fillna(dataset['N_BEDROOM'].mode()[0],inplace=True)\n",
    "dataset.QS_OVERALL = dataset.QS_OVERALL.fillna(dataset.QS_OVERALL.mean())"
   ]
  },
  {
   "cell_type": "code",
   "execution_count": 7,
   "id": "ee0fa97d",
   "metadata": {},
   "outputs": [
    {
     "data": {
      "text/plain": [
       "PRT_ID           0\n",
       "AREA             0\n",
       "INT_SQFT         0\n",
       "DATE_SALE        0\n",
       "DIST_MAINROAD    0\n",
       "N_BEDROOM        0\n",
       "N_BATHROOM       0\n",
       "N_ROOM           0\n",
       "SALE_COND        0\n",
       "PARK_FACIL       0\n",
       "DATE_BUILD       0\n",
       "BUILDTYPE        0\n",
       "UTILITY_AVAIL    0\n",
       "STREET           0\n",
       "MZZONE           0\n",
       "QS_ROOMS         0\n",
       "QS_BATHROOM      0\n",
       "QS_BEDROOM       0\n",
       "QS_OVERALL       0\n",
       "REG_FEE          0\n",
       "COMMIS           0\n",
       "SALES_PRICE      0\n",
       "dtype: int64"
      ]
     },
     "execution_count": 7,
     "metadata": {},
     "output_type": "execute_result"
    }
   ],
   "source": [
    "dataset.isnull().sum()"
   ]
  },
  {
   "cell_type": "code",
   "execution_count": 8,
   "id": "6bb5f2dd",
   "metadata": {},
   "outputs": [
    {
     "data": {
      "text/plain": [
       "array(['AllPub', 'ELO', 'NoSewr ', 'NoSeWa', 'All Pub'], dtype=object)"
      ]
     },
     "execution_count": 8,
     "metadata": {},
     "output_type": "execute_result"
    }
   ],
   "source": [
    "dataset['UTILITY_AVAIL'].unique()"
   ]
  },
  {
   "cell_type": "markdown",
   "id": "d8b50f6e",
   "metadata": {},
   "source": [
    "## Drop unnessary columns(which is not impact to prediction or lead to misconception)"
   ]
  },
  {
   "cell_type": "code",
   "execution_count": 9,
   "id": "28d2f084",
   "metadata": {},
   "outputs": [],
   "source": [
    "df=dataset.drop(['PRT_ID','REG_FEE','COMMIS'],axis=1)"
   ]
  },
  {
   "cell_type": "code",
   "execution_count": 10,
   "id": "d3f5ed8b",
   "metadata": {},
   "outputs": [
    {
     "data": {
      "text/html": [
       "<div>\n",
       "<style scoped>\n",
       "    .dataframe tbody tr th:only-of-type {\n",
       "        vertical-align: middle;\n",
       "    }\n",
       "\n",
       "    .dataframe tbody tr th {\n",
       "        vertical-align: top;\n",
       "    }\n",
       "\n",
       "    .dataframe thead th {\n",
       "        text-align: right;\n",
       "    }\n",
       "</style>\n",
       "<table border=\"1\" class=\"dataframe\">\n",
       "  <thead>\n",
       "    <tr style=\"text-align: right;\">\n",
       "      <th></th>\n",
       "      <th>AREA</th>\n",
       "      <th>INT_SQFT</th>\n",
       "      <th>DATE_SALE</th>\n",
       "      <th>DIST_MAINROAD</th>\n",
       "      <th>N_BEDROOM</th>\n",
       "      <th>N_BATHROOM</th>\n",
       "      <th>N_ROOM</th>\n",
       "      <th>SALE_COND</th>\n",
       "      <th>PARK_FACIL</th>\n",
       "      <th>DATE_BUILD</th>\n",
       "      <th>BUILDTYPE</th>\n",
       "      <th>UTILITY_AVAIL</th>\n",
       "      <th>STREET</th>\n",
       "      <th>MZZONE</th>\n",
       "      <th>QS_ROOMS</th>\n",
       "      <th>QS_BATHROOM</th>\n",
       "      <th>QS_BEDROOM</th>\n",
       "      <th>QS_OVERALL</th>\n",
       "      <th>SALES_PRICE</th>\n",
       "    </tr>\n",
       "  </thead>\n",
       "  <tbody>\n",
       "    <tr>\n",
       "      <th>0</th>\n",
       "      <td>Karapakkam</td>\n",
       "      <td>1004</td>\n",
       "      <td>04-05-2011</td>\n",
       "      <td>131</td>\n",
       "      <td>1.0</td>\n",
       "      <td>1.0</td>\n",
       "      <td>3</td>\n",
       "      <td>AbNormal</td>\n",
       "      <td>Yes</td>\n",
       "      <td>15-05-1967</td>\n",
       "      <td>Commercial</td>\n",
       "      <td>AllPub</td>\n",
       "      <td>Paved</td>\n",
       "      <td>A</td>\n",
       "      <td>4.0</td>\n",
       "      <td>3.9</td>\n",
       "      <td>4.9</td>\n",
       "      <td>4.330</td>\n",
       "      <td>7600000</td>\n",
       "    </tr>\n",
       "    <tr>\n",
       "      <th>1</th>\n",
       "      <td>Anna Nagar</td>\n",
       "      <td>1986</td>\n",
       "      <td>19-12-2006</td>\n",
       "      <td>26</td>\n",
       "      <td>2.0</td>\n",
       "      <td>1.0</td>\n",
       "      <td>5</td>\n",
       "      <td>AbNormal</td>\n",
       "      <td>No</td>\n",
       "      <td>22-12-1995</td>\n",
       "      <td>Commercial</td>\n",
       "      <td>AllPub</td>\n",
       "      <td>Gravel</td>\n",
       "      <td>RH</td>\n",
       "      <td>4.9</td>\n",
       "      <td>4.2</td>\n",
       "      <td>2.5</td>\n",
       "      <td>3.765</td>\n",
       "      <td>21717770</td>\n",
       "    </tr>\n",
       "    <tr>\n",
       "      <th>2</th>\n",
       "      <td>Adyar</td>\n",
       "      <td>909</td>\n",
       "      <td>04-02-2012</td>\n",
       "      <td>70</td>\n",
       "      <td>1.0</td>\n",
       "      <td>1.0</td>\n",
       "      <td>3</td>\n",
       "      <td>AbNormal</td>\n",
       "      <td>Yes</td>\n",
       "      <td>09-02-1992</td>\n",
       "      <td>Commercial</td>\n",
       "      <td>ELO</td>\n",
       "      <td>Gravel</td>\n",
       "      <td>RL</td>\n",
       "      <td>4.1</td>\n",
       "      <td>3.8</td>\n",
       "      <td>2.2</td>\n",
       "      <td>3.090</td>\n",
       "      <td>13159200</td>\n",
       "    </tr>\n",
       "    <tr>\n",
       "      <th>3</th>\n",
       "      <td>Velachery</td>\n",
       "      <td>1855</td>\n",
       "      <td>13-03-2010</td>\n",
       "      <td>14</td>\n",
       "      <td>3.0</td>\n",
       "      <td>2.0</td>\n",
       "      <td>5</td>\n",
       "      <td>Family</td>\n",
       "      <td>No</td>\n",
       "      <td>18-03-1988</td>\n",
       "      <td>Others</td>\n",
       "      <td>NoSewr</td>\n",
       "      <td>Paved</td>\n",
       "      <td>I</td>\n",
       "      <td>4.7</td>\n",
       "      <td>3.9</td>\n",
       "      <td>3.6</td>\n",
       "      <td>4.010</td>\n",
       "      <td>9630290</td>\n",
       "    </tr>\n",
       "    <tr>\n",
       "      <th>4</th>\n",
       "      <td>Karapakkam</td>\n",
       "      <td>1226</td>\n",
       "      <td>05-10-2009</td>\n",
       "      <td>84</td>\n",
       "      <td>1.0</td>\n",
       "      <td>1.0</td>\n",
       "      <td>3</td>\n",
       "      <td>AbNormal</td>\n",
       "      <td>Yes</td>\n",
       "      <td>13-10-1979</td>\n",
       "      <td>Others</td>\n",
       "      <td>AllPub</td>\n",
       "      <td>Gravel</td>\n",
       "      <td>C</td>\n",
       "      <td>3.0</td>\n",
       "      <td>2.5</td>\n",
       "      <td>4.1</td>\n",
       "      <td>3.290</td>\n",
       "      <td>7406250</td>\n",
       "    </tr>\n",
       "  </tbody>\n",
       "</table>\n",
       "</div>"
      ],
      "text/plain": [
       "         AREA  INT_SQFT   DATE_SALE  DIST_MAINROAD  N_BEDROOM  N_BATHROOM  \\\n",
       "0  Karapakkam      1004  04-05-2011            131        1.0         1.0   \n",
       "1  Anna Nagar      1986  19-12-2006             26        2.0         1.0   \n",
       "2       Adyar       909  04-02-2012             70        1.0         1.0   \n",
       "3   Velachery      1855  13-03-2010             14        3.0         2.0   \n",
       "4  Karapakkam      1226  05-10-2009             84        1.0         1.0   \n",
       "\n",
       "   N_ROOM SALE_COND PARK_FACIL  DATE_BUILD   BUILDTYPE UTILITY_AVAIL  STREET  \\\n",
       "0       3  AbNormal        Yes  15-05-1967  Commercial        AllPub   Paved   \n",
       "1       5  AbNormal         No  22-12-1995  Commercial        AllPub  Gravel   \n",
       "2       3  AbNormal        Yes  09-02-1992  Commercial           ELO  Gravel   \n",
       "3       5    Family         No  18-03-1988      Others       NoSewr    Paved   \n",
       "4       3  AbNormal        Yes  13-10-1979      Others        AllPub  Gravel   \n",
       "\n",
       "  MZZONE  QS_ROOMS  QS_BATHROOM  QS_BEDROOM  QS_OVERALL  SALES_PRICE  \n",
       "0      A       4.0          3.9         4.9       4.330      7600000  \n",
       "1     RH       4.9          4.2         2.5       3.765     21717770  \n",
       "2     RL       4.1          3.8         2.2       3.090     13159200  \n",
       "3      I       4.7          3.9         3.6       4.010      9630290  \n",
       "4      C       3.0          2.5         4.1       3.290      7406250  "
      ]
     },
     "execution_count": 10,
     "metadata": {},
     "output_type": "execute_result"
    }
   ],
   "source": [
    "df.head()"
   ]
  },
  {
   "cell_type": "code",
   "execution_count": 11,
   "id": "59b53e39",
   "metadata": {},
   "outputs": [
    {
     "data": {
      "text/plain": [
       "array(['Paved', 'Gravel', 'No Access'], dtype=object)"
      ]
     },
     "execution_count": 11,
     "metadata": {},
     "output_type": "execute_result"
    }
   ],
   "source": [
    "#df['STREET'].unique() #paved=2 #gravel=1 #NoAccess=0\n",
    "df.loc[df['STREET']=='Pavd','STREET']='Paved'\n",
    "df.loc[df['STREET']=='NoAccess','STREET']='No Access'\n",
    "df['STREET'].unique() #paved=2 #gravel=1 #NoAccess=0"
   ]
  },
  {
   "cell_type": "markdown",
   "id": "2a7e060b",
   "metadata": {},
   "source": [
    "# EDA"
   ]
  },
  {
   "cell_type": "code",
   "execution_count": 12,
   "id": "4917db27",
   "metadata": {},
   "outputs": [
    {
     "data": {
      "text/plain": [
       "STREET\n",
       "Gravel       1.144462e+07\n",
       "No Access    1.000074e+07\n",
       "Paved        1.105754e+07\n",
       "Name: SALES_PRICE, dtype: float64"
      ]
     },
     "execution_count": 12,
     "metadata": {},
     "output_type": "execute_result"
    }
   ],
   "source": [
    "gp_s=df.groupby('STREET')['SALES_PRICE'].mean()\n",
    "gp_s"
   ]
  },
  {
   "cell_type": "code",
   "execution_count": 13,
   "id": "76e5bb94",
   "metadata": {},
   "outputs": [
    {
     "data": {
      "text/plain": [
       "<AxesSubplot:title={'center':'House Price in STREET'}, xlabel='STREET', ylabel='Mean Price'>"
      ]
     },
     "execution_count": 13,
     "metadata": {},
     "output_type": "execute_result"
    },
    {
     "data": {
      "image/png": "[encoded data removed]",
      "text/plain": [
       "<Figure size 432x360 with 1 Axes>"
      ]
     },
     "metadata": {
      "needs_background": "light"
     },
     "output_type": "display_data"
    }
   ],
   "source": [
    "gp_s.plot(kind='bar', title='House Price in STREET', ylabel='Mean Price',\n",
    "         xlabel='STREET', figsize=(6, 5))"
   ]
  },
  {
   "cell_type": "code",
   "execution_count": 14,
   "id": "64287770",
   "metadata": {},
   "outputs": [
    {
     "data": {
      "text/plain": [
       "0"
      ]
     },
     "execution_count": 14,
     "metadata": {},
     "output_type": "execute_result"
    }
   ],
   "source": [
    "df.loc[df['UTILITY_AVAIL']=='AllPub','UTILITY_AVAIL']='All Pub'\n",
    "df['UTILITY_AVAIL'].isnull().sum()"
   ]
  },
  {
   "cell_type": "code",
   "execution_count": 15,
   "id": "441ea1db",
   "metadata": {},
   "outputs": [
    {
     "data": {
      "text/plain": [
       "UTILITY_AVAIL\n",
       "All Pub    1.121002e+07\n",
       "ELO        1.046941e+07\n",
       "NoSeWa     1.089308e+07\n",
       "NoSewr     1.092576e+07\n",
       "Name: SALES_PRICE, dtype: float64"
      ]
     },
     "execution_count": 15,
     "metadata": {},
     "output_type": "execute_result"
    }
   ],
   "source": [
    "gp_UA=df.groupby('UTILITY_AVAIL')['SALES_PRICE'].mean()\n",
    "gp_UA"
   ]
  },
  {
   "cell_type": "code",
   "execution_count": 16,
   "id": "a07ad6af",
   "metadata": {},
   "outputs": [
    {
     "data": {
      "text/plain": [
       "<AxesSubplot:title={'center':'House Price for UTILITY_AVAIL'}, xlabel='UTILITY_AVAIL', ylabel='Mean Price'>"
      ]
     },
     "execution_count": 16,
     "metadata": {},
     "output_type": "execute_result"
    },
    {
     "data": {
      "image/png": "[encoded data removed]",
      "text/plain": [
       "<Figure size 432x360 with 1 Axes>"
      ]
     },
     "metadata": {
      "needs_background": "light"
     },
     "output_type": "display_data"
    }
   ],
   "source": [
    "gp_UA.plot(kind='bar', title='House Price for UTILITY_AVAIL', ylabel='Mean Price',\n",
    "         xlabel='UTILITY_AVAIL', figsize=(6, 5))"
   ]
  },
  {
   "cell_type": "code",
   "execution_count": 17,
   "id": "ac318a95",
   "metadata": {},
   "outputs": [
    {
     "data": {
      "text/plain": [
       "0       1.1210\n",
       "1       1.1210\n",
       "2       1.0469\n",
       "3          NaN\n",
       "4       1.1210\n",
       "         ...  \n",
       "7104    1.0469\n",
       "7105    1.0893\n",
       "7106    1.0893\n",
       "7107    1.0469\n",
       "7108    1.0469\n",
       "Name: UTILITY_AVAIL, Length: 7109, dtype: float64"
      ]
     },
     "execution_count": 17,
     "metadata": {},
     "output_type": "execute_result"
    }
   ],
   "source": [
    "df['UTILITY_AVAIL']=df['UTILITY_AVAIL'].map({'All Pub':1.1210,'ELO':1.0469,'NoSeWa':1.0893,'NoSewr':1.0925})\n",
    "df['UTILITY_AVAIL']"
   ]
  },
  {
   "cell_type": "code",
   "execution_count": 18,
   "id": "f674d5ae",
   "metadata": {},
   "outputs": [
    {
     "data": {
      "text/plain": [
       "MZZONE\n",
       "A     7.292591e+06\n",
       "C     8.052270e+06\n",
       "I     8.738633e+06\n",
       "RH    1.103997e+07\n",
       "RL    1.176576e+07\n",
       "RM    1.240707e+07\n",
       "Name: SALES_PRICE, dtype: float64"
      ]
     },
     "execution_count": 18,
     "metadata": {},
     "output_type": "execute_result"
    }
   ],
   "source": [
    "df['MZZONE'].unique()\n",
    "gp_mzone=df.groupby('MZZONE')['SALES_PRICE'].mean()\n",
    "gp_mzone"
   ]
  },
  {
   "cell_type": "code",
   "execution_count": 19,
   "id": "cc1d7c91",
   "metadata": {},
   "outputs": [
    {
     "data": {
      "text/plain": [
       "<AxesSubplot:title={'center':'House Price in MZONE'}, xlabel='MZONE', ylabel='Mean Price'>"
      ]
     },
     "execution_count": 19,
     "metadata": {},
     "output_type": "execute_result"
    },
    {
     "data": {
      "image/png": "[encoded data removed]",
      "text/plain": [
       "<Figure size 432x360 with 1 Axes>"
      ]
     },
     "metadata": {
      "needs_background": "light"
     },
     "output_type": "display_data"
    }
   ],
   "source": [
    "gp_mzone.plot(kind='bar', title='House Price in MZONE', ylabel='Mean Price',\n",
    "         xlabel='MZONE', figsize=(6, 5))"
   ]
  },
  {
   "cell_type": "markdown",
   "id": "58fd898e",
   "metadata": {},
   "source": [
    "## AREA MISS SPELLING REPLACE TO CORRECT WORD"
   ]
  },
  {
   "cell_type": "code",
   "execution_count": 20,
   "id": "64e66dfc",
   "metadata": {},
   "outputs": [
    {
     "data": {
      "text/plain": [
       "array(['Karapakkam', 'Anna Nagar', 'Adyar', 'Velachery', 'Chrompet',\n",
       "       'KK Nagar', 'TNagar', 'T Nagar', 'Chrompt', 'Chrmpet', 'Karapakam',\n",
       "       'Ana Nagar', 'Chormpet', 'Adyr', 'Velchery', 'Ann Nagar',\n",
       "       'KKNagar'], dtype=object)"
      ]
     },
     "execution_count": 20,
     "metadata": {},
     "output_type": "execute_result"
    }
   ],
   "source": [
    "df['AREA'].unique()"
   ]
  },
  {
   "cell_type": "code",
   "execution_count": 21,
   "id": "d6d298ad",
   "metadata": {},
   "outputs": [],
   "source": [
    "df.loc[df[\"AREA\"] == \"Ana Nagar\", \"AREA\"] = 'Anna Nagar'\n",
    "\n",
    "df.loc[df[\"AREA\"] == \"Adyr\", \"AREA\"] = 'Adyar'\n",
    "\n",
    "df.loc[df[\"AREA\"] == \"Ann Nagar\", \"AREA\"] = 'Anna Nagar'\n",
    "\n",
    "df.loc[df[\"AREA\"] == \"Chormpet\", \"AREA\"] = 'Chrompet'\n",
    "\n",
    "df.loc[df[\"AREA\"] == \"Chrompt\", \"AREA\"] = 'Chrompet'\n",
    "\n",
    "df.loc[df[\"AREA\"] == \"Chrmpet\", \"AREA\"] = 'Chrompet'\n",
    "\n",
    "df.loc[df[\"AREA\"] == \"KKNagar\", \"AREA\"] = 'KK Nagar'\n",
    "\n",
    "df.loc[df[\"AREA\"] == \"Karapakam\", \"AREA\"] = 'Karapakkam'\n",
    "\n",
    "df.loc[df[\"AREA\"] == \"TNagar\", \"AREA\"] = 'T Nagar'\n",
    "\n",
    "df.loc[df[\"AREA\"] == \"Velchery\", \"AREA\"] = 'Velachery'"
   ]
  },
  {
   "cell_type": "code",
   "execution_count": 22,
   "id": "21cf8238",
   "metadata": {},
   "outputs": [
    {
     "data": {
      "text/plain": [
       "array(['Karapakkam', 'Anna Nagar', 'Adyar', 'Velachery', 'Chrompet',\n",
       "       'KK Nagar', 'T Nagar'], dtype=object)"
      ]
     },
     "execution_count": 22,
     "metadata": {},
     "output_type": "execute_result"
    }
   ],
   "source": [
    "df['AREA'].unique()"
   ]
  },
  {
   "cell_type": "code",
   "execution_count": 23,
   "id": "f5d26926",
   "metadata": {},
   "outputs": [
    {
     "data": {
      "text/plain": [
       "AREA\n",
       "Adyar         9.185668e+06\n",
       "Anna Nagar    1.516820e+07\n",
       "Chrompet      1.001381e+07\n",
       "KK Nagar      1.269623e+07\n",
       "Karapakkam    7.340100e+06\n",
       "T Nagar       1.561674e+07\n",
       "Velachery     1.104735e+07\n",
       "Name: SALES_PRICE, dtype: float64"
      ]
     },
     "execution_count": 23,
     "metadata": {},
     "output_type": "execute_result"
    }
   ],
   "source": [
    "grp1=df.groupby('AREA')['SALES_PRICE'].mean()\n",
    "grp1"
   ]
  },
  {
   "cell_type": "code",
   "execution_count": 24,
   "id": "fc9abfa7",
   "metadata": {},
   "outputs": [
    {
     "data": {
      "text/plain": [
       "<AxesSubplot:title={'center':'House Price in Areas'}, xlabel='AREA', ylabel='Mean Price'>"
      ]
     },
     "execution_count": 24,
     "metadata": {},
     "output_type": "execute_result"
    },
    {
     "data": {
      "image/png": "[encoded data removed]",
      "text/plain": [
       "<Figure size 432x360 with 1 Axes>"
      ]
     },
     "metadata": {
      "needs_background": "light"
     },
     "output_type": "display_data"
    }
   ],
   "source": [
    "grp1.plot(kind='bar', title='House Price in Areas', ylabel='Mean Price',\n",
    "         xlabel='AREA', figsize=(6, 5))"
   ]
  },
  {
   "cell_type": "code",
   "execution_count": 25,
   "id": "a648a1a3",
   "metadata": {},
   "outputs": [
    {
     "data": {
      "text/plain": [
       "array(['AbNormal', 'Family', 'Partial', 'AdjLand', 'Normal Sale',\n",
       "       'Ab Normal', 'Partiall', 'Adj Land', 'PartiaLl'], dtype=object)"
      ]
     },
     "execution_count": 25,
     "metadata": {},
     "output_type": "execute_result"
    }
   ],
   "source": [
    "df['SALE_COND'].unique()"
   ]
  },
  {
   "cell_type": "code",
   "execution_count": 26,
   "id": "95f8dcf3",
   "metadata": {},
   "outputs": [],
   "source": [
    "## Secod sale MISS SPELLING REPLACE TO CORRECT WORD"
   ]
  },
  {
   "cell_type": "code",
   "execution_count": 27,
   "id": "eb9e36a5",
   "metadata": {},
   "outputs": [],
   "source": [
    "df.loc[df[\"SALE_COND\"] == 'Ab Normal', 'SALE_COND'] = 'AbNormal'\n",
    "df.loc[df['SALE_COND']=='Partiall','SALE_COND']='Partial'\n",
    "df.loc[df['SALE_COND']=='PartiaLl','SALE_COND']='Partial'\n",
    "df.loc[df['SALE_COND']=='Adj Land','SALE_COND']='AdjLand'"
   ]
  },
  {
   "cell_type": "code",
   "execution_count": 28,
   "id": "b088d9af",
   "metadata": {},
   "outputs": [
    {
     "data": {
      "text/plain": [
       "array(['AbNormal', 'Family', 'Partial', 'AdjLand', 'Normal Sale'],\n",
       "      dtype=object)"
      ]
     },
     "execution_count": 28,
     "metadata": {},
     "output_type": "execute_result"
    }
   ],
   "source": [
    "df['SALE_COND'].unique()"
   ]
  },
  {
   "cell_type": "code",
   "execution_count": 29,
   "id": "6ebe6c34",
   "metadata": {},
   "outputs": [
    {
     "data": {
      "text/plain": [
       "SALE_COND\n",
       "AbNormal       1.091463e+07\n",
       "AdjLand        1.120931e+07\n",
       "Family         1.073642e+07\n",
       "Normal Sale    1.099418e+07\n",
       "Partial        1.061637e+07\n",
       "Name: SALES_PRICE, dtype: float64"
      ]
     },
     "execution_count": 29,
     "metadata": {},
     "output_type": "execute_result"
    }
   ],
   "source": [
    "grp2=df.groupby('SALE_COND')['SALES_PRICE'].mean()\n",
    "grp2"
   ]
  },
  {
   "cell_type": "code",
   "execution_count": 30,
   "id": "ff68b818",
   "metadata": {},
   "outputs": [
    {
     "data": {
      "text/plain": [
       "<AxesSubplot:title={'center':'House Price in SALE_COND'}, xlabel='SALE_COND', ylabel='Mean Price'>"
      ]
     },
     "execution_count": 30,
     "metadata": {},
     "output_type": "execute_result"
    },
    {
     "data": {
      "image/png": "[encoded data removed]",
      "text/plain": [
       "<Figure size 432x360 with 1 Axes>"
      ]
     },
     "metadata": {
      "needs_background": "light"
     },
     "output_type": "display_data"
    }
   ],
   "source": [
    "grp2.plot(kind='bar', title='House Price in SALE_COND', ylabel='Mean Price',\n",
    "         xlabel='SALE_COND', figsize=(6, 5))"
   ]
  },
  {
   "cell_type": "code",
   "execution_count": 31,
   "id": "7cc2b82e",
   "metadata": {},
   "outputs": [
    {
     "data": {
      "text/plain": [
       "array(['04-05-2011', '19-12-2006', '04-02-2012', ..., '28-03-2014',\n",
       "       '25-08-2006', '13-07-2005'], dtype=object)"
      ]
     },
     "execution_count": 31,
     "metadata": {},
     "output_type": "execute_result"
    }
   ],
   "source": [
    "df['DATE_SALE'].unique()"
   ]
  },
  {
   "cell_type": "markdown",
   "id": "1f2c171e",
   "metadata": {},
   "source": [
    "## Finding Age of the according to DATE_BUILD date"
   ]
  },
  {
   "cell_type": "code",
   "execution_count": 32,
   "id": "83b468d3",
   "metadata": {},
   "outputs": [],
   "source": [
    "y=df['DATE_BUILD'].str[6:]\n",
    "ser = pd.Series(y)\n",
    "year=pd.to_numeric(ser, downcast ='signed')\n",
    "Age=2022-year"
   ]
  },
  {
   "cell_type": "code",
   "execution_count": 33,
   "id": "061e61ca",
   "metadata": {},
   "outputs": [
    {
     "data": {
      "text/plain": [
       "array([12, 13, 14, 15, 16, 17, 18, 19, 20, 21, 22, 23, 24, 25, 26, 27, 28,\n",
       "       29, 30, 31, 32, 33, 34, 35, 36, 37, 38, 39, 40, 41, 42, 43, 44, 45,\n",
       "       46, 47, 48, 49, 50, 51, 52, 53, 54, 55, 56, 57, 58, 59, 60, 61, 62,\n",
       "       63, 64, 65, 66, 67, 68, 69, 70, 71, 72, 73], dtype=int16)"
      ]
     },
     "execution_count": 33,
     "metadata": {},
     "output_type": "execute_result"
    }
   ],
   "source": [
    "uniqueAges=Age.sort_values().unique()\n",
    "uniqueAges"
   ]
  },
  {
   "cell_type": "markdown",
   "id": "5520d78f",
   "metadata": {},
   "source": [
    "## Adding Age Column"
   ]
  },
  {
   "cell_type": "code",
   "execution_count": 34,
   "id": "213a3596",
   "metadata": {},
   "outputs": [],
   "source": [
    "df['Age']=Age"
   ]
  },
  {
   "cell_type": "code",
   "execution_count": 35,
   "id": "588051ea",
   "metadata": {},
   "outputs": [
    {
     "data": {
      "text/html": [
       "<div>\n",
       "<style scoped>\n",
       "    .dataframe tbody tr th:only-of-type {\n",
       "        vertical-align: middle;\n",
       "    }\n",
       "\n",
       "    .dataframe tbody tr th {\n",
       "        vertical-align: top;\n",
       "    }\n",
       "\n",
       "    .dataframe thead th {\n",
       "        text-align: right;\n",
       "    }\n",
       "</style>\n",
       "<table border=\"1\" class=\"dataframe\">\n",
       "  <thead>\n",
       "    <tr style=\"text-align: right;\">\n",
       "      <th></th>\n",
       "      <th>AREA</th>\n",
       "      <th>INT_SQFT</th>\n",
       "      <th>DATE_SALE</th>\n",
       "      <th>DIST_MAINROAD</th>\n",
       "      <th>N_BEDROOM</th>\n",
       "      <th>N_BATHROOM</th>\n",
       "      <th>N_ROOM</th>\n",
       "      <th>SALE_COND</th>\n",
       "      <th>PARK_FACIL</th>\n",
       "      <th>DATE_BUILD</th>\n",
       "      <th>BUILDTYPE</th>\n",
       "      <th>UTILITY_AVAIL</th>\n",
       "      <th>STREET</th>\n",
       "      <th>MZZONE</th>\n",
       "      <th>QS_ROOMS</th>\n",
       "      <th>QS_BATHROOM</th>\n",
       "      <th>QS_BEDROOM</th>\n",
       "      <th>QS_OVERALL</th>\n",
       "      <th>SALES_PRICE</th>\n",
       "      <th>Age</th>\n",
       "    </tr>\n",
       "  </thead>\n",
       "  <tbody>\n",
       "    <tr>\n",
       "      <th>0</th>\n",
       "      <td>Karapakkam</td>\n",
       "      <td>1004</td>\n",
       "      <td>04-05-2011</td>\n",
       "      <td>131</td>\n",
       "      <td>1.0</td>\n",
       "      <td>1.0</td>\n",
       "      <td>3</td>\n",
       "      <td>AbNormal</td>\n",
       "      <td>Yes</td>\n",
       "      <td>15-05-1967</td>\n",
       "      <td>Commercial</td>\n",
       "      <td>1.1210</td>\n",
       "      <td>Paved</td>\n",
       "      <td>A</td>\n",
       "      <td>4.0</td>\n",
       "      <td>3.9</td>\n",
       "      <td>4.9</td>\n",
       "      <td>4.330</td>\n",
       "      <td>7600000</td>\n",
       "      <td>55</td>\n",
       "    </tr>\n",
       "    <tr>\n",
       "      <th>1</th>\n",
       "      <td>Anna Nagar</td>\n",
       "      <td>1986</td>\n",
       "      <td>19-12-2006</td>\n",
       "      <td>26</td>\n",
       "      <td>2.0</td>\n",
       "      <td>1.0</td>\n",
       "      <td>5</td>\n",
       "      <td>AbNormal</td>\n",
       "      <td>No</td>\n",
       "      <td>22-12-1995</td>\n",
       "      <td>Commercial</td>\n",
       "      <td>1.1210</td>\n",
       "      <td>Gravel</td>\n",
       "      <td>RH</td>\n",
       "      <td>4.9</td>\n",
       "      <td>4.2</td>\n",
       "      <td>2.5</td>\n",
       "      <td>3.765</td>\n",
       "      <td>21717770</td>\n",
       "      <td>27</td>\n",
       "    </tr>\n",
       "    <tr>\n",
       "      <th>2</th>\n",
       "      <td>Adyar</td>\n",
       "      <td>909</td>\n",
       "      <td>04-02-2012</td>\n",
       "      <td>70</td>\n",
       "      <td>1.0</td>\n",
       "      <td>1.0</td>\n",
       "      <td>3</td>\n",
       "      <td>AbNormal</td>\n",
       "      <td>Yes</td>\n",
       "      <td>09-02-1992</td>\n",
       "      <td>Commercial</td>\n",
       "      <td>1.0469</td>\n",
       "      <td>Gravel</td>\n",
       "      <td>RL</td>\n",
       "      <td>4.1</td>\n",
       "      <td>3.8</td>\n",
       "      <td>2.2</td>\n",
       "      <td>3.090</td>\n",
       "      <td>13159200</td>\n",
       "      <td>30</td>\n",
       "    </tr>\n",
       "    <tr>\n",
       "      <th>3</th>\n",
       "      <td>Velachery</td>\n",
       "      <td>1855</td>\n",
       "      <td>13-03-2010</td>\n",
       "      <td>14</td>\n",
       "      <td>3.0</td>\n",
       "      <td>2.0</td>\n",
       "      <td>5</td>\n",
       "      <td>Family</td>\n",
       "      <td>No</td>\n",
       "      <td>18-03-1988</td>\n",
       "      <td>Others</td>\n",
       "      <td>NaN</td>\n",
       "      <td>Paved</td>\n",
       "      <td>I</td>\n",
       "      <td>4.7</td>\n",
       "      <td>3.9</td>\n",
       "      <td>3.6</td>\n",
       "      <td>4.010</td>\n",
       "      <td>9630290</td>\n",
       "      <td>34</td>\n",
       "    </tr>\n",
       "    <tr>\n",
       "      <th>4</th>\n",
       "      <td>Karapakkam</td>\n",
       "      <td>1226</td>\n",
       "      <td>05-10-2009</td>\n",
       "      <td>84</td>\n",
       "      <td>1.0</td>\n",
       "      <td>1.0</td>\n",
       "      <td>3</td>\n",
       "      <td>AbNormal</td>\n",
       "      <td>Yes</td>\n",
       "      <td>13-10-1979</td>\n",
       "      <td>Others</td>\n",
       "      <td>1.1210</td>\n",
       "      <td>Gravel</td>\n",
       "      <td>C</td>\n",
       "      <td>3.0</td>\n",
       "      <td>2.5</td>\n",
       "      <td>4.1</td>\n",
       "      <td>3.290</td>\n",
       "      <td>7406250</td>\n",
       "      <td>43</td>\n",
       "    </tr>\n",
       "  </tbody>\n",
       "</table>\n",
       "</div>"
      ],
      "text/plain": [
       "         AREA  INT_SQFT   DATE_SALE  DIST_MAINROAD  N_BEDROOM  N_BATHROOM  \\\n",
       "0  Karapakkam      1004  04-05-2011            131        1.0         1.0   \n",
       "1  Anna Nagar      1986  19-12-2006             26        2.0         1.0   \n",
       "2       Adyar       909  04-02-2012             70        1.0         1.0   \n",
       "3   Velachery      1855  13-03-2010             14        3.0         2.0   \n",
       "4  Karapakkam      1226  05-10-2009             84        1.0         1.0   \n",
       "\n",
       "   N_ROOM SALE_COND PARK_FACIL  DATE_BUILD   BUILDTYPE  UTILITY_AVAIL  STREET  \\\n",
       "0       3  AbNormal        Yes  15-05-1967  Commercial         1.1210   Paved   \n",
       "1       5  AbNormal         No  22-12-1995  Commercial         1.1210  Gravel   \n",
       "2       3  AbNormal        Yes  09-02-1992  Commercial         1.0469  Gravel   \n",
       "3       5    Family         No  18-03-1988      Others            NaN   Paved   \n",
       "4       3  AbNormal        Yes  13-10-1979      Others         1.1210  Gravel   \n",
       "\n",
       "  MZZONE  QS_ROOMS  QS_BATHROOM  QS_BEDROOM  QS_OVERALL  SALES_PRICE  Age  \n",
       "0      A       4.0          3.9         4.9       4.330      7600000   55  \n",
       "1     RH       4.9          4.2         2.5       3.765     21717770   27  \n",
       "2     RL       4.1          3.8         2.2       3.090     13159200   30  \n",
       "3      I       4.7          3.9         3.6       4.010      9630290   34  \n",
       "4      C       3.0          2.5         4.1       3.290      7406250   43  "
      ]
     },
     "execution_count": 35,
     "metadata": {},
     "output_type": "execute_result"
    }
   ],
   "source": [
    "df.head()"
   ]
  },
  {
   "cell_type": "code",
   "execution_count": 36,
   "id": "54bb9cf2",
   "metadata": {},
   "outputs": [
    {
     "data": {
      "text/plain": [
       "Age\n",
       "12    1.002291e+07\n",
       "13    1.320975e+07\n",
       "14    1.274462e+07\n",
       "15    1.124737e+07\n",
       "16    1.094184e+07\n",
       "          ...     \n",
       "69    9.387892e+06\n",
       "70    9.603261e+06\n",
       "71    9.470893e+06\n",
       "72    6.761640e+06\n",
       "73    1.288525e+07\n",
       "Name: SALES_PRICE, Length: 62, dtype: float64"
      ]
     },
     "execution_count": 36,
     "metadata": {},
     "output_type": "execute_result"
    }
   ],
   "source": [
    "gphb=df.groupby('Age')['SALES_PRICE'].mean()\n",
    "gphb"
   ]
  },
  {
   "cell_type": "code",
   "execution_count": 37,
   "id": "414cd0a5",
   "metadata": {},
   "outputs": [
    {
     "data": {
      "text/plain": [
       "<AxesSubplot:title={'center':'House Price in Age'}, xlabel='Age', ylabel='Mean Price'>"
      ]
     },
     "execution_count": 37,
     "metadata": {},
     "output_type": "execute_result"
    },
    {
     "data": {
      "image/png": "[encoded data removed]",
      "text/plain": [
       "<Figure size 1080x360 with 1 Axes>"
      ]
     },
     "metadata": {
      "needs_background": "light"
     },
     "output_type": "display_data"
    }
   ],
   "source": [
    "gphb.plot(kind='bar', title='House Price in Age', ylabel='Mean Price',\n",
    "         xlabel='Age', figsize=(15, 5))"
   ]
  },
  {
   "cell_type": "markdown",
   "id": "e4ff531d",
   "metadata": {},
   "source": [
    "Above bar chart shows there is no relation between age and House Price"
   ]
  },
  {
   "cell_type": "code",
   "execution_count": 38,
   "id": "dabad535",
   "metadata": {},
   "outputs": [
    {
     "data": {
      "text/plain": [
       "array(['Commercial', 'Others', 'House'], dtype=object)"
      ]
     },
     "execution_count": 38,
     "metadata": {},
     "output_type": "execute_result"
    }
   ],
   "source": [
    "\n",
    "## BUILDTYPE MISS SPELLING REPLACE TO CORRECT WORD\n",
    "df.loc[df['BUILDTYPE']=='Other','BUILDTYPE']='Others'\n",
    "df.loc[df['BUILDTYPE']=='Comercial','BUILDTYPE']='Commercial'\n",
    "df['BUILDTYPE'].unique()"
   ]
  },
  {
   "cell_type": "code",
   "execution_count": 39,
   "id": "2116f15a",
   "metadata": {},
   "outputs": [
    {
     "data": {
      "text/plain": [
       "<AxesSubplot:xlabel='BUILDTYPE'>"
      ]
     },
     "execution_count": 39,
     "metadata": {},
     "output_type": "execute_result"
    },
    {
     "data": {
      "image/png": "[encoded data removed]",
      "text/plain": [
       "<Figure size 432x288 with 1 Axes>"
      ]
     },
     "metadata": {
      "needs_background": "light"
     },
     "output_type": "display_data"
    }
   ],
   "source": [
    "gpbt=df.groupby('BUILDTYPE')['SALES_PRICE'].mean().plot()\n",
    "gpbt"
   ]
  },
  {
   "cell_type": "code",
   "execution_count": 40,
   "id": "ecc14f8b",
   "metadata": {},
   "outputs": [
    {
     "data": {
      "text/plain": [
       "[]"
      ]
     },
     "execution_count": 40,
     "metadata": {},
     "output_type": "execute_result"
    }
   ],
   "source": [
    "gpbt.plot(kind='bar', title='Price according to buildtype', ylabel='Mean Price',\n",
    "         xlabel='BUILDTYPE', figsize=(5, 3))"
   ]
  },
  {
   "cell_type": "code",
   "execution_count": 41,
   "id": "2b7e7469",
   "metadata": {},
   "outputs": [
    {
     "data": {
      "text/plain": [
       "array([131,  26,  70,  14,  84,  36, 137, 176, 175,  74,  78, 143,  83,\n",
       "       157, 148, 134,  69, 168,  53,  96, 114, 100, 111, 105,  29,  59,\n",
       "       185, 138, 173,  15, 117,  16, 130,  46, 180,  52,  86,  49, 113,\n",
       "       189,  28,  51,  19, 167, 126,  75, 154,  25, 187, 200,  32,  11,\n",
       "        23,  13,  58,  89,  48,  39, 177, 116,  41, 192,  72,  24,  43,\n",
       "        85, 171, 149,  73,  62, 145, 125, 121, 129,   6, 103,   8,  50,\n",
       "        67,   0, 147,  71,  34, 178, 106, 144, 135,  38,  40, 142,  79,\n",
       "        20,  99, 166,  63,  44,  60,  90, 169,  10, 122, 108,  98,  57,\n",
       "       104,  17,   1, 109, 164, 136,  97,  37,   9, 181,  93,  81, 193,\n",
       "        95, 196, 141, 158, 174,  94, 124,  82,  76, 190, 194,  54,  64,\n",
       "        65, 153, 115, 102,  77, 182, 163,  88,  66, 119,  18, 188, 112,\n",
       "       120, 159,   4, 123,  31,   2, 156, 184, 170, 110,   7, 152,  27,\n",
       "       198, 183,  12,  45, 161,  30, 118,  33,  61, 191, 160, 140,  47,\n",
       "       146, 128,  80,  55, 151,   3,  92,  22,  35, 101, 127, 199, 132,\n",
       "        21, 107,  56, 197, 186, 165,  87, 133, 195,  91,  68,   5,  42,\n",
       "       162, 155, 172, 139, 179, 150], dtype=int64)"
      ]
     },
     "execution_count": 41,
     "metadata": {},
     "output_type": "execute_result"
    }
   ],
   "source": [
    "df['DIST_MAINROAD'].unique()"
   ]
  },
  {
   "cell_type": "code",
   "execution_count": 42,
   "id": "3e72bf92",
   "metadata": {},
   "outputs": [
    {
     "data": {
      "text/plain": [
       "DIST_MAINROAD\n",
       "0      1.083050e+07\n",
       "1      1.081971e+07\n",
       "2      1.075036e+07\n",
       "3      1.008131e+07\n",
       "4      1.168169e+07\n",
       "           ...     \n",
       "196    1.109426e+07\n",
       "197    1.186536e+07\n",
       "198    1.092855e+07\n",
       "199    1.118152e+07\n",
       "200    1.001123e+07\n",
       "Name: SALES_PRICE, Length: 201, dtype: float64"
      ]
     },
     "execution_count": 42,
     "metadata": {},
     "output_type": "execute_result"
    }
   ],
   "source": [
    "df.groupby('DIST_MAINROAD')['SALES_PRICE'].mean()"
   ]
  },
  {
   "cell_type": "code",
   "execution_count": 43,
   "id": "9dacd5dc",
   "metadata": {},
   "outputs": [
    {
     "data": {
      "image/png": "[encoded data removed]",
      "text/plain": [
       "<Figure size 432x288 with 1 Axes>"
      ]
     },
     "metadata": {
      "needs_background": "light"
     },
     "output_type": "display_data"
    }
   ],
   "source": [
    "x=df['DIST_MAINROAD']\n",
    "y=df['SALES_PRICE']\n",
    "plt.scatter(x, y)\n",
    "plt.show()"
   ]
  },
  {
   "cell_type": "code",
   "execution_count": 44,
   "id": "5f31604a",
   "metadata": {},
   "outputs": [
    {
     "data": {
      "text/plain": [
       "array([3, 5, 4, 2, 6], dtype=int64)"
      ]
     },
     "execution_count": 44,
     "metadata": {},
     "output_type": "execute_result"
    }
   ],
   "source": [
    "\n",
    "df['N_ROOM'].unique()"
   ]
  },
  {
   "cell_type": "code",
   "execution_count": 45,
   "id": "953c437f",
   "metadata": {},
   "outputs": [
    {
     "data": {
      "text/plain": [
       "N_ROOM\n",
       "2    6.982718e+06\n",
       "3    9.298812e+06\n",
       "4    1.169143e+07\n",
       "5    1.414533e+07\n",
       "6    1.445131e+07\n",
       "Name: SALES_PRICE, dtype: float64"
      ]
     },
     "execution_count": 45,
     "metadata": {},
     "output_type": "execute_result"
    }
   ],
   "source": [
    "gbr=df.groupby('N_ROOM')['SALES_PRICE'].mean()\n",
    "gbr"
   ]
  },
  {
   "cell_type": "code",
   "execution_count": 46,
   "id": "6a7b3046",
   "metadata": {},
   "outputs": [
    {
     "data": {
      "text/plain": [
       "<AxesSubplot:title={'center':'Price according to no of Rooms'}, xlabel='No of Rooms', ylabel='Mean Price'>"
      ]
     },
     "execution_count": 46,
     "metadata": {},
     "output_type": "execute_result"
    },
    {
     "data": {
      "image/png": "[encoded data removed]",
      "text/plain": [
       "<Figure size 360x216 with 1 Axes>"
      ]
     },
     "metadata": {
      "needs_background": "light"
     },
     "output_type": "display_data"
    }
   ],
   "source": [
    "gbr.plot(kind='bar', title='Price according to no of Rooms', ylabel='Mean Price',\n",
    "         xlabel='No of Rooms', figsize=(5, 3))"
   ]
  },
  {
   "cell_type": "markdown",
   "id": "3679ebbf",
   "metadata": {},
   "source": [
    "# Encoding using map"
   ]
  },
  {
   "cell_type": "code",
   "execution_count": 47,
   "id": "6415033f",
   "metadata": {},
   "outputs": [
    {
     "data": {
      "text/plain": [
       "0        7.3401\n",
       "1       15.1682\n",
       "2        9.1856\n",
       "3       11.0473\n",
       "4        7.3401\n",
       "         ...   \n",
       "7104     7.3401\n",
       "7105    11.0473\n",
       "7106    11.0473\n",
       "7107     7.3401\n",
       "7108    11.0473\n",
       "Name: AREA, Length: 7109, dtype: float64"
      ]
     },
     "execution_count": 47,
     "metadata": {},
     "output_type": "execute_result"
    }
   ],
   "source": [
    "df['AREA']=df['AREA'].map({'Adyar':9.1856,'Anna Nagar':15.1682,'Chrompet':10.0138,'KK Nagar':12.6962,'Karapakkam':7.3401,'T Nagar':15.6167,'Velachery':11.0473})\n",
    "df['AREA']"
   ]
  },
  {
   "cell_type": "code",
   "execution_count": 48,
   "id": "4e78158a",
   "metadata": {},
   "outputs": [
    {
     "data": {
      "text/plain": [
       "0       0.7292\n",
       "1       1.1039\n",
       "2       1.1765\n",
       "3       0.8738\n",
       "4       0.8052\n",
       "         ...  \n",
       "7104    1.2407\n",
       "7105    1.1039\n",
       "7106    0.8738\n",
       "7107    1.1765\n",
       "7108    0.8738\n",
       "Name: MZZONE, Length: 7109, dtype: float64"
      ]
     },
     "execution_count": 48,
     "metadata": {},
     "output_type": "execute_result"
    }
   ],
   "source": [
    "df['MZZONE']=df['MZZONE'].map({'A':0.7292,'C':0.8052,'I':0.8738,'RH':1.1039,'RL':1.1765,'RM':1.2407})\n",
    "df['MZZONE']"
   ]
  },
  {
   "cell_type": "code",
   "execution_count": 49,
   "id": "d130b21d",
   "metadata": {},
   "outputs": [
    {
     "data": {
      "text/plain": [
       "0       13.8698\n",
       "1       13.8698\n",
       "2       13.8698\n",
       "3        9.8079\n",
       "4        9.8079\n",
       "         ...   \n",
       "7104     9.8079\n",
       "7105     9.8079\n",
       "7106     9.0988\n",
       "7107    13.8698\n",
       "7108     9.8079\n",
       "Name: BUILDTYPE, Length: 7109, dtype: float64"
      ]
     },
     "execution_count": 49,
     "metadata": {},
     "output_type": "execute_result"
    }
   ],
   "source": [
    "df['BUILDTYPE']=df['BUILDTYPE'].map({'Commercial':13.8698,'House':9.0988,'Others':9.8079})\n",
    "df['BUILDTYPE']"
   ]
  },
  {
   "cell_type": "code",
   "execution_count": 50,
   "id": "fb21e8ce",
   "metadata": {},
   "outputs": [
    {
     "data": {
      "text/plain": [
       "0       1.0914\n",
       "1       1.0914\n",
       "2       1.0914\n",
       "3       1.0736\n",
       "4       1.0914\n",
       "         ...  \n",
       "7104    1.1209\n",
       "7105    1.0736\n",
       "7106    1.0994\n",
       "7107    1.0616\n",
       "7108    1.0616\n",
       "Name: SALE_COND, Length: 7109, dtype: float64"
      ]
     },
     "execution_count": 50,
     "metadata": {},
     "output_type": "execute_result"
    }
   ],
   "source": [
    "df['SALE_COND']=df['SALE_COND'].map({'AbNormal':1.0914,'AdjLand': 1.1209,'Family':1.0736,'Normal Sale':1.0994,'Partial':1.0616})\n",
    "df['SALE_COND']"
   ]
  },
  {
   "cell_type": "code",
   "execution_count": 51,
   "id": "619ba40a",
   "metadata": {},
   "outputs": [
    {
     "data": {
      "text/plain": [
       "0       1.1057\n",
       "1       1.1444\n",
       "2       1.1444\n",
       "3       1.1057\n",
       "4       1.1444\n",
       "         ...  \n",
       "7104    1.0000\n",
       "7105    1.0000\n",
       "7106    1.1444\n",
       "7107    1.1057\n",
       "7108    1.1057\n",
       "Name: STREET, Length: 7109, dtype: float64"
      ]
     },
     "execution_count": 51,
     "metadata": {},
     "output_type": "execute_result"
    }
   ],
   "source": [
    "df['STREET']=df['STREET'].map({'Gravel':1.1444,'No Access':1.0000,'Paved':1.1057})\n",
    "df['STREET']"
   ]
  },
  {
   "cell_type": "code",
   "execution_count": 52,
   "id": "1192ad54",
   "metadata": {},
   "outputs": [
    {
     "data": {
      "text/plain": [
       "array(['Yes', 'No'], dtype=object)"
      ]
     },
     "execution_count": 52,
     "metadata": {},
     "output_type": "execute_result"
    }
   ],
   "source": [
    "df['PARK_FACIL'].unique()\n",
    "df.loc[df['PARK_FACIL']=='Noo','PARK_FACIL']='No'\n",
    "df['PARK_FACIL'].unique()"
   ]
  },
  {
   "cell_type": "code",
   "execution_count": 53,
   "id": "60d6bbe1",
   "metadata": {},
   "outputs": [],
   "source": [
    "df['PARK_FACIL']=df['PARK_FACIL'].map({'Yes':1,'No':0})"
   ]
  },
  {
   "cell_type": "code",
   "execution_count": 54,
   "id": "54efe518",
   "metadata": {},
   "outputs": [
    {
     "data": {
      "text/plain": [
       "0       1\n",
       "1       0\n",
       "2       1\n",
       "3       0\n",
       "4       1\n",
       "       ..\n",
       "7104    0\n",
       "7105    1\n",
       "7106    0\n",
       "7107    1\n",
       "7108    1\n",
       "Name: PARK_FACIL, Length: 7109, dtype: int64"
      ]
     },
     "execution_count": 54,
     "metadata": {},
     "output_type": "execute_result"
    }
   ],
   "source": [
    "df['PARK_FACIL']"
   ]
  },
  {
   "cell_type": "code",
   "execution_count": 55,
   "id": "d1d62120",
   "metadata": {},
   "outputs": [
    {
     "name": "stdout",
     "output_type": "stream",
     "text": [
      "<class 'pandas.core.frame.DataFrame'>\n",
      "RangeIndex: 7109 entries, 0 to 7108\n",
      "Data columns (total 20 columns):\n",
      " #   Column         Non-Null Count  Dtype  \n",
      "---  ------         --------------  -----  \n",
      " 0   AREA           7109 non-null   float64\n",
      " 1   INT_SQFT       7109 non-null   int64  \n",
      " 2   DATE_SALE      7109 non-null   object \n",
      " 3   DIST_MAINROAD  7109 non-null   int64  \n",
      " 4   N_BEDROOM      7109 non-null   float64\n",
      " 5   N_BATHROOM     7109 non-null   float64\n",
      " 6   N_ROOM         7109 non-null   int64  \n",
      " 7   SALE_COND      7109 non-null   float64\n",
      " 8   PARK_FACIL     7109 non-null   int64  \n",
      " 9   DATE_BUILD     7109 non-null   object \n",
      " 10  BUILDTYPE      7109 non-null   float64\n",
      " 11  UTILITY_AVAIL  5280 non-null   float64\n",
      " 12  STREET         7109 non-null   float64\n",
      " 13  MZZONE         7109 non-null   float64\n",
      " 14  QS_ROOMS       7109 non-null   float64\n",
      " 15  QS_BATHROOM    7109 non-null   float64\n",
      " 16  QS_BEDROOM     7109 non-null   float64\n",
      " 17  QS_OVERALL     7109 non-null   float64\n",
      " 18  SALES_PRICE    7109 non-null   int64  \n",
      " 19  Age            7109 non-null   int16  \n",
      "dtypes: float64(12), int16(1), int64(5), object(2)\n",
      "memory usage: 1.0+ MB\n"
     ]
    }
   ],
   "source": [
    "df.info()"
   ]
  },
  {
   "cell_type": "markdown",
   "id": "ba8f68e2",
   "metadata": {},
   "source": [
    "# according to analysis i neglect these features\n",
    "#1.DATE_SALE      \n",
    "#2.DIST_MAINROAD\n",
    "#3.DATE_BUILD and AGE"
   ]
  },
  {
   "cell_type": "code",
   "execution_count": 56,
   "id": "283bd581",
   "metadata": {},
   "outputs": [],
   "source": [
    "X=df[['AREA','INT_SQFT','N_BEDROOM','N_BATHROOM','N_ROOM','SALE_COND','PARK_FACIL','BUILDTYPE','STREET','MZZONE','QS_ROOMS','QS_BATHROOM','QS_BEDROOM','QS_OVERALL']]"
   ]
  },
  {
   "cell_type": "code",
   "execution_count": 57,
   "id": "8a4d0036",
   "metadata": {},
   "outputs": [
    {
     "data": {
      "text/plain": [
       "array([1.121 , 1.0469,    nan, 1.0893])"
      ]
     },
     "execution_count": 57,
     "metadata": {},
     "output_type": "execute_result"
    }
   ],
   "source": [
    "df['UTILITY_AVAIL'].unique()"
   ]
  },
  {
   "cell_type": "code",
   "execution_count": 58,
   "id": "4b4a722a",
   "metadata": {},
   "outputs": [
    {
     "data": {
      "text/plain": [
       "AREA           0\n",
       "INT_SQFT       0\n",
       "N_BEDROOM      0\n",
       "N_BATHROOM     0\n",
       "N_ROOM         0\n",
       "SALE_COND      0\n",
       "PARK_FACIL     0\n",
       "BUILDTYPE      0\n",
       "STREET         0\n",
       "MZZONE         0\n",
       "QS_ROOMS       0\n",
       "QS_BATHROOM    0\n",
       "QS_BEDROOM     0\n",
       "QS_OVERALL     0\n",
       "dtype: int64"
      ]
     },
     "execution_count": 58,
     "metadata": {},
     "output_type": "execute_result"
    }
   ],
   "source": [
    "X.isnull().sum()"
   ]
  },
  {
   "cell_type": "code",
   "execution_count": 59,
   "id": "d5d9102e",
   "metadata": {},
   "outputs": [
    {
     "data": {
      "text/plain": [
       "(7109,)"
      ]
     },
     "execution_count": 59,
     "metadata": {},
     "output_type": "execute_result"
    }
   ],
   "source": [
    "y=df['SALES_PRICE']\n",
    "y.shape"
   ]
  },
  {
   "cell_type": "code",
   "execution_count": 60,
   "id": "4cf794b7",
   "metadata": {},
   "outputs": [],
   "source": [
    "from sklearn.model_selection import train_test_split\n",
    "X_train, X_test, y_train, y_test = train_test_split(X, y, test_size=0.3, random_state=8)"
   ]
  },
  {
   "cell_type": "code",
   "execution_count": 61,
   "id": "eb2a9938",
   "metadata": {},
   "outputs": [
    {
     "data": {
      "text/plain": [
       "((4976, 14), (4976,))"
      ]
     },
     "execution_count": 61,
     "metadata": {},
     "output_type": "execute_result"
    }
   ],
   "source": [
    "X_train.shape,y_train.shape"
   ]
  },
  {
   "cell_type": "code",
   "execution_count": 62,
   "id": "ff5f28eb",
   "metadata": {},
   "outputs": [
    {
     "data": {
      "text/plain": [
       "((2133, 14), (2133,))"
      ]
     },
     "execution_count": 62,
     "metadata": {},
     "output_type": "execute_result"
    }
   ],
   "source": [
    "X_test.shape,y_test.shape"
   ]
  },
  {
   "cell_type": "code",
   "execution_count": 63,
   "id": "cd5f2178",
   "metadata": {},
   "outputs": [],
   "source": [
    "#from sklearn.preprocessing import StandardScaler ## standrard scalig \n",
    "#scaler = StandardScaler() #initialise to a variable\n",
    "#scaler.fit(X_train,y_train) # we are finding the values of mean and sd from the td\n",
    "#X_train_scaled = scaler.transform(X_train) # fit (mean, sd) and then transform the training data\n",
    "#X_test_scaled = scaler.transform(X_test) # transform the test data "
   ]
  },
  {
   "cell_type": "code",
   "execution_count": 64,
   "id": "79746784",
   "metadata": {},
   "outputs": [],
   "source": [
    "from sklearn.preprocessing import StandardScaler\n",
    "scaler=StandardScaler()\n",
    "X_train= scaler.fit_transform(X_train)\n",
    "X_test = scaler.transform(X_test)\n"
   ]
  },
  {
   "cell_type": "markdown",
   "id": "60fa1ce9",
   "metadata": {},
   "source": [
    "# Linear Regression"
   ]
  },
  {
   "cell_type": "code",
   "execution_count": 65,
   "id": "01e57555",
   "metadata": {},
   "outputs": [
    {
     "data": {
      "text/html": [
       "<style>#sk-container-id-1 {color: black;background-color: white;}#sk-container-id-1 pre{padding: 0;}#sk-container-id-1 div.sk-toggleable {background-color: white;}#sk-container-id-1 label.sk-toggleable__label {cursor: pointer;display: block;width: 100%;margin-bottom: 0;padding: 0.3em;box-sizing: border-box;text-align: center;}#sk-container-id-1 label.sk-toggleable__label-arrow:before {content: \"▸\";float: left;margin-right: 0.25em;color: #696969;}#sk-container-id-1 label.sk-toggleable__label-arrow:hover:before {color: black;}#sk-container-id-1 div.sk-estimator:hover label.sk-toggleable__label-arrow:before {color: black;}#sk-container-id-1 div.sk-toggleable__content {max-height: 0;max-width: 0;overflow: hidden;text-align: left;background-color: #f0f8ff;}#sk-container-id-1 div.sk-toggleable__content pre {margin: 0.2em;color: black;border-radius: 0.25em;background-color: #f0f8ff;}#sk-container-id-1 input.sk-toggleable__control:checked~div.sk-toggleable__content {max-height: 200px;max-width: 100%;overflow: auto;}#sk-container-id-1 input.sk-toggleable__control:checked~label.sk-toggleable__label-arrow:before {content: \"▾\";}#sk-container-id-1 div.sk-estimator input.sk-toggleable__control:checked~label.sk-toggleable__label {background-color: #d4ebff;}#sk-container-id-1 div.sk-label input.sk-toggleable__control:checked~label.sk-toggleable__label {background-color: #d4ebff;}#sk-container-id-1 input.sk-hidden--visually {border: 0;clip: rect(1px 1px 1px 1px);clip: rect(1px, 1px, 1px, 1px);height: 1px;margin: -1px;overflow: hidden;padding: 0;position: absolute;width: 1px;}#sk-container-id-1 div.sk-estimator {font-family: monospace;background-color: #f0f8ff;border: 1px dotted black;border-radius: 0.25em;box-sizing: border-box;margin-bottom: 0.5em;}#sk-container-id-1 div.sk-estimator:hover {background-color: #d4ebff;}#sk-container-id-1 div.sk-parallel-item::after {content: \"\";width: 100%;border-bottom: 1px solid gray;flex-grow: 1;}#sk-container-id-1 div.sk-label:hover label.sk-toggleable__label {background-color: #d4ebff;}#sk-container-id-1 div.sk-serial::before {content: \"\";position: absolute;border-left: 1px solid gray;box-sizing: border-box;top: 0;bottom: 0;left: 50%;z-index: 0;}#sk-container-id-1 div.sk-serial {display: flex;flex-direction: column;align-items: center;background-color: white;padding-right: 0.2em;padding-left: 0.2em;position: relative;}#sk-container-id-1 div.sk-item {position: relative;z-index: 1;}#sk-container-id-1 div.sk-parallel {display: flex;align-items: stretch;justify-content: center;background-color: white;position: relative;}#sk-container-id-1 div.sk-item::before, #sk-container-id-1 div.sk-parallel-item::before {content: \"\";position: absolute;border-left: 1px solid gray;box-sizing: border-box;top: 0;bottom: 0;left: 50%;z-index: -1;}#sk-container-id-1 div.sk-parallel-item {display: flex;flex-direction: column;z-index: 1;position: relative;background-color: white;}#sk-container-id-1 div.sk-parallel-item:first-child::after {align-self: flex-end;width: 50%;}#sk-container-id-1 div.sk-parallel-item:last-child::after {align-self: flex-start;width: 50%;}#sk-container-id-1 div.sk-parallel-item:only-child::after {width: 0;}#sk-container-id-1 div.sk-dashed-wrapped {border: 1px dashed gray;margin: 0 0.4em 0.5em 0.4em;box-sizing: border-box;padding-bottom: 0.4em;background-color: white;}#sk-container-id-1 div.sk-label label {font-family: monospace;font-weight: bold;display: inline-block;line-height: 1.2em;}#sk-container-id-1 div.sk-label-container {text-align: center;}#sk-container-id-1 div.sk-container {/* jupyter's `normalize.less` sets `[hidden] { display: none; }` but bootstrap.min.css set `[hidden] { display: none !important; }` so we also need the `!important` here to be able to override the default hidden behavior on the sphinx rendered scikit-learn.org. See: https://github.com/scikit-learn/scikit-learn/issues/21755 */display: inline-block !important;position: relative;}#sk-container-id-1 div.sk-text-repr-fallback {display: none;}</style><div id=\"sk-container-id-1\" class=\"sk-top-container\"><div class=\"sk-text-repr-fallback\"><pre>LinearRegression()</pre><b>In a Jupyter environment, please rerun this cell to show the HTML representation or trust the notebook. <br />On GitHub, the HTML representation is unable to render, please try loading this page with nbviewer.org.</b></div><div class=\"sk-container\" hidden><div class=\"sk-item\"><div class=\"sk-estimator sk-toggleable\"><input class=\"sk-toggleable__control sk-hidden--visually\" id=\"sk-estimator-id-1\" type=\"checkbox\" checked><label for=\"sk-estimator-id-1\" class=\"sk-toggleable__label sk-toggleable__label-arrow\">LinearRegression</label><div class=\"sk-toggleable__content\"><pre>LinearRegression()</pre></div></div></div></div></div>"
      ],
      "text/plain": [
       "LinearRegression()"
      ]
     },
     "execution_count": 65,
     "metadata": {},
     "output_type": "execute_result"
    }
   ],
   "source": [
    "from sklearn.linear_model import LinearRegression #importing all the required functions\n",
    "regressor = LinearRegression() # spredicted score = m * hours + c  \n",
    "\n",
    "regressor.fit(X_train, y_train) "
   ]
  },
  {
   "cell_type": "code",
   "execution_count": 66,
   "id": "6fa71ed0",
   "metadata": {},
   "outputs": [
    {
     "name": "stdout",
     "output_type": "stream",
     "text": [
      "10936698.562098073\n"
     ]
    }
   ],
   "source": [
    "print(regressor.intercept_) # c"
   ]
  },
  {
   "cell_type": "code",
   "execution_count": 67,
   "id": "3e000453",
   "metadata": {},
   "outputs": [
    {
     "name": "stdout",
     "output_type": "stream",
     "text": [
      "[ 1187068.31010745   622790.01344596 -1020707.53400418   116657.5514216\n",
      "  1533622.14940896   219256.35543503   504958.63820657  2071593.04154972\n",
      "   396427.02646214   858358.75681275   -17008.75778329   -11943.43856299\n",
      "    -4738.65820039    32308.14049854]\n"
     ]
    }
   ],
   "source": [
    "print(regressor.coef_) # 'AREA','INT_SQFT','N_BEDROOM','N_BATHROOM','N_ROOM','SALE_COND','PARK_FACIL','BUILDTYPE','STREET','MZZONE','QS_ROOMS','QS_BATHROOM','QS_BEDROOM','QS_OVERALL'"
   ]
  },
  {
   "cell_type": "code",
   "execution_count": 68,
   "id": "b9e62c0b",
   "metadata": {},
   "outputs": [
    {
     "data": {
      "text/html": [
       "<div>\n",
       "<style scoped>\n",
       "    .dataframe tbody tr th:only-of-type {\n",
       "        vertical-align: middle;\n",
       "    }\n",
       "\n",
       "    .dataframe tbody tr th {\n",
       "        vertical-align: top;\n",
       "    }\n",
       "\n",
       "    .dataframe thead th {\n",
       "        text-align: right;\n",
       "    }\n",
       "</style>\n",
       "<table border=\"1\" class=\"dataframe\">\n",
       "  <thead>\n",
       "    <tr style=\"text-align: right;\">\n",
       "      <th></th>\n",
       "      <th>Coefficient</th>\n",
       "    </tr>\n",
       "  </thead>\n",
       "  <tbody>\n",
       "    <tr>\n",
       "      <th>AREA</th>\n",
       "      <td>1.187068e+06</td>\n",
       "    </tr>\n",
       "    <tr>\n",
       "      <th>INT_SQFT</th>\n",
       "      <td>6.227900e+05</td>\n",
       "    </tr>\n",
       "    <tr>\n",
       "      <th>N_BEDROOM</th>\n",
       "      <td>-1.020708e+06</td>\n",
       "    </tr>\n",
       "    <tr>\n",
       "      <th>N_BATHROOM</th>\n",
       "      <td>1.166576e+05</td>\n",
       "    </tr>\n",
       "    <tr>\n",
       "      <th>N_ROOM</th>\n",
       "      <td>1.533622e+06</td>\n",
       "    </tr>\n",
       "    <tr>\n",
       "      <th>SALE_COND</th>\n",
       "      <td>2.192564e+05</td>\n",
       "    </tr>\n",
       "    <tr>\n",
       "      <th>PARK_FACIL</th>\n",
       "      <td>5.049586e+05</td>\n",
       "    </tr>\n",
       "    <tr>\n",
       "      <th>BUILDTYPE</th>\n",
       "      <td>2.071593e+06</td>\n",
       "    </tr>\n",
       "    <tr>\n",
       "      <th>STREET</th>\n",
       "      <td>3.964270e+05</td>\n",
       "    </tr>\n",
       "    <tr>\n",
       "      <th>MZZONE</th>\n",
       "      <td>8.583588e+05</td>\n",
       "    </tr>\n",
       "    <tr>\n",
       "      <th>QS_ROOMS</th>\n",
       "      <td>-1.700876e+04</td>\n",
       "    </tr>\n",
       "    <tr>\n",
       "      <th>QS_BATHROOM</th>\n",
       "      <td>-1.194344e+04</td>\n",
       "    </tr>\n",
       "    <tr>\n",
       "      <th>QS_BEDROOM</th>\n",
       "      <td>-4.738658e+03</td>\n",
       "    </tr>\n",
       "    <tr>\n",
       "      <th>QS_OVERALL</th>\n",
       "      <td>3.230814e+04</td>\n",
       "    </tr>\n",
       "  </tbody>\n",
       "</table>\n",
       "</div>"
      ],
      "text/plain": [
       "              Coefficient\n",
       "AREA         1.187068e+06\n",
       "INT_SQFT     6.227900e+05\n",
       "N_BEDROOM   -1.020708e+06\n",
       "N_BATHROOM   1.166576e+05\n",
       "N_ROOM       1.533622e+06\n",
       "SALE_COND    2.192564e+05\n",
       "PARK_FACIL   5.049586e+05\n",
       "BUILDTYPE    2.071593e+06\n",
       "STREET       3.964270e+05\n",
       "MZZONE       8.583588e+05\n",
       "QS_ROOMS    -1.700876e+04\n",
       "QS_BATHROOM -1.194344e+04\n",
       "QS_BEDROOM  -4.738658e+03\n",
       "QS_OVERALL   3.230814e+04"
      ]
     },
     "execution_count": 68,
     "metadata": {},
     "output_type": "execute_result"
    }
   ],
   "source": [
    "coeff_df=pd.DataFrame(regressor.coef_,['AREA','INT_SQFT','N_BEDROOM','N_BATHROOM','N_ROOM','SALE_COND','PARK_FACIL','BUILDTYPE',\n",
    "                                       'STREET','MZZONE','QS_ROOMS','QS_BATHROOM','QS_BEDROOM','QS_OVERALL'], columns=['Coefficient'])\n",
    "coeff_df"
   ]
  },
  {
   "cell_type": "code",
   "execution_count": 69,
   "id": "33244dea",
   "metadata": {},
   "outputs": [],
   "source": [
    "y_pred = regressor.predict(X_test) "
   ]
  },
  {
   "cell_type": "code",
   "execution_count": 70,
   "id": "8cfd229f",
   "metadata": {},
   "outputs": [
    {
     "data": {
      "text/html": [
       "<div>\n",
       "<style scoped>\n",
       "    .dataframe tbody tr th:only-of-type {\n",
       "        vertical-align: middle;\n",
       "    }\n",
       "\n",
       "    .dataframe tbody tr th {\n",
       "        vertical-align: top;\n",
       "    }\n",
       "\n",
       "    .dataframe thead th {\n",
       "        text-align: right;\n",
       "    }\n",
       "</style>\n",
       "<table border=\"1\" class=\"dataframe\">\n",
       "  <thead>\n",
       "    <tr style=\"text-align: right;\">\n",
       "      <th></th>\n",
       "      <th>Actual</th>\n",
       "      <th>Predicted</th>\n",
       "    </tr>\n",
       "  </thead>\n",
       "  <tbody>\n",
       "    <tr>\n",
       "      <th>3517</th>\n",
       "      <td>12544800</td>\n",
       "      <td>1.210546e+07</td>\n",
       "    </tr>\n",
       "    <tr>\n",
       "      <th>2663</th>\n",
       "      <td>11244250</td>\n",
       "      <td>1.238211e+07</td>\n",
       "    </tr>\n",
       "    <tr>\n",
       "      <th>5650</th>\n",
       "      <td>13081220</td>\n",
       "      <td>1.318155e+07</td>\n",
       "    </tr>\n",
       "    <tr>\n",
       "      <th>4354</th>\n",
       "      <td>10455360</td>\n",
       "      <td>1.131273e+07</td>\n",
       "    </tr>\n",
       "    <tr>\n",
       "      <th>4835</th>\n",
       "      <td>9786000</td>\n",
       "      <td>9.435356e+06</td>\n",
       "    </tr>\n",
       "    <tr>\n",
       "      <th>...</th>\n",
       "      <td>...</td>\n",
       "      <td>...</td>\n",
       "    </tr>\n",
       "    <tr>\n",
       "      <th>2957</th>\n",
       "      <td>7596170</td>\n",
       "      <td>8.345952e+06</td>\n",
       "    </tr>\n",
       "    <tr>\n",
       "      <th>1769</th>\n",
       "      <td>12807300</td>\n",
       "      <td>1.232881e+07</td>\n",
       "    </tr>\n",
       "    <tr>\n",
       "      <th>2129</th>\n",
       "      <td>8925160</td>\n",
       "      <td>1.046355e+07</td>\n",
       "    </tr>\n",
       "    <tr>\n",
       "      <th>6758</th>\n",
       "      <td>9896880</td>\n",
       "      <td>1.107866e+07</td>\n",
       "    </tr>\n",
       "    <tr>\n",
       "      <th>5194</th>\n",
       "      <td>13164420</td>\n",
       "      <td>1.362099e+07</td>\n",
       "    </tr>\n",
       "  </tbody>\n",
       "</table>\n",
       "<p>2133 rows × 2 columns</p>\n",
       "</div>"
      ],
      "text/plain": [
       "        Actual     Predicted\n",
       "3517  12544800  1.210546e+07\n",
       "2663  11244250  1.238211e+07\n",
       "5650  13081220  1.318155e+07\n",
       "4354  10455360  1.131273e+07\n",
       "4835   9786000  9.435356e+06\n",
       "...        ...           ...\n",
       "2957   7596170  8.345952e+06\n",
       "1769  12807300  1.232881e+07\n",
       "2129   8925160  1.046355e+07\n",
       "6758   9896880  1.107866e+07\n",
       "5194  13164420  1.362099e+07\n",
       "\n",
       "[2133 rows x 2 columns]"
      ]
     },
     "execution_count": 70,
     "metadata": {},
     "output_type": "execute_result"
    }
   ],
   "source": [
    "ldf = pd.DataFrame({'Actual': y_test, 'Predicted': y_pred})\n",
    "ldf"
   ]
  },
  {
   "cell_type": "code",
   "execution_count": 71,
   "id": "e06853a1",
   "metadata": {},
   "outputs": [
    {
     "name": "stdout",
     "output_type": "stream",
     "text": [
      "R2- SCORE: 0.91857430670033\n"
     ]
    }
   ],
   "source": [
    "from sklearn import metrics\n",
    "print('R2- SCORE:', metrics.r2_score(y_test,y_pred))"
   ]
  },
  {
   "cell_type": "code",
   "execution_count": 72,
   "id": "05237a03",
   "metadata": {},
   "outputs": [
    {
     "name": "stdout",
     "output_type": "stream",
     "text": [
      "             Feature Importance\n",
      "AREA                   0.034987\n",
      "INT_SQFT               0.226525\n",
      "N_BEDROOM              0.000000\n",
      "N_BATHROOM             0.000000\n",
      "N_ROOM                 0.017333\n",
      "SALE_COND              0.087704\n",
      "PARK_FACIL             0.064889\n",
      "BUILDTYPE              0.071440\n",
      "STREET                 0.017333\n",
      "MZZONE                 0.052753\n",
      "QS_ROOMS               0.174745\n",
      "QS_BATHROOM            0.056334\n",
      "QS_BEDROOM             0.142036\n",
      "QS_OVERALL             0.053921\n"
     ]
    }
   ],
   "source": [
    "from sklearn.tree import DecisionTreeClassifier\n",
    "dt = DecisionTreeClassifier(max_depth = 6)\n",
    "# Fit dt to the training set\n",
    "dt.fit(X_train, y_train)\n",
    "importance = dt.feature_importances_\n",
    "idf=pd.DataFrame(importance,['AREA','INT_SQFT','N_BEDROOM','N_BATHROOM','N_ROOM','SALE_COND','PARK_FACIL','BUILDTYPE',\n",
    "                                       'STREET','MZZONE','QS_ROOMS','QS_BATHROOM','QS_BEDROOM','QS_OVERALL'], columns=['Feature Importance'])\n",
    "print(idf)\n"
   ]
  },
  {
   "cell_type": "markdown",
   "id": "5d546a81",
   "metadata": {},
   "source": [
    "# PREDICTION USING DECISION TREE REGRESSOR"
   ]
  },
  {
   "cell_type": "code",
   "execution_count": 73,
   "id": "2c7caf4c",
   "metadata": {},
   "outputs": [],
   "source": [
    "from sklearn.tree import DecisionTreeRegressor\n",
    "\n",
    "# Instantiate dt\n",
    "dt = DecisionTreeRegressor()\n",
    "\n",
    "# Fit dt to the training set\n",
    "dt.fit(X_train, y_train)\n",
    "dy_pred=dt.predict(X_test)"
   ]
  },
  {
   "cell_type": "code",
   "execution_count": 74,
   "id": "2db71935",
   "metadata": {},
   "outputs": [
    {
     "data": {
      "text/html": [
       "<div>\n",
       "<style scoped>\n",
       "    .dataframe tbody tr th:only-of-type {\n",
       "        vertical-align: middle;\n",
       "    }\n",
       "\n",
       "    .dataframe tbody tr th {\n",
       "        vertical-align: top;\n",
       "    }\n",
       "\n",
       "    .dataframe thead th {\n",
       "        text-align: right;\n",
       "    }\n",
       "</style>\n",
       "<table border=\"1\" class=\"dataframe\">\n",
       "  <thead>\n",
       "    <tr style=\"text-align: right;\">\n",
       "      <th></th>\n",
       "      <th>Actual</th>\n",
       "      <th>Predicted</th>\n",
       "    </tr>\n",
       "  </thead>\n",
       "  <tbody>\n",
       "    <tr>\n",
       "      <th>3517</th>\n",
       "      <td>12544800</td>\n",
       "      <td>12038110.0</td>\n",
       "    </tr>\n",
       "    <tr>\n",
       "      <th>2663</th>\n",
       "      <td>11244250</td>\n",
       "      <td>12252250.0</td>\n",
       "    </tr>\n",
       "    <tr>\n",
       "      <th>5650</th>\n",
       "      <td>13081220</td>\n",
       "      <td>13715380.0</td>\n",
       "    </tr>\n",
       "    <tr>\n",
       "      <th>4354</th>\n",
       "      <td>10455360</td>\n",
       "      <td>10630800.0</td>\n",
       "    </tr>\n",
       "    <tr>\n",
       "      <th>4835</th>\n",
       "      <td>9786000</td>\n",
       "      <td>8539250.0</td>\n",
       "    </tr>\n",
       "    <tr>\n",
       "      <th>...</th>\n",
       "      <td>...</td>\n",
       "      <td>...</td>\n",
       "    </tr>\n",
       "    <tr>\n",
       "      <th>2957</th>\n",
       "      <td>7596170</td>\n",
       "      <td>8027540.0</td>\n",
       "    </tr>\n",
       "    <tr>\n",
       "      <th>1769</th>\n",
       "      <td>12807300</td>\n",
       "      <td>13144050.0</td>\n",
       "    </tr>\n",
       "    <tr>\n",
       "      <th>2129</th>\n",
       "      <td>8925160</td>\n",
       "      <td>9478820.0</td>\n",
       "    </tr>\n",
       "    <tr>\n",
       "      <th>6758</th>\n",
       "      <td>9896880</td>\n",
       "      <td>9218040.0</td>\n",
       "    </tr>\n",
       "    <tr>\n",
       "      <th>5194</th>\n",
       "      <td>13164420</td>\n",
       "      <td>13267610.0</td>\n",
       "    </tr>\n",
       "  </tbody>\n",
       "</table>\n",
       "<p>2133 rows × 2 columns</p>\n",
       "</div>"
      ],
      "text/plain": [
       "        Actual   Predicted\n",
       "3517  12544800  12038110.0\n",
       "2663  11244250  12252250.0\n",
       "5650  13081220  13715380.0\n",
       "4354  10455360  10630800.0\n",
       "4835   9786000   8539250.0\n",
       "...        ...         ...\n",
       "2957   7596170   8027540.0\n",
       "1769  12807300  13144050.0\n",
       "2129   8925160   9478820.0\n",
       "6758   9896880   9218040.0\n",
       "5194  13164420  13267610.0\n",
       "\n",
       "[2133 rows x 2 columns]"
      ]
     },
     "execution_count": 74,
     "metadata": {},
     "output_type": "execute_result"
    }
   ],
   "source": [
    "decisiontree_prediction=pd.DataFrame({'Actual': y_test, 'Predicted': dy_pred})\n",
    "decisiontree_prediction"
   ]
  },
  {
   "cell_type": "code",
   "execution_count": 75,
   "id": "848465f2",
   "metadata": {},
   "outputs": [
    {
     "name": "stdout",
     "output_type": "stream",
     "text": [
      "r2_score of decision regressor : 0.9627718494174824\n"
     ]
    }
   ],
   "source": [
    "from sklearn.metrics import  r2_score\n",
    "\n",
    "# Compute y_pred\n",
    "dy_pred = dt.predict(X_test)\n",
    "\n",
    "# Compute mse_dt\n",
    "rsquared = r2_score(y_test,dy_pred)\n",
    "# Compute rmse_dt\n",
    "print('r2_score of decision regressor :',rsquared)\n",
    "\n",
    "# Print rmse_dt\n",
    "#print(\"Test set R2 of dt: {:.2f}\".format(rsquared))"
   ]
  },
  {
   "cell_type": "markdown",
   "id": "e115b196",
   "metadata": {},
   "source": [
    "# PREDICTION USING USING RANDOM FOREST REGRESSOR"
   ]
  },
  {
   "cell_type": "code",
   "execution_count": 76,
   "id": "66172be7",
   "metadata": {},
   "outputs": [
    {
     "data": {
      "text/html": [
       "<style>#sk-container-id-2 {color: black;background-color: white;}#sk-container-id-2 pre{padding: 0;}#sk-container-id-2 div.sk-toggleable {background-color: white;}#sk-container-id-2 label.sk-toggleable__label {cursor: pointer;display: block;width: 100%;margin-bottom: 0;padding: 0.3em;box-sizing: border-box;text-align: center;}#sk-container-id-2 label.sk-toggleable__label-arrow:before {content: \"▸\";float: left;margin-right: 0.25em;color: #696969;}#sk-container-id-2 label.sk-toggleable__label-arrow:hover:before {color: black;}#sk-container-id-2 div.sk-estimator:hover label.sk-toggleable__label-arrow:before {color: black;}#sk-container-id-2 div.sk-toggleable__content {max-height: 0;max-width: 0;overflow: hidden;text-align: left;background-color: #f0f8ff;}#sk-container-id-2 div.sk-toggleable__content pre {margin: 0.2em;color: black;border-radius: 0.25em;background-color: #f0f8ff;}#sk-container-id-2 input.sk-toggleable__control:checked~div.sk-toggleable__content {max-height: 200px;max-width: 100%;overflow: auto;}#sk-container-id-2 input.sk-toggleable__control:checked~label.sk-toggleable__label-arrow:before {content: \"▾\";}#sk-container-id-2 div.sk-estimator input.sk-toggleable__control:checked~label.sk-toggleable__label {background-color: #d4ebff;}#sk-container-id-2 div.sk-label input.sk-toggleable__control:checked~label.sk-toggleable__label {background-color: #d4ebff;}#sk-container-id-2 input.sk-hidden--visually {border: 0;clip: rect(1px 1px 1px 1px);clip: rect(1px, 1px, 1px, 1px);height: 1px;margin: -1px;overflow: hidden;padding: 0;position: absolute;width: 1px;}#sk-container-id-2 div.sk-estimator {font-family: monospace;background-color: #f0f8ff;border: 1px dotted black;border-radius: 0.25em;box-sizing: border-box;margin-bottom: 0.5em;}#sk-container-id-2 div.sk-estimator:hover {background-color: #d4ebff;}#sk-container-id-2 div.sk-parallel-item::after {content: \"\";width: 100%;border-bottom: 1px solid gray;flex-grow: 1;}#sk-container-id-2 div.sk-label:hover label.sk-toggleable__label {background-color: #d4ebff;}#sk-container-id-2 div.sk-serial::before {content: \"\";position: absolute;border-left: 1px solid gray;box-sizing: border-box;top: 0;bottom: 0;left: 50%;z-index: 0;}#sk-container-id-2 div.sk-serial {display: flex;flex-direction: column;align-items: center;background-color: white;padding-right: 0.2em;padding-left: 0.2em;position: relative;}#sk-container-id-2 div.sk-item {position: relative;z-index: 1;}#sk-container-id-2 div.sk-parallel {display: flex;align-items: stretch;justify-content: center;background-color: white;position: relative;}#sk-container-id-2 div.sk-item::before, #sk-container-id-2 div.sk-parallel-item::before {content: \"\";position: absolute;border-left: 1px solid gray;box-sizing: border-box;top: 0;bottom: 0;left: 50%;z-index: -1;}#sk-container-id-2 div.sk-parallel-item {display: flex;flex-direction: column;z-index: 1;position: relative;background-color: white;}#sk-container-id-2 div.sk-parallel-item:first-child::after {align-self: flex-end;width: 50%;}#sk-container-id-2 div.sk-parallel-item:last-child::after {align-self: flex-start;width: 50%;}#sk-container-id-2 div.sk-parallel-item:only-child::after {width: 0;}#sk-container-id-2 div.sk-dashed-wrapped {border: 1px dashed gray;margin: 0 0.4em 0.5em 0.4em;box-sizing: border-box;padding-bottom: 0.4em;background-color: white;}#sk-container-id-2 div.sk-label label {font-family: monospace;font-weight: bold;display: inline-block;line-height: 1.2em;}#sk-container-id-2 div.sk-label-container {text-align: center;}#sk-container-id-2 div.sk-container {/* jupyter's `normalize.less` sets `[hidden] { display: none; }` but bootstrap.min.css set `[hidden] { display: none !important; }` so we also need the `!important` here to be able to override the default hidden behavior on the sphinx rendered scikit-learn.org. See: https://github.com/scikit-learn/scikit-learn/issues/21755 */display: inline-block !important;position: relative;}#sk-container-id-2 div.sk-text-repr-fallback {display: none;}</style><div id=\"sk-container-id-2\" class=\"sk-top-container\"><div class=\"sk-text-repr-fallback\"><pre>RandomForestRegressor(random_state=0)</pre><b>In a Jupyter environment, please rerun this cell to show the HTML representation or trust the notebook. <br />On GitHub, the HTML representation is unable to render, please try loading this page with nbviewer.org.</b></div><div class=\"sk-container\" hidden><div class=\"sk-item\"><div class=\"sk-estimator sk-toggleable\"><input class=\"sk-toggleable__control sk-hidden--visually\" id=\"sk-estimator-id-2\" type=\"checkbox\" checked><label for=\"sk-estimator-id-2\" class=\"sk-toggleable__label sk-toggleable__label-arrow\">RandomForestRegressor</label><div class=\"sk-toggleable__content\"><pre>RandomForestRegressor(random_state=0)</pre></div></div></div></div></div>"
      ],
      "text/plain": [
       "RandomForestRegressor(random_state=0)"
      ]
     },
     "execution_count": 76,
     "metadata": {},
     "output_type": "execute_result"
    }
   ],
   "source": [
    "# Fitting Random Forest Regression to the dataset\n",
    "# import the regressor\n",
    "from sklearn.ensemble import RandomForestRegressor\n",
    "  \n",
    " # create regressor object\n",
    "regressor = RandomForestRegressor(n_estimators = 100, random_state = 0)\n",
    "  \n",
    "# fit the regressor with x and y data\n",
    "regressor.fit(X_train, y_train)  "
   ]
  },
  {
   "cell_type": "code",
   "execution_count": 77,
   "id": "0847c34d",
   "metadata": {},
   "outputs": [],
   "source": [
    "dy1_pred=regressor.predict(X_test)"
   ]
  },
  {
   "cell_type": "code",
   "execution_count": 78,
   "id": "9322348e",
   "metadata": {},
   "outputs": [
    {
     "data": {
      "text/plain": [
       "array([11863736.2, 11886737.5, 13544381.7, ...,  9204962.6,  9824981. ,\n",
       "       13195119.9])"
      ]
     },
     "execution_count": 78,
     "metadata": {},
     "output_type": "execute_result"
    }
   ],
   "source": [
    "dy1_pred"
   ]
  },
  {
   "cell_type": "code",
   "execution_count": 79,
   "id": "50ff743e",
   "metadata": {},
   "outputs": [
    {
     "data": {
      "text/html": [
       "<div>\n",
       "<style scoped>\n",
       "    .dataframe tbody tr th:only-of-type {\n",
       "        vertical-align: middle;\n",
       "    }\n",
       "\n",
       "    .dataframe tbody tr th {\n",
       "        vertical-align: top;\n",
       "    }\n",
       "\n",
       "    .dataframe thead th {\n",
       "        text-align: right;\n",
       "    }\n",
       "</style>\n",
       "<table border=\"1\" class=\"dataframe\">\n",
       "  <thead>\n",
       "    <tr style=\"text-align: right;\">\n",
       "      <th></th>\n",
       "      <th>Actual</th>\n",
       "      <th>Predicted</th>\n",
       "    </tr>\n",
       "  </thead>\n",
       "  <tbody>\n",
       "    <tr>\n",
       "      <th>3517</th>\n",
       "      <td>12544800</td>\n",
       "      <td>11863736.20</td>\n",
       "    </tr>\n",
       "    <tr>\n",
       "      <th>2663</th>\n",
       "      <td>11244250</td>\n",
       "      <td>11886737.50</td>\n",
       "    </tr>\n",
       "    <tr>\n",
       "      <th>5650</th>\n",
       "      <td>13081220</td>\n",
       "      <td>13544381.70</td>\n",
       "    </tr>\n",
       "    <tr>\n",
       "      <th>4354</th>\n",
       "      <td>10455360</td>\n",
       "      <td>10630494.80</td>\n",
       "    </tr>\n",
       "    <tr>\n",
       "      <th>4835</th>\n",
       "      <td>9786000</td>\n",
       "      <td>8786802.50</td>\n",
       "    </tr>\n",
       "    <tr>\n",
       "      <th>...</th>\n",
       "      <td>...</td>\n",
       "      <td>...</td>\n",
       "    </tr>\n",
       "    <tr>\n",
       "      <th>2957</th>\n",
       "      <td>7596170</td>\n",
       "      <td>8248207.90</td>\n",
       "    </tr>\n",
       "    <tr>\n",
       "      <th>1769</th>\n",
       "      <td>12807300</td>\n",
       "      <td>12929372.35</td>\n",
       "    </tr>\n",
       "    <tr>\n",
       "      <th>2129</th>\n",
       "      <td>8925160</td>\n",
       "      <td>9204962.60</td>\n",
       "    </tr>\n",
       "    <tr>\n",
       "      <th>6758</th>\n",
       "      <td>9896880</td>\n",
       "      <td>9824981.00</td>\n",
       "    </tr>\n",
       "    <tr>\n",
       "      <th>5194</th>\n",
       "      <td>13164420</td>\n",
       "      <td>13195119.90</td>\n",
       "    </tr>\n",
       "  </tbody>\n",
       "</table>\n",
       "<p>2133 rows × 2 columns</p>\n",
       "</div>"
      ],
      "text/plain": [
       "        Actual    Predicted\n",
       "3517  12544800  11863736.20\n",
       "2663  11244250  11886737.50\n",
       "5650  13081220  13544381.70\n",
       "4354  10455360  10630494.80\n",
       "4835   9786000   8786802.50\n",
       "...        ...          ...\n",
       "2957   7596170   8248207.90\n",
       "1769  12807300  12929372.35\n",
       "2129   8925160   9204962.60\n",
       "6758   9896880   9824981.00\n",
       "5194  13164420  13195119.90\n",
       "\n",
       "[2133 rows x 2 columns]"
      ]
     },
     "execution_count": 79,
     "metadata": {},
     "output_type": "execute_result"
    }
   ],
   "source": [
    "decisiontree_prediction=pd.DataFrame({'Actual': y_test, 'Predicted': dy1_pred})\n",
    "decisiontree_prediction"
   ]
  },
  {
   "cell_type": "code",
   "execution_count": 80,
   "id": "94705a77",
   "metadata": {},
   "outputs": [
    {
     "name": "stdout",
     "output_type": "stream",
     "text": [
      "r2_score of RANDOM FOREST  regressor : 0.9845544037404975\n"
     ]
    }
   ],
   "source": [
    "from sklearn.metrics import  r2_score\n",
    "\n",
    "# Compute y_pred\n",
    "dy1_pred = regressor.predict(X_test)\n",
    "\n",
    "# Compute mse_dt\n",
    "random_forest_regressor_score = r2_score(y_test,dy1_pred)\n",
    "# Compute rmse_dt\n",
    "print('r2_score of RANDOM FOREST  regressor :',random_forest_regressor_score)\n",
    "\n",
    "# Print rmse_dt\n",
    "#print(\"Test set R2 of dt: {:.2f}\".format(rsquared))"
   ]
  },
  {
   "cell_type": "markdown",
   "id": "98133d30",
   "metadata": {},
   "source": [
    "# PREDICTION USING XGBRegressor"
   ]
  },
  {
   "cell_type": "code",
   "execution_count": 82,
   "id": "d2b2b31d",
   "metadata": {},
   "outputs": [],
   "source": [
    "import xgboost "
   ]
  },
  {
   "cell_type": "code",
   "execution_count": 86,
   "id": "904c65a2",
   "metadata": {},
   "outputs": [
    {
     "name": "stdout",
     "output_type": "stream",
     "text": [
      "[10:56:09] WARNING: C:/Users/administrator/workspace/xgboost-win64_release_1.6.0/src/objective/regression_obj.cu:203: reg:linear is now deprecated in favor of reg:squarederror.\n"
     ]
    },
    {
     "data": {
      "text/html": [
       "<div>\n",
       "<style scoped>\n",
       "    .dataframe tbody tr th:only-of-type {\n",
       "        vertical-align: middle;\n",
       "    }\n",
       "\n",
       "    .dataframe tbody tr th {\n",
       "        vertical-align: top;\n",
       "    }\n",
       "\n",
       "    .dataframe thead th {\n",
       "        text-align: right;\n",
       "    }\n",
       "</style>\n",
       "<table border=\"1\" class=\"dataframe\">\n",
       "  <thead>\n",
       "    <tr style=\"text-align: right;\">\n",
       "      <th></th>\n",
       "      <th>Actual</th>\n",
       "      <th>Predicted</th>\n",
       "    </tr>\n",
       "  </thead>\n",
       "  <tbody>\n",
       "    <tr>\n",
       "      <th>3517</th>\n",
       "      <td>12544800</td>\n",
       "      <td>11368899.0</td>\n",
       "    </tr>\n",
       "    <tr>\n",
       "      <th>2663</th>\n",
       "      <td>11244250</td>\n",
       "      <td>10927705.0</td>\n",
       "    </tr>\n",
       "    <tr>\n",
       "      <th>5650</th>\n",
       "      <td>13081220</td>\n",
       "      <td>12933392.0</td>\n",
       "    </tr>\n",
       "    <tr>\n",
       "      <th>4354</th>\n",
       "      <td>10455360</td>\n",
       "      <td>10568798.0</td>\n",
       "    </tr>\n",
       "    <tr>\n",
       "      <th>4835</th>\n",
       "      <td>9786000</td>\n",
       "      <td>9100518.0</td>\n",
       "    </tr>\n",
       "    <tr>\n",
       "      <th>...</th>\n",
       "      <td>...</td>\n",
       "      <td>...</td>\n",
       "    </tr>\n",
       "    <tr>\n",
       "      <th>2957</th>\n",
       "      <td>7596170</td>\n",
       "      <td>7476209.5</td>\n",
       "    </tr>\n",
       "    <tr>\n",
       "      <th>1769</th>\n",
       "      <td>12807300</td>\n",
       "      <td>12602765.0</td>\n",
       "    </tr>\n",
       "    <tr>\n",
       "      <th>2129</th>\n",
       "      <td>8925160</td>\n",
       "      <td>8908652.0</td>\n",
       "    </tr>\n",
       "    <tr>\n",
       "      <th>6758</th>\n",
       "      <td>9896880</td>\n",
       "      <td>9699678.0</td>\n",
       "    </tr>\n",
       "    <tr>\n",
       "      <th>5194</th>\n",
       "      <td>13164420</td>\n",
       "      <td>12898066.0</td>\n",
       "    </tr>\n",
       "  </tbody>\n",
       "</table>\n",
       "<p>2133 rows × 2 columns</p>\n",
       "</div>"
      ],
      "text/plain": [
       "        Actual   Predicted\n",
       "3517  12544800  11368899.0\n",
       "2663  11244250  10927705.0\n",
       "5650  13081220  12933392.0\n",
       "4354  10455360  10568798.0\n",
       "4835   9786000   9100518.0\n",
       "...        ...         ...\n",
       "2957   7596170   7476209.5\n",
       "1769  12807300  12602765.0\n",
       "2129   8925160   8908652.0\n",
       "6758   9896880   9699678.0\n",
       "5194  13164420  12898066.0\n",
       "\n",
       "[2133 rows x 2 columns]"
      ]
     },
     "execution_count": 86,
     "metadata": {},
     "output_type": "execute_result"
    }
   ],
   "source": [
    "\n",
    "import xgboost as xg\n",
    "\n",
    "from sklearn.metrics import mean_squared_error as MSE\n",
    "  \n",
    "\n",
    "xgb_r = xg.XGBRegressor(objective ='reg:linear',\n",
    "                  n_estimators = 10, seed = 123)\n",
    "  \n",
    "# Fitting the model\n",
    "xgb_r.fit(X_train, y_train)\n",
    "  \n",
    "# Predict the model\n",
    "pred = xgb_r.predict(X_test)\n",
    "  \n",
    "xgbooster_prediction=pd.DataFrame({'Actual': y_test, 'Predicted': pred})\n",
    "xgbooster_prediction\n",
    "\n"
   ]
  },
  {
   "cell_type": "code",
   "execution_count": 88,
   "id": "ba9a118d",
   "metadata": {},
   "outputs": [
    {
     "name": "stdout",
     "output_type": "stream",
     "text": [
      "r2_score of RANDOM FOREST  regressor : 0.9742579607632595\n"
     ]
    }
   ],
   "source": [
    "# Compute r2 of xg booster\n",
    "xgbooster_score = r2_score(y_test,pred)\n",
    "\n",
    "print('r2_score of RANDOM FOREST  regressor :',xgbooster_score)"
   ]
  },
  {
   "cell_type": "code",
   "execution_count": 89,
   "id": "d426a069",
   "metadata": {},
   "outputs": [
    {
     "name": "stdout",
     "output_type": "stream",
     "text": [
      "RMSE :  599135.469559\n"
     ]
    }
   ],
   "source": [
    "# RMSE Computation\n",
    "rmse = np.sqrt(MSE(y_test, pred))\n",
    "print(\"RMSE : % f\" %(rmse))"
   ]
  },
  {
   "cell_type": "code",
   "execution_count": null,
   "id": "6e998cdd",
   "metadata": {},
   "outputs": [],
   "source": []
  }
 ],
 "metadata": {
  "kernelspec": {
   "display_name": "Python 3 (ipykernel)",
   "language": "python",
   "name": "python3"
  },
  "language_info": {
   "codemirror_mode": {
    "name": "ipython",
    "version": 3
   },
   "file_extension": ".py",
   "mimetype": "text/x-python",
   "name": "python",
   "nbconvert_exporter": "python",
   "pygments_lexer": "ipython3",
   "version": "3.9.5"
  }
 },
 "nbformat": 4,
 "nbformat_minor": 5
}
